{
  "nbformat": 4,
  "nbformat_minor": 0,
  "metadata": {
    "colab": {
      "provenance": [],
      "authorship_tag": "ABX9TyMXruRlgsMPnx92irnZEUwJ",
      "include_colab_link": true
    },
    "kernelspec": {
      "name": "python3",
      "display_name": "Python 3"
    },
    "language_info": {
      "name": "python"
    }
  },
  "cells": [
    {
      "cell_type": "markdown",
      "metadata": {
        "id": "view-in-github",
        "colab_type": "text"
      },
      "source": [
        "<a href=\"https://colab.research.google.com/github/Nawin03-DS/Python-Notes/blob/main/Bank_Customer_Project.ipynb\" target=\"_parent\"><img src=\"https://colab.research.google.com/assets/colab-badge.svg\" alt=\"Open In Colab\"/></a>"
      ]
    },
    {
      "cell_type": "code",
      "source": [
        "!pip install ipython-sql\n",
        "%load_ext sql"
      ],
      "metadata": {
        "colab": {
          "base_uri": "https://localhost:8080/"
        },
        "id": "sMBKG4_Gu6xX",
        "outputId": "cc3c12fc-b113-4683-83e0-40036b4ada8c"
      },
      "execution_count": null,
      "outputs": [
        {
          "output_type": "stream",
          "name": "stdout",
          "text": [
            "Requirement already satisfied: ipython-sql in /usr/local/lib/python3.11/dist-packages (0.5.0)\n",
            "Requirement already satisfied: prettytable in /usr/local/lib/python3.11/dist-packages (from ipython-sql) (3.16.0)\n",
            "Requirement already satisfied: ipython in /usr/local/lib/python3.11/dist-packages (from ipython-sql) (7.34.0)\n",
            "Requirement already satisfied: sqlalchemy>=2.0 in /usr/local/lib/python3.11/dist-packages (from ipython-sql) (2.0.41)\n",
            "Requirement already satisfied: sqlparse in /usr/local/lib/python3.11/dist-packages (from ipython-sql) (0.5.3)\n",
            "Requirement already satisfied: six in /usr/local/lib/python3.11/dist-packages (from ipython-sql) (1.17.0)\n",
            "Requirement already satisfied: ipython-genutils in /usr/local/lib/python3.11/dist-packages (from ipython-sql) (0.2.0)\n",
            "Requirement already satisfied: greenlet>=1 in /usr/local/lib/python3.11/dist-packages (from sqlalchemy>=2.0->ipython-sql) (3.2.2)\n",
            "Requirement already satisfied: typing-extensions>=4.6.0 in /usr/local/lib/python3.11/dist-packages (from sqlalchemy>=2.0->ipython-sql) (4.14.0)\n",
            "Requirement already satisfied: setuptools>=18.5 in /usr/local/lib/python3.11/dist-packages (from ipython->ipython-sql) (75.2.0)\n",
            "Collecting jedi>=0.16 (from ipython->ipython-sql)\n",
            "  Downloading jedi-0.19.2-py2.py3-none-any.whl.metadata (22 kB)\n",
            "Requirement already satisfied: decorator in /usr/local/lib/python3.11/dist-packages (from ipython->ipython-sql) (4.4.2)\n",
            "Requirement already satisfied: pickleshare in /usr/local/lib/python3.11/dist-packages (from ipython->ipython-sql) (0.7.5)\n",
            "Requirement already satisfied: traitlets>=4.2 in /usr/local/lib/python3.11/dist-packages (from ipython->ipython-sql) (5.7.1)\n",
            "Requirement already satisfied: prompt-toolkit!=3.0.0,!=3.0.1,<3.1.0,>=2.0.0 in /usr/local/lib/python3.11/dist-packages (from ipython->ipython-sql) (3.0.51)\n",
            "Requirement already satisfied: pygments in /usr/local/lib/python3.11/dist-packages (from ipython->ipython-sql) (2.19.1)\n",
            "Requirement already satisfied: backcall in /usr/local/lib/python3.11/dist-packages (from ipython->ipython-sql) (0.2.0)\n",
            "Requirement already satisfied: matplotlib-inline in /usr/local/lib/python3.11/dist-packages (from ipython->ipython-sql) (0.1.7)\n",
            "Requirement already satisfied: pexpect>4.3 in /usr/local/lib/python3.11/dist-packages (from ipython->ipython-sql) (4.9.0)\n",
            "Requirement already satisfied: wcwidth in /usr/local/lib/python3.11/dist-packages (from prettytable->ipython-sql) (0.2.13)\n",
            "Requirement already satisfied: parso<0.9.0,>=0.8.4 in /usr/local/lib/python3.11/dist-packages (from jedi>=0.16->ipython->ipython-sql) (0.8.4)\n",
            "Requirement already satisfied: ptyprocess>=0.5 in /usr/local/lib/python3.11/dist-packages (from pexpect>4.3->ipython->ipython-sql) (0.7.0)\n",
            "Downloading jedi-0.19.2-py2.py3-none-any.whl (1.6 MB)\n",
            "\u001b[2K   \u001b[90m━━━━━━━━━━━━━━━━━━━━━━━━━━━━━━━━━━━━━━━━\u001b[0m \u001b[32m1.6/1.6 MB\u001b[0m \u001b[31m17.1 MB/s\u001b[0m eta \u001b[36m0:00:00\u001b[0m\n",
            "\u001b[?25hInstalling collected packages: jedi\n",
            "Successfully installed jedi-0.19.2\n"
          ]
        }
      ]
    },
    {
      "cell_type": "code",
      "source": [
        "%sql sqlite:///your_database.db"
      ],
      "metadata": {
        "id": "bQ0eHZdi0f_X"
      },
      "execution_count": null,
      "outputs": []
    },
    {
      "cell_type": "markdown",
      "source": [
        "\n",
        "Question 1: Print customer Id, customer name and average account_balance maintained by each customer for all of his/her accounts in the bank. (8 Rows)"
      ],
      "metadata": {
        "id": "EfCKy-zFzjGQ"
      }
    },
    {
      "cell_type": "code",
      "source": [
        "SELECT\n",
        "  BC.customer_id,\n",
        "  BC.customer_name,\n",
        "  AVG(BAD.Balance_amount) AS average_account_balance\n",
        "FROM BANK_CUSTOMER AS BC\n",
        "JOIN Bank_Account_Details AS BAD\n",
        "  ON BC.customer_id = BAD.Customer_id\n",
        "GROUP BY\n",
        "  BC.customer_id,\n",
        "  BC.customer_name;"
      ],
      "metadata": {
        "id": "FC3-D-Vl2UI2"
      },
      "execution_count": null,
      "outputs": []
    },
    {
      "cell_type": "markdown",
      "source": [
        "Question 2: Print customer_id, account_number and balance_amount, condition that if balance_amount is nil then assign transaction_amount for account_type = \"Credit Card\" (4 Rows)"
      ],
      "metadata": {
        "id": "uCxTjD6kvnpe"
      }
    },
    {
      "cell_type": "code",
      "source": [
        "SELECT\n",
        "  BAD.Customer_id, -- Selects customer ID\n",
        "  BAD.Account_Number, -- Selects account number\n",
        "  CASE\n",
        "    WHEN (BAD.Balance_amount IS NULL OR BAD.Balance_amount = 0) AND (BAD.Account_type = 'Credit Card' OR BAD.Account_type = 'Add-on Credit Card') -- Checks for nil balance on credit cards\n",
        "    THEN (\n",
        "      SELECT\n",
        "        SUM(BAT.Transaction_amount) -- Sums transaction amounts if condition met\n",
        "      FROM BANK_ACCOUNT_TRANSACTION AS BAT\n",
        "      WHERE\n",
        "        BAT.Account_Number = BAD.Account_Number\n",
        "    )\n",
        "    ELSE BAD.Balance_amount -- Otherwise, keeps original balance\n",
        "  END AS final_balance_amount\n",
        "FROM Bank_Account_Details AS BAD -- From account details table\n",
        "WHERE\n",
        "  BAD.Account_type IN ('Credit Card', 'Add-on Credit Card'); -- Filters for Credit Card types"
      ],
      "metadata": {
        "id": "EqdC-MfBxHbZ"
      },
      "execution_count": null,
      "outputs": []
    },
    {
      "cell_type": "markdown",
      "source": [
        "Question 3: Print account_number and balance_amount, transaction_amount, Transaction_Date from Bank_Account_Details and bank_account_transaction for all the transactions occurred during march,2020 and april, 2020 (12 Rows)"
      ],
      "metadata": {
        "id": "vb6Zm4kQxUm5"
      }
    },
    {
      "cell_type": "code",
      "source": [
        "SELECT\n",
        "  BAD.Account_Number, -- Selects account number\n",
        "  BAD.Balance_amount, -- Selects balance amount\n",
        "  BAT.Transaction_amount, -- Selects transaction amount\n",
        "  BAT.Transaction_Date -- Selects transaction date\n",
        "FROM Bank_Account_Details AS BAD -- From account details table\n",
        "JOIN BANK_ACCOUNT_TRANSACTION AS BAT -- Joins with transaction table\n",
        "  ON BAD.Account_Number = BAT.Account_Number -- Links by account number\n",
        "WHERE\n",
        "  BAT.Transaction_Date BETWEEN '2020-03-01' AND '2020-04-30' -- Filters transactions between March 1, 2020 and April 30, 2020\n",
        "ORDER BY\n",
        "  BAT.Transaction_Date;"
      ],
      "metadata": {
        "id": "EvYMAtYvxbz5"
      },
      "execution_count": null,
      "outputs": []
    },
    {
      "cell_type": "markdown",
      "source": [
        "Question 4: Print all of the customer id, account number, balance_amount, transaction_amount , Transaction_Date from bank_customer, Bank_Account_Details and bank_account_transaction tables where excluding all of their transactions in march, 2020 month (22 Rows)"
      ],
      "metadata": {
        "id": "EA7zwLqGxg2P"
      }
    },
    {
      "cell_type": "code",
      "source": [
        "SELECT\n",
        "    bad.account_number,\n",
        "    bad.balance_amount,\n",
        "    bat.transaction_amount,\n",
        "    bat.transaction_date\n",
        "FROM\n",
        "    Bank_Account_Details bad\n",
        "JOIN\n",
        "    BANK_ACCOUNT_TRANSACTION bat\n",
        "    ON bad.account_number = bat.account_number\n",
        "WHERE\n",
        "    strftime('%Y-%m', bat.transaction_date) IN ('2020-03', '2020-04');"
      ],
      "metadata": {
        "id": "3ubncMQ80VZE"
      },
      "execution_count": null,
      "outputs": []
    },
    {
      "cell_type": "markdown",
      "source": [
        "Question 5: Print only the customer id, account_number, balance_amount,transaction_amount ,transaction_date who did transactions during the first quarter. Do not display the accounts if they have not done any transactions in the first quarter. (16 Rows)"
      ],
      "metadata": {
        "id": "FULQcBV_xpQS"
      }
    },
    {
      "cell_type": "code",
      "source": [
        "SELECT\n",
        "  BC.customer_id, -- Selects customer ID\n",
        "  BAD.Account_Number, -- Selects account number\n",
        "  BAD.Balance_amount, -- Selects balance amount\n",
        "  BAT.Transaction_amount, -- Selects transaction amount\n",
        "  BAT.Transaction_Date -- Selects transaction date\n",
        "FROM BANK_CUSTOMER AS BC -- From customer table\n",
        "JOIN Bank_Account_Details AS BAD -- Joins with account details\n",
        "  ON BC.customer_id = BAD.Customer_id -- Links by customer_id\n",
        "JOIN BANK_ACCOUNT_TRANSACTION AS BAT -- Inner Join ensures only accounts with transactions are included\n",
        "  ON BAD.Account_Number = BAT.Account_Number -- Links by account number\n",
        "WHERE\n",
        "  BAT.Transaction_Date BETWEEN '2020-01-01' AND '2020-03-31' -- Filters for transactions in the first quarter of 2020\n",
        "ORDER BY\n",
        "  BC.customer_id,\n",
        "  BAT.Transaction_Date;"
      ],
      "metadata": {
        "id": "T87gREfBxub0"
      },
      "execution_count": null,
      "outputs": []
    },
    {
      "cell_type": "markdown",
      "source": [
        "Question 6: Print account_number, Event and Customer_message from BANK_CUSTOMER_MESSAGES and Bank_Account_Details to display an “Adhoc\" Event for all customers who have “SAVINGS\" account_type account. (8 Rows)"
      ],
      "metadata": {
        "id": "MeScQkksxxkC"
      }
    },
    {
      "cell_type": "code",
      "source": [
        "SELECT\n",
        "  BAD.Account_Number, -- Selects account number\n",
        "  BCM.Event, -- Selects event type\n",
        "  BCM.Customer_message -- Selects customer message\n",
        "FROM Bank_Account_Details AS BAD -- From account details table\n",
        "CROSS JOIN BANK_CUSTOMER_MESSAGES AS BCM -- Cross joins as no direct link is specified, showing all \"Adhoc\" messages for all relevant accounts\n",
        "WHERE\n",
        "  BAD.Account_type = 'SAVINGS' AND BCM.Event = 'Adhoc'; -- Filters for SAVINGS accounts and 'Adhoc' events"
      ],
      "metadata": {
        "id": "ssI4n4cPx2FS"
      },
      "execution_count": null,
      "outputs": []
    },
    {
      "cell_type": "markdown",
      "source": [
        "Question 7: Print all Customer_id, Account_Number, Account_type, and display deducted balance_amount by subtracting only negative transaction_amounts for Relationship_type =\"P\" (P - means Primary , S - means Secondary ) . (27 Rows)"
      ],
      "metadata": {
        "id": "0soa5n5Rx5S8"
      }
    },
    {
      "cell_type": "code",
      "source": [
        "SELECT\n",
        "  BAD.Customer_id, -- Selects customer ID\n",
        "  BAD.Account_Number, -- Selects account number\n",
        "  BAD.Account_type, -- Selects account type\n",
        "  BAD.Balance_amount AS original_balance, -- Displays original balance for comparison\n",
        "  (BAD.Balance_amount + COALESCE(SUM(CASE WHEN BAT.Transaction_amount < 0 THEN BAT.Transaction_amount ELSE 0 END), 0)) AS deducted_balance_amount -- Calculates new balance by adding (subtracting negative) transaction amounts\n",
        "FROM Bank_Account_Details AS BAD -- From account details table\n",
        "LEFT JOIN BANK_ACCOUNT_TRANSACTION AS BAT -- Left join to include accounts even if they have no transactions\n",
        "  ON BAD.Account_Number = BAT.Account_Number -- Links by account number\n",
        "WHERE\n",
        "  BAD.Relationship_type = 'P' -- Filters for primary relationship types\n",
        "GROUP BY\n",
        "  BAD.Customer_id,\n",
        "  BAD.Account_Number,\n",
        "  BAD.Account_type,\n",
        "  BAD.Balance_amount -- Groups to apply SUM for each account\n",
        "ORDER BY\n",
        "  BAD.Customer_id,\n",
        "  BAD.Account_Number;"
      ],
      "metadata": {
        "id": "OqAsZrJax-xu"
      },
      "execution_count": null,
      "outputs": []
    },
    {
      "cell_type": "markdown",
      "source": [
        "Question 8: a) Display records of All Accounts, their Account_types, the transaction amount. b) Along with first step, Display other columns with corresponding linking account number, account types (15 Rows)"
      ],
      "metadata": {
        "id": "atpnoIqByB24"
      }
    },
    {
      "cell_type": "code",
      "source": [
        "SELECT\n",
        "  BAD.Customer_id, -- Customer ID from account details\n",
        "  BAD.Account_Number AS Main_Account_Number, -- Main account number\n",
        "  BAD.Account_type AS Main_Account_Type, -- Main account type\n",
        "  BAT.Transaction_amount, -- Transaction amount for the main account\n",
        "  BAR.Linking_Account_Number, -- Linking account number from relationship details\n",
        "  (\n",
        "    SELECT\n",
        "      Account_type -- Subquery to get the account type of the linking account\n",
        "    FROM Bank_Account_Details\n",
        "    WHERE\n",
        "      Account_Number = BAR.Linking_Account_Number\n",
        "  ) AS Linking_Account_Type\n",
        "FROM Bank_Account_Details AS BAD -- From account details table\n",
        "LEFT JOIN BANK_ACCOUNT_TRANSACTION AS BAT -- Left join to include accounts even if they have no transactions\n",
        "  ON BAD.Account_Number = BAT.Account_Number -- Links by account number\n",
        "LEFT JOIN Bank_Account_Relationship_Details AS BAR -- Left join to include accounts even if they are not linked\n",
        "  ON BAD.Account_Number = BAR.Account_Number -- Links by account number\n",
        "ORDER BY\n",
        "  BAD.Customer_id,\n",
        "  Main_Account_Number;"
      ],
      "metadata": {
        "id": "F8IbifAvyF4i"
      },
      "execution_count": null,
      "outputs": []
    },
    {
      "cell_type": "markdown",
      "source": [
        "Question 9: a) Display records of All Accounts, their Account_types, the transaction amount. b) Along with first step, Display other columns with corresponding linking account number, account types c) After retrieving all records of accounts and their linked accounts, display the transaction amount of accounts appeared in another column. (26 Rows)"
      ],
      "metadata": {
        "id": "FARMdQ7eyI1z"
      }
    },
    {
      "cell_type": "code",
      "source": [
        "SELECT\n",
        "  BAD.Customer_id, -- Customer ID from account details\n",
        "  BAD.Account_Number AS Main_Account_Number, -- Main account number\n",
        "  BAD.Account_type AS Main_Account_Type, -- Main account type\n",
        "  BAT.Transaction_amount AS Main_Account_Transaction_Amount, -- Transaction amount for the main account\n",
        "  BAR.Linking_Account_Number, -- Linking account number from relationship details\n",
        "  (\n",
        "    SELECT\n",
        "      Account_type -- Subquery to get the account type of the linking account\n",
        "    FROM Bank_Account_Details\n",
        "    WHERE\n",
        "      Account_Number = BAR.Linking_Account_Number\n",
        "  ) AS Linking_Account_Type,\n",
        "  (\n",
        "    SELECT\n",
        "      SUM(LinkedBAT.Transaction_amount) -- Aggregate sum of transactions for the linked account\n",
        "    FROM BANK_ACCOUNT_TRANSACTION AS LinkedBAT\n",
        "    WHERE\n",
        "      LinkedBAT.Account_Number = BAR.Linking_Account_Number\n",
        "  ) AS Linked_Account_Transaction_Amount\n",
        "FROM Bank_Account_Details AS BAD -- From account details table\n",
        "LEFT JOIN BANK_ACCOUNT_TRANSACTION AS BAT -- Left join to include accounts even if they have no transactions\n",
        "  ON BAD.Account_Number = BAT.Account_Number -- Links by account number\n",
        "LEFT JOIN Bank_Account_Relationship_Details AS BAR -- Left join to include accounts even if they are not linked\n",
        "  ON BAD.Account_Number = BAR.Account_Number -- Links by account number\n",
        "ORDER BY\n",
        "  BAD.Customer_id,\n",
        "  Main_Account_Number;"
      ],
      "metadata": {
        "id": "bUOxg1LyyNYD"
      },
      "execution_count": null,
      "outputs": []
    },
    {
      "cell_type": "markdown",
      "source": [
        "Question 10: Display all saving account holders have “Add-on Credit Cards\" and “Credit cards\" (3 Rows)"
      ],
      "metadata": {
        "id": "PGAYWt-iyQt2"
      }
    },
    {
      "cell_type": "code",
      "source": [
        "SELECT DISTINCT\n",
        "  BC.customer_id, -- Selects distinct customer IDs\n",
        "  BC.customer_name -- Selects customer names\n",
        "FROM BANK_CUSTOMER AS BC -- From customer table\n",
        "JOIN Bank_Account_Details AS BAD_SAVINGS -- Join for SAVINGS account\n",
        "  ON BC.customer_id = BAD_SAVINGS.Customer_id\n",
        "  AND BAD_SAVINGS.Account_type = 'SAVINGS' -- Filters for SAVINGS accounts\n",
        "WHERE\n",
        "  EXISTS (\n",
        "    SELECT\n",
        "      1\n",
        "    FROM Bank_Account_Details AS BAD_CC -- Checks if the customer also has a 'Credit Card'\n",
        "    WHERE\n",
        "      BAD_CC.Customer_id = BC.customer_id AND BAD_CC.Account_type = 'Credit Card'\n",
        "  )\n",
        "  AND EXISTS (\n",
        "    SELECT\n",
        "      1\n",
        "    FROM Bank_Account_Details AS BAD_ADDON_CC -- Checks if the customer also has an 'Add-on Credit Card'\n",
        "    WHERE\n",
        "      BAD_ADDON_CC.Customer_id = BC.customer_id AND BAD_ADDON_CC.Account_type = 'Add-on Credit Card'\n",
        "  );"
      ],
      "metadata": {
        "id": "OZ1hkrG4yUTp"
      },
      "execution_count": null,
      "outputs": []
    },
    {
      "cell_type": "markdown",
      "source": [
        "\n",
        "Question 11: Display records of “SAVINGS” account linked with “Credit cards\" account_type and its credit aggregate sum of transaction amount. (1 Row)"
      ],
      "metadata": {
        "id": "lCFXLAHMyXJy"
      }
    },
    {
      "cell_type": "code",
      "source": [
        "SELECT\n",
        "  BAR.Linking_Account_Number AS Savings_Account_Number, -- The savings account number that is linked\n",
        "  BAD_Savings.Account_type AS Savings_Account_Type, -- The type of the savings account\n",
        "  BAR.Account_Number AS Credit_Card_Account_Number, -- The credit card account number\n",
        "  BAD_CreditCard.Account_type AS Credit_Card_Account_Type, -- The type of the credit card account\n",
        "  SUM(BAT.Transaction_amount) AS Total_Credit_Card_Transaction_Amount -- Sum of transactions for the linked credit card\n",
        "FROM Bank_Account_Relationship_Details AS BAR -- From relationship details table\n",
        "JOIN Bank_Account_Details AS BAD_Savings -- Join to get details of the SAVINGS account (the linked account)\n",
        "  ON BAR.Linking_Account_Number = BAD_Savings.Account_Number\n",
        "  AND BAD_Savings.Account_type = 'SAVINGS' -- Filters for SAVINGS account type\n",
        "JOIN Bank_Account_Details AS BAD_CreditCard -- Join to get details of the Credit Card account (the main account in relationship)\n",
        "  ON BAR.Account_Number = BAD_CreditCard.Account_Number\n",
        "  AND (\n",
        "    BAD_CreditCard.Account_type = 'Credit Card' OR BAD_CreditCard.Account_type = 'Add-on Credit Card'\n",
        "  ) -- Filters for Credit Card types\n",
        "LEFT JOIN BANK_ACCOUNT_TRANSACTION AS BAT -- Left join to get transactions for the Credit Card\n",
        "  ON BAR.Account_Number = BAT.Account_Number -- Links by account number\n",
        "GROUP BY\n",
        "  BAR.Linking_Account_Number,\n",
        "  BAD_Savings.Account_type,\n",
        "  BAR.Account_Number,\n",
        "  BAD_CreditCard.Account_type;"
      ],
      "metadata": {
        "id": "xHKMHXc8ybEC"
      },
      "execution_count": null,
      "outputs": []
    }
  ]
}