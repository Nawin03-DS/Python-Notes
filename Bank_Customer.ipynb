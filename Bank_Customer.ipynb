{
  "nbformat": 4,
  "nbformat_minor": 0,
  "metadata": {
    "colab": {
      "provenance": [],
      "authorship_tag": "ABX9TyM1p5QXvZwk4lmbwRSE+lx2",
      "include_colab_link": true
    },
    "kernelspec": {
      "name": "python3",
      "display_name": "Python 3"
    },
    "language_info": {
      "name": "python"
    }
  },
  "cells": [
    {
      "cell_type": "markdown",
      "metadata": {
        "id": "view-in-github",
        "colab_type": "text"
      },
      "source": [
        "<a href=\"https://colab.research.google.com/github/Nawin03-DS/Python-Notes/blob/main/Bank_Customer.ipynb\" target=\"_parent\"><img src=\"https://colab.research.google.com/assets/colab-badge.svg\" alt=\"Open In Colab\"/></a>"
      ]
    },
    {
      "cell_type": "code",
      "source": [
        "from google.colab import drive\n",
        "# Attempt to mount the drive again.\n",
        "drive.mount('/content/drive')"
      ],
      "metadata": {
        "colab": {
          "base_uri": "https://localhost:8080/"
        },
        "id": "nUe9OWUtnzvr",
        "outputId": "e1e01207-af85-480f-a4e9-6dc7d8ecd208"
      },
      "execution_count": null,
      "outputs": [
        {
          "output_type": "stream",
          "name": "stdout",
          "text": [
            "Mounted at /content/drive\n"
          ]
        }
      ]
    },
    {
      "cell_type": "code",
      "source": [
        "!apt-get install sqlite3\n",
        "!pip install pandas"
      ],
      "metadata": {
        "colab": {
          "base_uri": "https://localhost:8080/"
        },
        "id": "gc3mGxGvnmAb",
        "outputId": "10328a5f-82ef-4006-b9fa-f89575d3a592"
      },
      "execution_count": null,
      "outputs": [
        {
          "output_type": "stream",
          "name": "stdout",
          "text": [
            "Reading package lists... Done\n",
            "Building dependency tree... Done\n",
            "Reading state information... Done\n",
            "Suggested packages:\n",
            "  sqlite3-doc\n",
            "The following NEW packages will be installed:\n",
            "  sqlite3\n",
            "0 upgraded, 1 newly installed, 0 to remove and 35 not upgraded.\n",
            "Need to get 769 kB of archives.\n",
            "After this operation, 1,873 kB of additional disk space will be used.\n",
            "Get:1 http://archive.ubuntu.com/ubuntu jammy-updates/main amd64 sqlite3 amd64 3.37.2-2ubuntu0.4 [769 kB]\n",
            "Fetched 769 kB in 1s (562 kB/s)\n",
            "Selecting previously unselected package sqlite3.\n",
            "(Reading database ... 126111 files and directories currently installed.)\n",
            "Preparing to unpack .../sqlite3_3.37.2-2ubuntu0.4_amd64.deb ...\n",
            "Unpacking sqlite3 (3.37.2-2ubuntu0.4) ...\n",
            "Setting up sqlite3 (3.37.2-2ubuntu0.4) ...\n",
            "Processing triggers for man-db (2.10.2-1) ...\n",
            "Requirement already satisfied: pandas in /usr/local/lib/python3.11/dist-packages (2.2.2)\n",
            "Requirement already satisfied: numpy>=1.23.2 in /usr/local/lib/python3.11/dist-packages (from pandas) (2.0.2)\n",
            "Requirement already satisfied: python-dateutil>=2.8.2 in /usr/local/lib/python3.11/dist-packages (from pandas) (2.9.0.post0)\n",
            "Requirement already satisfied: pytz>=2020.1 in /usr/local/lib/python3.11/dist-packages (from pandas) (2025.2)\n",
            "Requirement already satisfied: tzdata>=2022.7 in /usr/local/lib/python3.11/dist-packages (from pandas) (2025.2)\n",
            "Requirement already satisfied: six>=1.5 in /usr/local/lib/python3.11/dist-packages (from python-dateutil>=2.8.2->pandas) (1.17.0)\n"
          ]
        }
      ]
    },
    {
      "cell_type": "code",
      "source": [
        "import sqlite3\n",
        "import pandas as pd\n",
        "import os"
      ],
      "metadata": {
        "id": "1TW0-Ls-oDo2"
      },
      "execution_count": null,
      "outputs": []
    },
    {
      "cell_type": "code",
      "source": [
        "conn = sqlite3.connect(\"my_database.db\")"
      ],
      "metadata": {
        "id": "lfruIVtGoKPF"
      },
      "execution_count": null,
      "outputs": []
    },
    {
      "cell_type": "code",
      "source": [
        "# Define the correct path for the database\n",
        "db_path = \"/content/drive/MyDrive/my_database.db\""
      ],
      "metadata": {
        "id": "qV-L1uV1oLg4"
      },
      "execution_count": null,
      "outputs": []
    },
    {
      "cell_type": "code",
      "source": [
        "db_folder = \"/content/drive/MyDrive/SQLiteDB\"\n",
        "os.makedirs(db_folder, exist_ok=True)  # Ensure the folder exists\n",
        "db_path = os.path.join(db_folder, \"my_database.db\")\n",
        "\n",
        "conn = sqlite3.connect(db_path)\n",
        "cursor = conn.cursor()\n",
        "\n",
        "print(\"Database connected at:\", db_path)"
      ],
      "metadata": {
        "colab": {
          "base_uri": "https://localhost:8080/"
        },
        "id": "SXOn8qRVoPt0",
        "outputId": "078f0188-6da1-47a1-e1fe-9a5d479393b9"
      },
      "execution_count": null,
      "outputs": [
        {
          "output_type": "stream",
          "name": "stdout",
          "text": [
            "Database connected at: /content/drive/MyDrive/SQLiteDB/my_database.db\n"
          ]
        }
      ]
    },
    {
      "cell_type": "code",
      "source": [
        "cursor.execute('''\n",
        "CREATE TABLE BANK_CUSTOMERR ( customer_id INT ,\n",
        "             \tcustomer_name VARCHAR(20),\n",
        "             \tAddress \tVARCHAR(20),\n",
        "             \tstate_code  VARCHAR(3) ,\n",
        "             \tTelephone   VARCHAR(10)\t);\n",
        "\n",
        "''')\n",
        "conn.commit()"
      ],
      "metadata": {
        "id": "PmP6N84goTuW"
      },
      "execution_count": null,
      "outputs": []
    },
    {
      "cell_type": "code",
      "source": [
        "def insert_BANK_CUSTOMERR (customer_id,customer_name,Address,state_code,Telephone):\n",
        "    # Changed the table name from BANK_CUSTOMER to BANK_CUSTOMERR\n",
        "    cursor.execute(\"INSERT INTO BANK_CUSTOMERR (customer_id,customer_name,Address,state_code,Telephone) VALUES (?,?, ?, ?,?)\", (customer_id,customer_name,Address,state_code,Telephone))\n",
        "    conn.commit()\n",
        "\n",
        "# Insertion\n",
        "insert_BANK_CUSTOMERR(123001,\"Oliver\", \"225-5,Emeryville\", \"CA\" , \"1897614500\")\n",
        "insert_BANK_CUSTOMERR(123002,\"George\", \"194-6,New brighton\",\"MN\" , \"1897617000\")\n",
        "#insert_BANK_CUSTOMER(123003,\"Harry\", \"2909-5,walnut creek\",\"CA\" , \"1897617866\")\n",
        "#$insert_BANK_CUSTOMER(123004,\"Jack\", \"229-5, Concord\",  \t\"CA\" , \"1897627999\")\n",
        "#insert_BANK_CUSTOMER(123005,\"Jacob\", \"325-7, Mission Dist\",\"SFO\", \"1897637000\")\n",
        "#nsert_BANK_CUSTOMER(123006,\"Noah\", \"275-9, saint-paul\" ,  \"MN\" , \"1897613200\")\n",
        "#insert_BANK_CUSTOMER(123007,\"Charlie\",\"125-1,Richfield\",   \"MN\" , \"1897617666\")\n",
        "insert_BANK_CUSTOMERR(123008,\"Robin\",\"3005-1,Heathrow\", \t\"NY\" , \"1897614000\")"
      ],
      "metadata": {
        "id": "PwSwgHjQolNm"
      },
      "execution_count": null,
      "outputs": []
    },
    {
      "cell_type": "code",
      "source": [
        "pip install tabulate"
      ],
      "metadata": {
        "colab": {
          "base_uri": "https://localhost:8080/"
        },
        "id": "hNXFVeaVom4I",
        "outputId": "882fd0a2-e4be-43c1-f45c-a66f864eb1e8"
      },
      "execution_count": null,
      "outputs": [
        {
          "output_type": "stream",
          "name": "stdout",
          "text": [
            "Requirement already satisfied: tabulate in /usr/local/lib/python3.11/dist-packages (0.9.0)\n"
          ]
        }
      ]
    },
    {
      "cell_type": "code",
      "source": [
        "from tabulate import tabulate\n",
        "import sqlite3 # Ensure sqlite3 is imported if not already\n",
        "\n",
        "# Assuming conn and cursor are already established\n",
        "\n",
        "# Fetch data\n",
        "cursor.execute(\"SELECT * FROM BANK_CUSTOMERR \") # Corrected table name\n",
        "rows = cursor.fetchall()\n",
        "\n",
        "# Get column names\n",
        "column_names = [desc[0] for desc in cursor.description]\n",
        "\n",
        "# Print in tabular format\n",
        "print(tabulate(rows, headers=column_names, tablefmt=\"grid\"))"
      ],
      "metadata": {
        "colab": {
          "base_uri": "https://localhost:8080/"
        },
        "id": "jawv_VEWo0pr",
        "outputId": "9533d295-9705-40e5-9859-b9f636ab0f84"
      },
      "execution_count": null,
      "outputs": [
        {
          "output_type": "stream",
          "name": "stdout",
          "text": [
            "+---------------+-----------------+--------------------+--------------+-------------+\n",
            "|   customer_id | customer_name   | Address            | state_code   |   Telephone |\n",
            "+===============+=================+====================+==============+=============+\n",
            "|        123001 | Oliver          | 225-5,Emeryville   | CA           |  1897614500 |\n",
            "+---------------+-----------------+--------------------+--------------+-------------+\n",
            "|        123002 | George          | 194-6,New brighton | MN           |  1897617000 |\n",
            "+---------------+-----------------+--------------------+--------------+-------------+\n",
            "|        123008 | Robin           | 3005-1,Heathrow    | NY           |  1897614000 |\n",
            "+---------------+-----------------+--------------------+--------------+-------------+\n"
          ]
        }
      ]
    },
    {
      "cell_type": "markdown",
      "source": [
        "1.Print customer Id, customer name and average account_balance maintained by each customer for all of his/her accounts in the bank.(8 Rows)"
      ],
      "metadata": {
        "id": "Uruqb-DXo5m0"
      }
    }
  ]
}