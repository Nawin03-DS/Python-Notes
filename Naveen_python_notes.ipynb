{
  "nbformat": 4,
  "nbformat_minor": 0,
  "metadata": {
    "colab": {
      "provenance": [],
      "collapsed_sections": [
        "8kg_J7FfgdTr"
      ],
      "authorship_tag": "ABX9TyNctqC/PZkthVxjGZ/8f6oq",
      "include_colab_link": true
    },
    "kernelspec": {
      "name": "python3",
      "display_name": "Python 3"
    },
    "language_info": {
      "name": "python"
    }
  },
  "cells": [
    {
      "cell_type": "markdown",
      "metadata": {
        "id": "view-in-github",
        "colab_type": "text"
      },
      "source": [
        "<a href=\"https://colab.research.google.com/github/Nawin03-DS/Python-Notes/blob/main/Naveen_python_notes.ipynb\" target=\"_parent\"><img src=\"https://colab.research.google.com/assets/colab-badge.svg\" alt=\"Open In Colab\"/></a>"
      ]
    },
    {
      "cell_type": "code",
      "source": [
        "a=10\n",
        "b=20\n",
        "print(a)"
      ],
      "metadata": {
        "colab": {
          "base_uri": "https://localhost:8080/"
        },
        "id": "KtBbDWBu8sjx",
        "outputId": "3c194d04-c061-4d9c-ca5b-afe2e4009a49"
      },
      "execution_count": null,
      "outputs": [
        {
          "output_type": "stream",
          "name": "stdout",
          "text": [
            "10\n"
          ]
        }
      ]
    },
    {
      "cell_type": "code",
      "source": [
        "print(a+b)"
      ],
      "metadata": {
        "colab": {
          "base_uri": "https://localhost:8080/"
        },
        "id": "mmibdqcw9GMl",
        "outputId": "6c67807a-0db7-4160-8556-ab49a1503622"
      },
      "execution_count": null,
      "outputs": [
        {
          "output_type": "stream",
          "name": "stdout",
          "text": [
            "30\n"
          ]
        }
      ]
    },
    {
      "cell_type": "code",
      "source": [
        "a=b=c=10\n",
        "print(a)"
      ],
      "metadata": {
        "colab": {
          "base_uri": "https://localhost:8080/"
        },
        "id": "-j9ISQi9dlRW",
        "outputId": "b064764d-b646-4879-b34f-47479116e540"
      },
      "execution_count": null,
      "outputs": [
        {
          "output_type": "stream",
          "name": "stdout",
          "text": [
            "10\n"
          ]
        }
      ]
    },
    {
      "cell_type": "code",
      "source": [
        "print(\"Hello World\")"
      ],
      "metadata": {
        "colab": {
          "base_uri": "https://localhost:8080/"
        },
        "id": "TfS-cxlBfIlw",
        "outputId": "8970b0ca-c611-49f3-d6bf-69a3c1cdb90b"
      },
      "execution_count": null,
      "outputs": [
        {
          "output_type": "stream",
          "name": "stdout",
          "text": [
            "Hello World\n"
          ]
        }
      ]
    },
    {
      "cell_type": "code",
      "source": [
        "print(5)\n",
        "print(10)\n"
      ],
      "metadata": {
        "colab": {
          "base_uri": "https://localhost:8080/"
        },
        "id": "dh5ZUo1Zfjmc",
        "outputId": "3d4be575-ca80-4641-aa01-1998edd166e0"
      },
      "execution_count": null,
      "outputs": [
        {
          "output_type": "stream",
          "name": "stdout",
          "text": [
            "5\n",
            "10\n"
          ]
        }
      ]
    },
    {
      "cell_type": "code",
      "source": [
        "print(type(5))\n",
        "print(type(10))\n"
      ],
      "metadata": {
        "colab": {
          "base_uri": "https://localhost:8080/"
        },
        "id": "k0ELCofDfvmB",
        "outputId": "e95f31ff-7ca2-4c90-9ab8-fb7fd4ed13f3"
      },
      "execution_count": null,
      "outputs": [
        {
          "output_type": "stream",
          "name": "stdout",
          "text": [
            "<class 'int'>\n",
            "<class 'int'>\n"
          ]
        }
      ]
    },
    {
      "cell_type": "markdown",
      "source": [
        "#28-03-2026\n"
      ],
      "metadata": {
        "id": "9SCaCTpsgZGb"
      }
    },
    {
      "cell_type": "markdown",
      "source": [],
      "metadata": {
        "id": "jWxtznWjhwTj"
      }
    },
    {
      "cell_type": "code",
      "source": [],
      "metadata": {
        "id": "fUCm_pUc_XBE"
      },
      "execution_count": null,
      "outputs": []
    },
    {
      "cell_type": "code",
      "source": [],
      "metadata": {
        "id": "Yd0nDv5ihrRa"
      },
      "execution_count": null,
      "outputs": []
    },
    {
      "cell_type": "code",
      "source": [
        "a=\"Hello World\"\n",
        "print(a)\n",
        "print(type(a))\n"
      ],
      "metadata": {
        "colab": {
          "base_uri": "https://localhost:8080/"
        },
        "id": "zApvPUqTiXTR",
        "outputId": "8a5573c1-344e-469d-80db-91838ea4ec67"
      },
      "execution_count": null,
      "outputs": [
        {
          "output_type": "stream",
          "name": "stdout",
          "text": [
            "Hello World\n",
            "<class 'str'>\n"
          ]
        }
      ]
    },
    {
      "cell_type": "code",
      "source": [
        "a =\"Hello World!\"\n",
        "#print the 'e' from the above string\n",
        "#[index_position]\n",
        "print(a[1])"
      ],
      "metadata": {
        "colab": {
          "base_uri": "https://localhost:8080/"
        },
        "id": "gLxZeQzSj8l_",
        "outputId": "df57ab13-f48e-4f74-f4f8-35478972f97e"
      },
      "execution_count": null,
      "outputs": [
        {
          "output_type": "stream",
          "name": "stdout",
          "text": [
            "e\n"
          ]
        }
      ]
    },
    {
      "cell_type": "code",
      "source": [
        "#print the range of character from the above--.'Hello'\n",
        "#[string_index:end_index]\n",
        "print(a[0:5])"
      ],
      "metadata": {
        "colab": {
          "base_uri": "https://localhost:8080/"
        },
        "id": "7y61IRbckXC3",
        "outputId": "c43887e5-f7f2-49ca-dc75-ac833c89e0a1"
      },
      "execution_count": null,
      "outputs": [
        {
          "output_type": "stream",
          "name": "stdout",
          "text": [
            "Hello\n"
          ]
        }
      ]
    },
    {
      "cell_type": "code",
      "source": [
        "a =\"Hello World!\"\n",
        "#print the even index position character.\n",
        "#[strat:end:step]\n",
        "print(a[0:12:2])"
      ],
      "metadata": {
        "colab": {
          "base_uri": "https://localhost:8080/"
        },
        "id": "-_hMxJlhkuKP",
        "outputId": "a01c4bac-dede-4e63-f1a7-02a22a2ed26e"
      },
      "execution_count": null,
      "outputs": [
        {
          "output_type": "stream",
          "name": "stdout",
          "text": [
            "HloWrd\n"
          ]
        }
      ]
    },
    {
      "cell_type": "code",
      "source": [
        "print(a[0:12:2]) #odd index characters"
      ],
      "metadata": {
        "colab": {
          "base_uri": "https://localhost:8080/"
        },
        "id": "sS-dBGDylvye",
        "outputId": "84aba2c6-b6af-4f75-a331-e079e0584ade"
      },
      "execution_count": null,
      "outputs": [
        {
          "output_type": "stream",
          "name": "stdout",
          "text": [
            "HloWrd\n"
          ]
        }
      ]
    },
    {
      "cell_type": "code",
      "source": [
        "print(a[1:12:2])"
      ],
      "metadata": {
        "colab": {
          "base_uri": "https://localhost:8080/"
        },
        "id": "71SFYqtGl-OJ",
        "outputId": "99c0e4e4-8ec0-4216-ef3e-3eca7a037449"
      },
      "execution_count": null,
      "outputs": [
        {
          "output_type": "stream",
          "name": "stdout",
          "text": [
            "el ol!\n"
          ]
        }
      ]
    },
    {
      "cell_type": "code",
      "source": [
        "print(a[11])\n",
        "print(a[len(a)-1])"
      ],
      "metadata": {
        "colab": {
          "base_uri": "https://localhost:8080/"
        },
        "id": "jPDAaGC3mGcM",
        "outputId": "37ed5cab-07a0-4366-f8ca-182747950569"
      },
      "execution_count": null,
      "outputs": [
        {
          "output_type": "stream",
          "name": "stdout",
          "text": [
            "!\n",
            "!\n"
          ]
        }
      ]
    },
    {
      "cell_type": "markdown",
      "source": [
        "Negative Indexing"
      ],
      "metadata": {
        "id": "CJzu-a4amXwB"
      }
    },
    {
      "cell_type": "markdown",
      "source": [],
      "metadata": {
        "id": "RKLKDqvfmbyG"
      }
    },
    {
      "cell_type": "code",
      "source": [
        "a= \"hello world\"\n",
        "print(a)\n",
        "print(type[0::12])\n",
        "print(a[0::12])\n",
        "print(a[0:12:2])\n",
        "print(a[0:12:1])\n",
        "print(a[0:11:3])\n",
        "print(a[0:11:4])\n",
        "print(a[6])\n",
        "print(a[len(a)-1])\n",
        "print(a[len(a)-2])"
      ],
      "metadata": {
        "colab": {
          "base_uri": "https://localhost:8080/"
        },
        "id": "v2CTiZJo9bXg",
        "outputId": "65b00f52-e13b-45e9-ba3c-488f740097c5"
      },
      "execution_count": null,
      "outputs": [
        {
          "output_type": "stream",
          "name": "stdout",
          "text": [
            "hello world\n",
            "type[slice(0, None, 12)]\n",
            "h\n",
            "hlowrd\n",
            "hello world\n",
            "hlwl\n",
            "hor\n",
            "w\n",
            "d\n",
            "l\n"
          ]
        }
      ]
    },
    {
      "cell_type": "code",
      "source": [],
      "metadata": {
        "id": "VcWCa8HG_anD"
      },
      "execution_count": null,
      "outputs": []
    },
    {
      "cell_type": "code",
      "source": [
        "a=\"hello naveen\"\n",
        "print(a[-1])\n",
        "print(a[-2])\n",
        "print(a[-3])\n",
        "print(a[1])\n",
        "print(a[3])\n",
        "print(a[7])\n",
        "print(a[3:5])\n",
        "print(a[len(a)-2])"
      ],
      "metadata": {
        "colab": {
          "base_uri": "https://localhost:8080/"
        },
        "id": "CNk2pnx5_jQr",
        "outputId": "4b4b2007-f34b-4f8d-9a93-6cf11e75148a"
      },
      "execution_count": null,
      "outputs": [
        {
          "output_type": "stream",
          "name": "stdout",
          "text": [
            "n\n",
            "e\n",
            "e\n",
            "e\n",
            "l\n",
            "a\n",
            "lo\n",
            "e\n"
          ]
        }
      ]
    },
    {
      "cell_type": "code",
      "source": [
        "a=\"hello nawin chandra\"\n",
        "print(len(a))\n",
        "print(a[0:12:2])\n",
        "print(a[-1])\n",
        "print(a[len(a)-2])\n",
        "print(a)"
      ],
      "metadata": {
        "colab": {
          "base_uri": "https://localhost:8080/"
        },
        "id": "Yzk_ptnnA03Z",
        "outputId": "2b261039-4b2c-4668-e42b-bee85765392e"
      },
      "execution_count": null,
      "outputs": [
        {
          "output_type": "stream",
          "name": "stdout",
          "text": [
            "19\n",
            "hlonwn\n",
            "a\n",
            "r\n",
            "hello nawin chandra\n"
          ]
        }
      ]
    },
    {
      "cell_type": "markdown",
      "source": [
        "29-03-2025"
      ],
      "metadata": {
        "id": "K7Zf7Pa8DK2L"
      }
    },
    {
      "cell_type": "code",
      "source": [
        "#what is comment?\n",
        "#for better understanding about codes we do comments?\n",
        "#how many types of comments?\n",
        "#two types of comments\n",
        "#1.single line comment-->\n",
        "#2.multiline comment-->\n",
        "#what is an IDE?\n",
        "#integrated development environment\n",
        "#IDE's are defined as code excutor, or compilers or interpretors\n",
        "#google colab"
      ],
      "metadata": {
        "id": "C-JcrB6j75Ga"
      },
      "execution_count": null,
      "outputs": []
    },
    {
      "cell_type": "code",
      "source": [
        "#what is python?\n",
        "#1.python is a most emerging general purpose programming language.\n",
        "#2.python is a high level programming language\n",
        "#3.python is a object oriented programming language\n",
        "#4.python is a dynamically typed programming language\n",
        "#5.python is a interpreted programming language\n",
        "#what is general purpose programming language?\n",
        "#apart from the python in data management and AI development we can also use it for general works\n",
        "#ex:- ISRO scientist use python for physics calculation\n",
        "     #convert word into pdf\n",
        "     #tracking the stocks\n",
        "#what is main purpose python language?\n",
        "#the main purpose of python in data management and AI development\n",
        "#due to more core library we are using web development and mobile app development\n",
        "#what is High level programming language?\n",
        "#a. is also human friendly programming language. --->code are not changing into binary forms\n",
        "#we can read the code as a english language ---> code readiability--> low lines of code--> python,java\n",
        "#how many level of programming language?\n",
        "#there are 2 level of programming language\n",
        "#1.Low- level programming language?\n",
        "#a.low level language is also known as machine friendly programming language.\n",
        "#b.each line of code changing into binary form 1s and 0s\n",
        "#c.more line of codes--->c++,c,.net\n",
        "#Q).what is object oriented programming language?\n",
        "  CLASS-->OBJECT-->\n",
        " #a.identity,\n",
        " #b.properties/attributes\n",
        "## c.IDE(integrated developing environment)\n",
        "   #c1.google colab,pycharm,jupyter notebook,vscode.\n",
        "#what is dynamically typed programming language?\n",
        "#we need to mention the data type of variables\n",
        "#python can automatically read the data type by itself\n",
        "a=10\n",
        "b=\"Hello\"\n",
        "#how many types of programming languages?\n",
        "#there are 2 types\n",
        "#statically types:-->we need to define the data type for the variables\n",
        "      int[a]=10\n",
        "      str[b]=\"Hello\"\n",
        "Q)what is a interpreted programming language?\n",
        "#python can execute the code line by line the final lines of code can be taken into consideration\n",
        "a=10\n",
        "b=20\n",
        "a=5\n",
        "b=50\n",
        "print(a+b)\n",
        "#note:-python is a most emerging general purpose high level oblect oriented,dynamically typed and inetrpreted programming language.\n",
        "#1.Numerical data types\n",
        "#2.arthametic operators\n",
        "#3.round0\n",
        "#4.floor and cell values\n",
        "#5.types of error\n",
        "#6.variables\n"
      ],
      "metadata": {
        "id": "DXbKDpJ2DOjr"
      },
      "execution_count": null,
      "outputs": []
    },
    {
      "cell_type": "markdown",
      "source": [
        "**01-04-2025**"
      ],
      "metadata": {
        "id": "PdqNMZTm3zB-"
      }
    },
    {
      "cell_type": "code",
      "source": [
        "a = \"pythonlife\"\n",
        "for i in a:\n",
        "  print(i)"
      ],
      "metadata": {
        "colab": {
          "base_uri": "https://localhost:8080/"
        },
        "id": "8EsI1k3R334e",
        "outputId": "deb17357-8bd8-4cb2-8f26-1b85fd660dea"
      },
      "execution_count": null,
      "outputs": [
        {
          "output_type": "stream",
          "name": "stdout",
          "text": [
            "p\n",
            "y\n",
            "t\n",
            "h\n",
            "o\n",
            "n\n",
            "l\n",
            "i\n",
            "f\n",
            "e\n"
          ]
        }
      ]
    },
    {
      "cell_type": "code",
      "source": [
        "#while True:\n",
        "#  print(\"hello\")"
      ],
      "metadata": {
        "id": "coCrVj249FVa"
      },
      "execution_count": null,
      "outputs": []
    },
    {
      "cell_type": "code",
      "source": [
        "#kiran=9\n",
        "#while kiran<15:\n",
        "#  print(\"hello\",kiran)\n",
        " # kiran+=1"
      ],
      "metadata": {
        "id": "XupE7UWa9VXd"
      },
      "execution_count": null,
      "outputs": []
    },
    {
      "cell_type": "code",
      "source": [
        "#for i in range(0,10):\n",
        " #   for j in range(0,100:)\n",
        "  #  print(i+j)"
      ],
      "metadata": {
        "id": "mEe4DcvM9syi"
      },
      "execution_count": null,
      "outputs": []
    },
    {
      "cell_type": "markdown",
      "source": [
        "**03-04-2025**"
      ],
      "metadata": {
        "id": "96WsHwlbEXfz"
      }
    },
    {
      "cell_type": "markdown",
      "source": [
        "**conditional statements**"
      ],
      "metadata": {
        "id": "27RkDKVVZtr6"
      }
    },
    {
      "cell_type": "code",
      "source": [
        "print(1==1)\n",
        "print(\"hello\" == \"hello\")\n",
        "print(\"Hello\" == \"hello\")"
      ],
      "metadata": {
        "colab": {
          "base_uri": "https://localhost:8080/"
        },
        "id": "xa0Tzq5lZxen",
        "outputId": "e5c36741-dceb-482b-b95e-26571ca80ced"
      },
      "execution_count": null,
      "outputs": [
        {
          "output_type": "stream",
          "name": "stdout",
          "text": [
            "True\n",
            "True\n",
            "False\n"
          ]
        }
      ]
    },
    {
      "cell_type": "code",
      "source": [
        "#what is conditional statements?\n",
        "#to build decision making codes weather to check a condition is satisfied or not\n",
        "#By using\"Comparision operators\" is also known as ----> Relation operators\n",
        "#Q.How many types of relational operators?\n",
        "\"\"\"There are 6 types of comparision operators\n",
        "   1.equals too---> ==\n",
        "   2.not equal too---> !=\n",
        "   3.less than or equals too ---->  <=\n",
        "   4.greater than or equals too ---> >=\n",
        "   5.greater than--->   >\n",
        "   6.less than --->   <"
      ],
      "metadata": {
        "id": "NqqnbNeHbSWH"
      },
      "execution_count": null,
      "outputs": []
    },
    {
      "cell_type": "code",
      "source": [
        "#what are all"
      ],
      "metadata": {
        "id": "0vE26Fg8c9zk"
      },
      "execution_count": null,
      "outputs": []
    },
    {
      "cell_type": "code",
      "source": [
        "#write a program to print weather student is pass or fail based on given input\n",
        "#marks>=45 ---->pass\n",
        "#else print  \"bettre luck next time\"\n",
        "\n",
        "marks = int(input('enter your marks: '))\n",
        "#write a program to print weather student is pass or fail based on given input\n",
        "#marks>=45 ---->pass\n",
        "#else print  \"bettre luck next time\"\n",
        "\n",
        "marks = int(input('enter your marks: '))\n",
        "if marks>= 45:\n",
        "  print(f\"congratulations yuouhave recieved {marks} marks\")\n",
        "else:\n",
        "    print(f\"Bettre luck next time you have recieved {marks} marks\")"
      ],
      "metadata": {
        "id": "YztppdBgdDnp"
      },
      "execution_count": null,
      "outputs": []
    },
    {
      "cell_type": "code",
      "source": [
        "#when there is more than 2 conditions we use elif keyword\n",
        "#Q.where we can use the elif keyword\n",
        "#Between if and else.\n",
        "#write a program to check weather the given number is \"+ve\" or \"-ve\" or \"neutral\"\n",
        "num = int(input(\"enter the num: \"))\n",
        "if num>0:\n",
        "  print(\"+ve\")\n",
        "#when there is more than 2 conditions we use elif keyword\n",
        "#Q.where we can use the elif keyword\n",
        "#Between if and else.\n",
        "#write a program to check weather the given number is \"+ve\" or \"-ve\" or \"neutral\"\n",
        "num = int(input(\"enter the num: \"))\n",
        "if num>0:\n",
        "  print(\"+ve\")\n",
        "elif num ==0:\n",
        "  print('nuetral')\n",
        "else:\n",
        "  print(\"-ve\")\n",
        "if num>0:\n",
        "  print(\"+ve\")\n",
        "elif num ==0:\n",
        "  print('nuetral')\n",
        "else:\n",
        "  print(\"-ve\")"
      ],
      "metadata": {
        "id": "r-9PcWf1eVOw"
      },
      "execution_count": null,
      "outputs": []
    },
    {
      "cell_type": "code",
      "source": [
        "#q. if i want to check multiple conditions at a time what i have to do?\n",
        "#we need to use the \"logical operators\"\n",
        "#there are 3 types"
      ],
      "metadata": {
        "id": "5qTggTDHfPTC"
      },
      "execution_count": null,
      "outputs": []
    },
    {
      "cell_type": "markdown",
      "source": [
        "1.NOT"
      ],
      "metadata": {
        "id": "dHGM90p4fz3w"
      }
    },
    {
      "cell_type": "code",
      "source": [
        "#it reverse you actual output\n",
        "print(1==1)\n",
        "print(not(1==1))"
      ],
      "metadata": {
        "id": "fHsMOAH4f2eE"
      },
      "execution_count": null,
      "outputs": []
    },
    {
      "cell_type": "markdown",
      "source": [
        "2.And\n",
        "-->if all the conditions are true then it execute the program"
      ],
      "metadata": {
        "id": "4vyu4oBPgFYD"
      }
    },
    {
      "cell_type": "code",
      "source": [
        "a=45\n",
        "b=30\n",
        "c=15\n",
        "d=60\n",
        "#check that a is greater than c and b is greater than c and d is greater than a\n",
        "#if all the conditions are true print that all true else print not satisfied\n",
        "if a>c and b>c and d>a:\n",
        "  print('all are true')\n",
        "else:\n",
        "  print(not satisfied)"
      ],
      "metadata": {
        "colab": {
          "base_uri": "https://localhost:8080/"
        },
        "id": "WEmVDm6dgHdu",
        "outputId": "9839c23b-5cde-477a-892d-7c7b521e3033"
      },
      "execution_count": null,
      "outputs": [
        {
          "output_type": "stream",
          "name": "stdout",
          "text": [
            "all are true\n"
          ]
        }
      ]
    },
    {
      "cell_type": "markdown",
      "source": [
        "OR---> if any one condition is true it executes the program"
      ],
      "metadata": {
        "id": "js-a1wn-g83J"
      }
    },
    {
      "cell_type": "code",
      "source": [
        "\n",
        "if a>c and b<c and d<a:\n",
        "  print('all are true')\n",
        "else:\n",
        "  print('Not satisfied')"
      ],
      "metadata": {
        "colab": {
          "base_uri": "https://localhost:8080/"
        },
        "id": "a6MgKnhIhHqT",
        "outputId": "1c4503c2-a6e7-432d-ac77-58f0b0502a68"
      },
      "execution_count": null,
      "outputs": [
        {
          "output_type": "stream",
          "name": "stdout",
          "text": [
            "Not satisfied\n"
          ]
        }
      ]
    },
    {
      "cell_type": "code",
      "source": [
        "#can i use the and , or operator at a time--> yes\n",
        "a=155\n",
        "b=60\n",
        "c=180\n",
        "d=90\n",
        "if a>b and c>d or d<b or b<c and a>d:\n",
        "  print('all are true')\n",
        "else:\n",
        "  print('False')"
      ],
      "metadata": {
        "colab": {
          "base_uri": "https://localhost:8080/"
        },
        "id": "Ch9UHXtLhSzg",
        "outputId": "662695eb-2dd5-427b-f9b6-19ef2738459c"
      },
      "execution_count": null,
      "outputs": [
        {
          "output_type": "stream",
          "name": "stdout",
          "text": [
            "all are true\n"
          ]
        }
      ]
    },
    {
      "cell_type": "markdown",
      "source": [
        "**Nested conditions**"
      ],
      "metadata": {
        "id": "lyA_toa9iJsi"
      }
    },
    {
      "cell_type": "code",
      "source": [
        "#what is nested condition?\n",
        "#writing a condition inside the another condition is known as nested condition\n",
        "#what is the purpose of nested condition?\n",
        "#A program or a step can be executed if the previous condition is satisfied\n",
        "#if we want a series of output then we can use nested conditions"
      ],
      "metadata": {
        "id": "o0VWFtkZiNIW"
      },
      "execution_count": null,
      "outputs": []
    },
    {
      "cell_type": "code",
      "source": [
        "a=25\n",
        "#check the above number is greater than 10,20,30,40,50\n",
        "#if it is greater than 10-----> a is greater than 10\n",
        "#if it is greater than 20-----> a is greater than 20\n",
        "#if it is greater than 30-----> a is greater than 30\n",
        "#if it is greater than 40-----> a is greater than 40\n",
        "if a>40:\n",
        "  print('a is greater than 10')\n",
        "  if a>20:\n",
        "    print('a is greater than 20')\n",
        "    if a>30:\n",
        "      print('a is greater than 30')\n",
        "      if a>40:\n",
        "        print('a is greater than 40')\n",
        "\n",
        "      else:\n",
        "        print(\"a is less than 10\")\n",
        "    else:\n",
        "     print(\"a is less than 20\")\n",
        "  else:\n",
        "   print(\"a is less than 30\")\n",
        "else:\n",
        "  print(\"a is less than 40\")"
      ],
      "metadata": {
        "colab": {
          "base_uri": "https://localhost:8080/"
        },
        "id": "PiiLW3aojJpc",
        "outputId": "128749d0-3cd3-4d01-b3eb-6763bd4d5a36"
      },
      "execution_count": null,
      "outputs": [
        {
          "output_type": "stream",
          "name": "stdout",
          "text": [
            "a is less than 40\n"
          ]
        }
      ]
    },
    {
      "cell_type": "code",
      "source": [
        "if a>40:\n",
        "  print('a is greater than 10')\n",
        "  if a>20:\n",
        "    print('a is greater than 20')\n",
        "    if a>30:\n",
        "      pass"
      ],
      "metadata": {
        "id": "ovuYcwa5lRLD"
      },
      "execution_count": null,
      "outputs": []
    },
    {
      "cell_type": "code",
      "source": [
        "#write a program to print grades of students based on marks along with grades print marks\n",
        "#if marks between 50 to 60--> 'D' along with marks\n",
        "#if marks between 61 to 70---> 'C' along with marks\n",
        "#if marks between 71 to 80---> 'B' along with marks\n",
        "#if marks between 81 to 90---> 'A' along with marks\n",
        "#if marks between 91 to 100---> 'A+' along with marks\n",
        "#if marks below 50 print---> Better luck next time---> along with marks\n",
        "#if marks more than 100--->\"print(don't be smart)\""
      ],
      "metadata": {
        "id": "PGOtcsBdlwNr"
      },
      "execution_count": null,
      "outputs": []
    },
    {
      "cell_type": "markdown",
      "source": [
        "***04-04-2025***"
      ],
      "metadata": {
        "id": "WkqxUVNdgVHc"
      }
    },
    {
      "cell_type": "code",
      "source": [
        "print(\"Mom\" == \"mom\")"
      ],
      "metadata": {
        "colab": {
          "base_uri": "https://localhost:8080/"
        },
        "id": "lBSrCDA6gax9",
        "outputId": "e52d3cd2-7cfd-40b3-b263-c4dbe7260ba5"
      },
      "execution_count": null,
      "outputs": [
        {
          "output_type": "stream",
          "name": "stdout",
          "text": [
            "False\n"
          ]
        }
      ]
    },
    {
      "cell_type": "markdown",
      "source": [
        "**loops**"
      ],
      "metadata": {
        "id": "DGuwB17sjbru"
      }
    },
    {
      "cell_type": "code",
      "source": [
        " print(1<=5)\n",
        " print(2<=5)\n",
        " print(6<=5)"
      ],
      "metadata": {
        "colab": {
          "base_uri": "https://localhost:8080/"
        },
        "id": "svixOmVqjfSc",
        "outputId": "0d322e6d-8767-4eb9-c090-cbee6a494ccf"
      },
      "execution_count": null,
      "outputs": [
        {
          "output_type": "stream",
          "name": "stdout",
          "text": [
            "True\n",
            "True\n",
            "False\n"
          ]
        }
      ]
    },
    {
      "cell_type": "code",
      "source": [
        " #write a program to run a lift if the user given a input() stop the lift at particular floor?\n",
        " user_input=int(input('enter the floor number'))\n",
        " initial = 1\n",
        " while initial <= user_input:\n",
        "  print(f'you are at{initial} floor')\n",
        "  initial = initial + 1\n"
      ],
      "metadata": {
        "id": "mXCW2N7ao_dn"
      },
      "execution_count": null,
      "outputs": []
    },
    {
      "cell_type": "code",
      "source": [
        "word=\"malayalam\"\n",
        "if word==word[::-1]:\n",
        "  print(\"the word is palindrome\")\n",
        "else:\n",
        "  print(\"its not a palindrome\")"
      ],
      "metadata": {
        "id": "3O5fcxnJw4AB",
        "colab": {
          "base_uri": "https://localhost:8080/"
        },
        "outputId": "a3d59414-ef62-4007-ad0e-642975e6ee68"
      },
      "execution_count": null,
      "outputs": [
        {
          "output_type": "stream",
          "name": "stdout",
          "text": [
            "the word is palindrome\n"
          ]
        }
      ]
    },
    {
      "cell_type": "code",
      "source": [
        "num =int(input(\"enter a number:\"))\n",
        "target=7\n",
        "while num<target:\n",
        "  if num == 0:\n",
        "   print(\"the first 3 multiples of the given number is: \",num)\n",
        "  num = num + 1"
      ],
      "metadata": {
        "id": "Zfm8xCII7o6x"
      },
      "execution_count": null,
      "outputs": []
    },
    {
      "cell_type": "code",
      "source": [
        "num =int(input(\"enter a number:\"))\n",
        "target=int(input(\"enter the range of multiple number:\"))\n",
        "target=10\n",
        "while num<target:\n",
        "  if num == 0:\n",
        "   print(\"the first 3 multiples of the given number is: \",num)\n",
        "  num = num + 1"
      ],
      "metadata": {
        "id": "SkYxWj2-7vqF"
      },
      "execution_count": null,
      "outputs": []
    },
    {
      "cell_type": "code",
      "source": [
        "age=int(input(\"enter your age\"))\n",
        "if age>=18:\n",
        "  print(\"You are old enough to drive\")\n",
        "else:\n",
        "  print(f\"You need {18-age} more years to learn to drive\")"
      ],
      "metadata": {
        "id": "wnbxiItG72nL"
      },
      "execution_count": null,
      "outputs": []
    },
    {
      "cell_type": "markdown",
      "source": [
        "## **07-04-2025**"
      ],
      "metadata": {
        "id": "uvaWyePd9qGy"
      }
    },
    {
      "cell_type": "code",
      "source": [
        "print(\"Hello World!\")\n"
      ],
      "metadata": {
        "colab": {
          "base_uri": "https://localhost:8080/"
        },
        "id": "INR9YJdMK8Qw",
        "outputId": "3597f62e-da13-4b91-f5d6-8dfb6682823f"
      },
      "execution_count": null,
      "outputs": [
        {
          "output_type": "stream",
          "name": "stdout",
          "text": [
            "Hello World!\n"
          ]
        }
      ]
    },
    {
      "cell_type": "markdown",
      "source": [
        "**Numerical Data Type**"
      ],
      "metadata": {
        "id": "yWmhyR4LLbuF"
      }
    },
    {
      "cell_type": "code",
      "source": [
        "#there are 3 types of numerical data types\n",
        "#1. integer---> A whole number either +ve or -ve without decimal point is known as a integer\n",
        "print(20)\n",
        "print(15)\n",
        "print(type(10))\n"
      ],
      "metadata": {
        "colab": {
          "base_uri": "https://localhost:8080/"
        },
        "id": "DkyJCzAHLhNY",
        "outputId": "5a633365-5b72-4197-af1a-5ea617df7a60"
      },
      "execution_count": null,
      "outputs": [
        {
          "output_type": "stream",
          "name": "stdout",
          "text": [
            "20\n",
            "15\n",
            "<class 'int'>\n"
          ]
        }
      ]
    },
    {
      "cell_type": "code",
      "source": [
        "#2.float--> A whole number either +ve or -ve with decimal point is known as float\n",
        "print(-3.5)\n",
        "print(type(-3.5))"
      ],
      "metadata": {
        "colab": {
          "base_uri": "https://localhost:8080/"
        },
        "id": "9C9FOvj0MIgN",
        "outputId": "fcfc9512-a984-404f-b7cb-5f3900c64801"
      },
      "execution_count": null,
      "outputs": [
        {
          "output_type": "stream",
          "name": "stdout",
          "text": [
            "-3.5\n",
            "<class 'float'>\n"
          ]
        }
      ]
    },
    {
      "cell_type": "code",
      "source": [
        "#3.complex number--> A real number with its imaginary part is known as complex number\n",
        "print(2+5j)\n",
        "print(type(2+5j))"
      ],
      "metadata": {
        "colab": {
          "base_uri": "https://localhost:8080/"
        },
        "id": "HWpHHlOLMk23",
        "outputId": "feeb7935-458c-4002-c532-d7a960e70f8c"
      },
      "execution_count": null,
      "outputs": [
        {
          "output_type": "stream",
          "name": "stdout",
          "text": [
            "(2+5j)\n",
            "<class 'complex'>\n"
          ]
        }
      ]
    },
    {
      "cell_type": "code",
      "source": [
        "print(type(5j))"
      ],
      "metadata": {
        "colab": {
          "base_uri": "https://localhost:8080/"
        },
        "id": "4Se-ZsyvNK0f",
        "outputId": "1ecdc675-6a4d-4428-dbea-9d8106b9365b"
      },
      "execution_count": null,
      "outputs": [
        {
          "output_type": "stream",
          "name": "stdout",
          "text": [
            "<class 'complex'>\n"
          ]
        }
      ]
    },
    {
      "cell_type": "markdown",
      "source": [
        "**Arthametic operators**"
      ],
      "metadata": {
        "id": "Ea3M0YSWNbLQ"
      }
    },
    {
      "cell_type": "code",
      "source": [
        "#there are 7 types of arthametic operators\n",
        "#1.Addition--> +\n",
        "print(10+5)\n",
        "print(type(10+5))\n",
        "print(10-5)\n",
        "print(type(10-5))\n",
        "print(20*5)\n",
        "print(type(20*5))\n",
        "print(20/10)\n",
        "print(type(20/10))"
      ],
      "metadata": {
        "colab": {
          "base_uri": "https://localhost:8080/"
        },
        "id": "wpZ8-atVNgq7",
        "outputId": "62861ac3-e524-42f8-8085-d75dea384ec1"
      },
      "execution_count": null,
      "outputs": [
        {
          "output_type": "stream",
          "name": "stdout",
          "text": [
            "15\n",
            "<class 'int'>\n",
            "5\n",
            "<class 'int'>\n",
            "100\n",
            "<class 'int'>\n",
            "2.0\n",
            "<class 'float'>\n"
          ]
        }
      ]
    },
    {
      "cell_type": "code",
      "source": [
        "#modulus--> % ---> remainder of the division is known as modulus\n",
        "#to find even and odd index or data we use modulus\n",
        "print(20%10)\n",
        "print(type(20%10))"
      ],
      "metadata": {
        "colab": {
          "base_uri": "https://localhost:8080/"
        },
        "id": "oQS6rH16OzZe",
        "outputId": "4c54c289-4621-4014-e251-20e4bd84d3ea"
      },
      "execution_count": null,
      "outputs": [
        {
          "output_type": "stream",
          "name": "stdout",
          "text": [
            "0\n",
            "<class 'int'>\n"
          ]
        }
      ]
    },
    {
      "cell_type": "code",
      "source": [
        "#floor division--> // --> it ignores the values after the decimal point\n",
        "print(10//3)\n",
        "print(10/3)\n",
        "#floor division is also known as integer division"
      ],
      "metadata": {
        "colab": {
          "base_uri": "https://localhost:8080/"
        },
        "id": "2dfJ6MSzPT6L",
        "outputId": "7131bbb8-1ef7-415b-c842-e86873348160"
      },
      "execution_count": null,
      "outputs": [
        {
          "output_type": "stream",
          "name": "stdout",
          "text": [
            "3\n",
            "3.3333333333333335\n"
          ]
        }
      ]
    },
    {
      "cell_type": "markdown",
      "source": [
        "**floor and ceil value**"
      ],
      "metadata": {
        "id": "elV1mlFKPzqH"
      }
    },
    {
      "cell_type": "code",
      "source": [
        "#what is a floor value?\n",
        "#In a decimal number the values before the decimal point is known as floor value\n",
        "#what is ceil value?\n",
        "#for a decimal number the next upcoming value is known as ceil value\n",
        "#to get the floor and ceil value we need to use rond()\n",
        "print(round(9))\n",
        "print(round(9.4))\n",
        "print(round(9.5))"
      ],
      "metadata": {
        "colab": {
          "base_uri": "https://localhost:8080/"
        },
        "id": "cRvtTVyyP6kt",
        "outputId": "17aa5269-9ce3-4d4f-8341-22176191650d"
      },
      "execution_count": null,
      "outputs": [
        {
          "output_type": "stream",
          "name": "stdout",
          "text": [
            "9\n",
            "9\n",
            "10\n"
          ]
        }
      ]
    },
    {
      "cell_type": "code",
      "source": [
        "print(123.8743527866)\n",
        "print(round(123.8743527866,2))\n",
        "print(round(123.8743527866,-1))\n",
        "print(round(125.8743527866,-1))\n"
      ],
      "metadata": {
        "colab": {
          "base_uri": "https://localhost:8080/"
        },
        "id": "3tjeD-T4Qxog",
        "outputId": "6f0663ca-386d-48b2-c451-6f9bb0eb2798"
      },
      "execution_count": null,
      "outputs": [
        {
          "output_type": "stream",
          "name": "stdout",
          "text": [
            "123.8743527866\n",
            "123.87\n",
            "120.0\n",
            "130.0\n"
          ]
        }
      ]
    },
    {
      "cell_type": "code",
      "source": [
        "print(round(1234.876475676,2))\n",
        "print(round(186.89658768,4))\n",
        "print(round(130875.09898709269319,-5))\n",
        "print(round(8754.96754,4))"
      ],
      "metadata": {
        "colab": {
          "base_uri": "https://localhost:8080/"
        },
        "id": "ulQpPWblRqTb",
        "outputId": "4f21a9a2-3556-4348-8a77-409c1cecd8a7"
      },
      "execution_count": null,
      "outputs": [
        {
          "output_type": "stream",
          "name": "stdout",
          "text": [
            "1234.88\n",
            "186.8966\n",
            "100000.0\n",
            "8754.9475\n"
          ]
        }
      ]
    },
    {
      "cell_type": "markdown",
      "source": [
        "**08-04-2025**"
      ],
      "metadata": {
        "id": "tuJMpSsPG4wJ"
      }
    },
    {
      "cell_type": "markdown",
      "source": [
        "**variables**"
      ],
      "metadata": {
        "id": "G-xKLT7EIntJ"
      }
    },
    {
      "cell_type": "code",
      "source": [
        "# a variable is a container were we can store or valuable information and we reuse it\n",
        "#how can we create a variable?\n",
        "##to create a variable we use some industrial rules and alphabets?\n"
      ],
      "metadata": {
        "id": "MRc-ROC-Iqwi"
      },
      "execution_count": null,
      "outputs": []
    },
    {
      "cell_type": "code",
      "source": [
        "x = 40\n",
        "son = x/2\n",
        "print(son)"
      ],
      "metadata": {
        "colab": {
          "base_uri": "https://localhost:8080/"
        },
        "id": "uoM2ArdVJjX3",
        "outputId": "f17202bf-a61a-4fd7-905a-142a2891c781"
      },
      "execution_count": null,
      "outputs": [
        {
          "output_type": "stream",
          "name": "stdout",
          "text": [
            "20.0\n"
          ]
        }
      ]
    },
    {
      "cell_type": "markdown",
      "source": [
        "**types of error**"
      ],
      "metadata": {
        "id": "zMlIvlHKJxSY"
      }
    },
    {
      "cell_type": "code",
      "source": [
        "#there are two types errors\n",
        "#1. syntax error\n",
        "#2. logical error"
      ],
      "metadata": {
        "id": "Fm1oOecwJ02A"
      },
      "execution_count": null,
      "outputs": []
    },
    {
      "cell_type": "code",
      "source": [
        "#what is syntax error?\n",
        "#breaking the rules of programming language will rise an syntax error\n",
        "\"\"\" Hello\n",
        "    Good Day! \"\"\"\n",
        "print(\"Hello world\")"
      ],
      "metadata": {
        "colab": {
          "base_uri": "https://localhost:8080/"
        },
        "id": "TFr6L4ocJ_s6",
        "outputId": "c5b09eb5-a32a-4f64-f104-8e91a9c880c0"
      },
      "execution_count": null,
      "outputs": [
        {
          "output_type": "stream",
          "name": "stdout",
          "text": [
            "Hello world\n"
          ]
        }
      ]
    },
    {
      "cell_type": "code",
      "source": [],
      "metadata": {
        "id": "TE0A3oGbLAWM"
      },
      "execution_count": null,
      "outputs": []
    },
    {
      "cell_type": "markdown",
      "source": [
        "**09-04-2025**"
      ],
      "metadata": {
        "id": "jmN5kxynQWrp"
      }
    },
    {
      "cell_type": "markdown",
      "source": [
        "#collections"
      ],
      "metadata": {
        "id": "WrZ727c8RMm0"
      }
    },
    {
      "cell_type": "code",
      "source": [
        "#in collection there are two types of data\n",
        "#1.Heterogeneous data:- if the collection is having different data types inside it we called it as heterogeneous data\n",
        "#ex: a list is having int, float, string\n",
        "#2.Homogeneous data:-if the collection is having single data type is known as Homogeneous data"
      ],
      "metadata": {
        "id": "JyeeMFQ-RQzR"
      },
      "execution_count": null,
      "outputs": []
    },
    {
      "cell_type": "code",
      "source": [
        "#what is collectiom and how many types of basic data structures do we have?\n",
        "#there are four types of collections ( is also known as iterables)\n",
        "\"\"\"1. list\n",
        "   2. tuple\n",
        "   3. set\n",
        "   4. dictionary\"\"\""
      ],
      "metadata": {
        "id": "CF1Ib7VkSVuM"
      },
      "execution_count": null,
      "outputs": []
    },
    {
      "cell_type": "markdown",
      "source": [
        "# list"
      ],
      "metadata": {
        "id": "vodJj3LnTI6r"
      }
    },
    {
      "cell_type": "code",
      "source": [
        "#what is list? and define a list or how to declare list?\n",
        "#list can be declared in ---[]\n",
        "#list is ordered, mutable(changable), and list allows the duplicate data"
      ],
      "metadata": {
        "id": "U5PR4o2VTLpe"
      },
      "execution_count": null,
      "outputs": []
    },
    {
      "cell_type": "markdown",
      "source": [
        "# list allows the duplicate data"
      ],
      "metadata": {
        "id": "eZenh4eaT5fa"
      }
    },
    {
      "cell_type": "code",
      "source": [
        "l1 = ['apple','banana','mango','orange','apple','banana','grapes']\n",
        "print(len(l1))\n",
        "print(l1)\n",
        "print(type(l1))\n",
        "print(type(11))"
      ],
      "metadata": {
        "colab": {
          "base_uri": "https://localhost:8080/"
        },
        "id": "cEP1jJkxT8df",
        "outputId": "29404e3b-8672-4f64-bb7f-ecacf644b660"
      },
      "execution_count": null,
      "outputs": [
        {
          "output_type": "stream",
          "name": "stdout",
          "text": [
            "7\n",
            "['apple', 'banana', 'mango', 'orange', 'apple', 'banana', 'grapes']\n",
            "<class 'list'>\n",
            "<class 'int'>\n"
          ]
        }
      ]
    },
    {
      "cell_type": "markdown",
      "source": [
        "# list is ordered"
      ],
      "metadata": {
        "id": "gPszSMPJVlkB"
      }
    },
    {
      "cell_type": "markdown",
      "source": [
        "items in the list is having a sequence of index position numbers"
      ],
      "metadata": {
        "id": "Rf7Npcl8Vsvk"
      }
    },
    {
      "cell_type": "code",
      "source": [
        "l1 = ['apple','banana','mango','orange','apple','banana','grapes']\n",
        "#in above list 12 print only 'orange'\n",
        "print(l1[3])\n",
        "#[strat:end]\n",
        "#print the last characters from 'mango to banana'\n",
        "print(l1[2:6])\n",
        "#print the even position\n",
        "print(l1[::2])\n",
        "#print the odd position\n",
        "print(l1[1::2])\n"
      ],
      "metadata": {
        "colab": {
          "base_uri": "https://localhost:8080/"
        },
        "id": "FwdQRnt2V1U6",
        "outputId": "66ceebcd-8d41-45d0-a7ec-bf75d365bfaa"
      },
      "execution_count": null,
      "outputs": [
        {
          "output_type": "stream",
          "name": "stdout",
          "text": [
            "orange\n",
            "['mango', 'orange', 'apple', 'banana']\n",
            "['apple', 'mango', 'apple', 'grapes']\n",
            "['banana', 'orange', 'banana']\n"
          ]
        }
      ]
    },
    {
      "cell_type": "code",
      "source": [
        "#negative indexing start from -1\n",
        "#accesing the characters in the reverse direction\n",
        "#print the last character in the reverse direction\n",
        "#[start:end:step]\n",
        "print(l1[-1:-8:-1])"
      ],
      "metadata": {
        "colab": {
          "base_uri": "https://localhost:8080/"
        },
        "id": "GQG1ex0PXz0r",
        "outputId": "33119e74-2dfa-42eb-fc9d-f11dd9283ce2"
      },
      "execution_count": null,
      "outputs": [
        {
          "output_type": "stream",
          "name": "stdout",
          "text": [
            "['grapes', 'banana', 'apple', 'orange', 'mango', 'banana', 'apple']\n"
          ]
        }
      ]
    },
    {
      "cell_type": "code",
      "source": [
        "#default indexing--> [start(0):end(len(list)):step(1)]\n",
        "print(l1[::-1])"
      ],
      "metadata": {
        "colab": {
          "base_uri": "https://localhost:8080/"
        },
        "id": "z1VM5B5MXavj",
        "outputId": "f3ca7b1b-3354-4b4c-cc8a-232222971cac"
      },
      "execution_count": null,
      "outputs": [
        {
          "output_type": "stream",
          "name": "stdout",
          "text": [
            "['grapes', 'banana', 'apple', 'orange', 'mango', 'banana', 'apple']\n"
          ]
        }
      ]
    },
    {
      "cell_type": "code",
      "source": [
        "#LIST IS MUTABLE\n",
        "#if a data structure is mjtable means--> it has follow 3 properties\n",
        "1.swap or replace the items in existing list\n",
        "2.add new items to the existing list\n",
        "3.remove th eitems from existing list"
      ],
      "metadata": {
        "id": "0y3RWm-qY2C_"
      },
      "execution_count": null,
      "outputs": []
    },
    {
      "cell_type": "markdown",
      "source": [
        "1.swap or replace the items in existing list"
      ],
      "metadata": {
        "id": "44Mt5UTYZda-"
      }
    },
    {
      "cell_type": "code",
      "source": [
        "l3 = ['python','java','js','reactjs','.net','c','c++']\n",
        "#replace the'js' with 'java-script'===> by using index position number we place the items\n",
        "l3[2] = 'javascript'\n",
        "print(l3)\n",
        "#replace the range of characters from java to 'reactjs'\n",
        "l3[1:4] = 'pandas','numpy','seaborn'\n",
        "print(l3)\n",
        "\n"
      ],
      "metadata": {
        "colab": {
          "base_uri": "https://localhost:8080/"
        },
        "id": "faf5lxYpY3aE",
        "outputId": "35073eb5-de5c-48bf-b977-059f56d2a11c"
      },
      "execution_count": null,
      "outputs": [
        {
          "output_type": "stream",
          "name": "stdout",
          "text": [
            "['python', 'java', 'javascript', 'reactjs', '.net', 'c', 'c++']\n",
            "['python', 'pandas', 'numpy', 'seaborn', '.net', 'c', 'c++']\n"
          ]
        }
      ]
    },
    {
      "cell_type": "markdown",
      "source": [
        "add new items to the existing list"
      ],
      "metadata": {
        "id": "qlNcrRf-asXZ"
      }
    },
    {
      "cell_type": "code",
      "source": [
        "#to add new items to the existing we are having some methods\n",
        "l4 = ['python', 'pandas', 'numpy', 'seaborn', '.net', 'c', 'c++']\n",
        "print(dir(l4))"
      ],
      "metadata": {
        "colab": {
          "base_uri": "https://localhost:8080/"
        },
        "id": "SwlkTkABatVj",
        "outputId": "251ba211-9de3-460e-94ff-89fae9f99b4c"
      },
      "execution_count": null,
      "outputs": [
        {
          "output_type": "stream",
          "name": "stdout",
          "text": [
            "['__add__', '__class__', '__class_getitem__', '__contains__', '__delattr__', '__delitem__', '__dir__', '__doc__', '__eq__', '__format__', '__ge__', '__getattribute__', '__getitem__', '__getstate__', '__gt__', '__hash__', '__iadd__', '__imul__', '__init__', '__init_subclass__', '__iter__', '__le__', '__len__', '__lt__', '__mul__', '__ne__', '__new__', '__reduce__', '__reduce_ex__', '__repr__', '__reversed__', '__rmul__', '__setattr__', '__setitem__', '__sizeof__', '__str__', '__subclasshook__', 'append', 'clear', 'copy', 'count', 'extend', 'index', 'insert', 'pop', 'remove', 'reverse', 'sort']\n"
          ]
        }
      ]
    },
    {
      "cell_type": "code",
      "source": [
        "#1.append() by the defualt it add the item at the end index podsition number\n",
        "#at a time we can add only 1 num\n",
        "l4.append('java')\n",
        "print(l4)"
      ],
      "metadata": {
        "colab": {
          "base_uri": "https://localhost:8080/"
        },
        "id": "1ASzf600bRE4",
        "outputId": "ad1b43ed-a1fe-49f1-ad0b-1114a4068351"
      },
      "execution_count": null,
      "outputs": [
        {
          "output_type": "stream",
          "name": "stdout",
          "text": [
            "['python', 'pandas', 'numpy', 'seaborn', '.net', 'c', 'c++', 'java']\n"
          ]
        }
      ]
    },
    {
      "cell_type": "code",
      "source": [
        "#2.insert(index,'item):- used to add the item at particular index position\n",
        "#2.insert(index,'item):- used to add the item at particular index position\n",
        "#we cannot able to insert the multiple items at a time by using the insert method\n",
        "#Q. add the 'statistics' at the 5th index position\n",
        "\n",
        "l4.insert(5,'statistics')\n",
        "print(l4)"
      ],
      "metadata": {
        "colab": {
          "base_uri": "https://localhost:8080/"
        },
        "id": "zDYIjM1nbl9d",
        "outputId": "b2444e36-5a8b-4e2d-e512-026f59262f6b"
      },
      "execution_count": null,
      "outputs": [
        {
          "output_type": "stream",
          "name": "stdout",
          "text": [
            "['python', 'pandas', 'numpy', 'seaborn', '.net', 'statistics', 'c', 'c++', 'java']\n"
          ]
        }
      ]
    },
    {
      "cell_type": "code",
      "source": [
        "#3.extend():- add the multiple items from other collections\n",
        "#by default those data can be add at last index position\n",
        "l5 = [1,2,3,4,5,6]\n",
        "l6 = [7,8,9,10,11,12]\n",
        "print(l6+l5)"
      ],
      "metadata": {
        "colab": {
          "base_uri": "https://localhost:8080/"
        },
        "id": "l13CUprgcVI-",
        "outputId": "3ab9dff0-ec8f-4201-ec0c-138ec27c3db9"
      },
      "execution_count": null,
      "outputs": [
        {
          "output_type": "stream",
          "name": "stdout",
          "text": [
            "[7, 8, 9, 10, 11, 12, 1, 2, 3, 4, 5, 6]\n"
          ]
        }
      ]
    },
    {
      "cell_type": "code",
      "source": [
        "#extend the 15 with 16\n",
        "l5.extend(l6)\n",
        "print(l5)"
      ],
      "metadata": {
        "colab": {
          "base_uri": "https://localhost:8080/"
        },
        "id": "DzKGh3hvc9AU",
        "outputId": "e36a46c6-af73-4cdd-d6d4-4c9ff3f62ad5"
      },
      "execution_count": null,
      "outputs": [
        {
          "output_type": "stream",
          "name": "stdout",
          "text": [
            "[1, 2, 3, 4, 5, 6, 7, 8, 9, 10, 11, 12]\n"
          ]
        }
      ]
    },
    {
      "cell_type": "markdown",
      "source": [
        "# 10-04-2025"
      ],
      "metadata": {
        "id": "4dBuYW67a03P"
      }
    },
    {
      "cell_type": "markdown",
      "source": [
        "set\n"
      ],
      "metadata": {
        "id": "yketjOokb1w3"
      }
    },
    {
      "cell_type": "code",
      "source": [
        "s1={'apple','banana','mango','orange','apple','banana','grapes'}\n",
        "print(s1)\n",
        "print(len(s1))\n",
        "print(type(s1))\n",
        "\n"
      ],
      "metadata": {
        "colab": {
          "base_uri": "https://localhost:8080/"
        },
        "id": "HraHd4s3a4_V",
        "outputId": "4c5a16df-7ae9-40c0-85a4-e87b16a5a70b"
      },
      "execution_count": null,
      "outputs": [
        {
          "output_type": "stream",
          "name": "stdout",
          "text": [
            "{'grapes', 'banana', 'mango', 'apple', 'orange'}\n",
            "5\n",
            "<class 'set'>\n"
          ]
        }
      ]
    },
    {
      "cell_type": "markdown",
      "source": [
        "set is unorderd\n"
      ],
      "metadata": {
        "id": "U_dCUH_mcSwx"
      }
    },
    {
      "cell_type": "code",
      "source": [
        "#the data points in the set doesnot have index position\n",
        "print(s1[1])\n",
        "#'set' object is not subscriptable beacuse data in the set doesnot have index position"
      ],
      "metadata": {
        "id": "KeQrii4scbvj"
      },
      "execution_count": null,
      "outputs": []
    },
    {
      "cell_type": "code",
      "source": [
        "l = ['grapes', 'banana', 'mango', 'apple', 'orange']\n",
        "print(l)"
      ],
      "metadata": {
        "colab": {
          "base_uri": "https://localhost:8080/"
        },
        "id": "lKhOodl8c4nh",
        "outputId": "82da41cc-0a1f-4cf2-dd9a-011bb11d619d"
      },
      "execution_count": null,
      "outputs": [
        {
          "output_type": "stream",
          "name": "stdout",
          "text": [
            "['grapes', 'banana', 'mango', 'apple', 'orange']\n"
          ]
        }
      ]
    },
    {
      "cell_type": "code",
      "source": [
        "s2 = {'grapes', 'banana', 'mango', 'apple', 'orange'}\n",
        "print(s2)"
      ],
      "metadata": {
        "colab": {
          "base_uri": "https://localhost:8080/"
        },
        "id": "etzQ9syNdGY1",
        "outputId": "539d38ff-c698-4597-9ff3-887adba49d97"
      },
      "execution_count": null,
      "outputs": [
        {
          "output_type": "stream",
          "name": "stdout",
          "text": [
            "{'grapes', 'banana', 'mango', 'apple', 'orange'}\n"
          ]
        }
      ]
    },
    {
      "cell_type": "markdown",
      "source": [
        "set is immutable\n",
        "--> in set we can add and remove the items but we cannot replace the items"
      ],
      "metadata": {
        "id": "R7tNbmJndNrj"
      }
    },
    {
      "cell_type": "code",
      "source": [
        "s3 = {'grapes', 'banana', 'mango', 'apple', 'orange'}\n",
        "print(dir(s3))\n",
        "\"\"\"'add', 'clear', 'copy', 'difference', 'difference_update', 'discard', 'intersection', 'intersection_update', 'isdisjoint', 'issubset', 'issuperset', 'pop', 'remove', 'symmetric_difference', 'symmetric_difference_update', 'union', 'update'\"\"\""
      ],
      "metadata": {
        "colab": {
          "base_uri": "https://localhost:8080/"
        },
        "id": "ed-W3TVaddBW",
        "outputId": "d0f6f910-8e29-467b-8417-c3783b688fdc"
      },
      "execution_count": null,
      "outputs": [
        {
          "output_type": "stream",
          "name": "stdout",
          "text": [
            "['__and__', '__class__', '__class_getitem__', '__contains__', '__delattr__', '__dir__', '__doc__', '__eq__', '__format__', '__ge__', '__getattribute__', '__getstate__', '__gt__', '__hash__', '__iand__', '__init__', '__init_subclass__', '__ior__', '__isub__', '__iter__', '__ixor__', '__le__', '__len__', '__lt__', '__ne__', '__new__', '__or__', '__rand__', '__reduce__', '__reduce_ex__', '__repr__', '__ror__', '__rsub__', '__rxor__', '__setattr__', '__sizeof__', '__str__', '__sub__', '__subclasshook__', '__xor__', 'add', 'clear', 'copy', 'difference', 'difference_update', 'discard', 'intersection', 'intersection_update', 'isdisjoint', 'issubset', 'issuperset', 'pop', 'remove', 'symmetric_difference', 'symmetric_difference_update', 'union', 'update']\n"
          ]
        }
      ]
    },
    {
      "cell_type": "code",
      "source": [
        "#how can add the items in the set?\n",
        "#1.add() at a time we can add only single item\n",
        "#so the item can be stored at any where\n",
        "#add watermelon to the s3\n",
        "s3.add('watermelon')\n",
        "print(s3)"
      ],
      "metadata": {
        "colab": {
          "base_uri": "https://localhost:8080/"
        },
        "id": "5gPc-sjYeGEi",
        "outputId": "e9a705c4-ff7f-4aa1-a0dd-987d46586048"
      },
      "execution_count": null,
      "outputs": [
        {
          "output_type": "stream",
          "name": "stdout",
          "text": [
            "{'grapes', 'banana', 'mango', 'apple', 'orange', 'watermelon'}\n"
          ]
        }
      ]
    },
    {
      "cell_type": "code",
      "source": [
        "#2.update() by using update method we can add multiple items to the set\n",
        "s4 = {1,2,3,4,5,6,7,8,9,10}\n",
        "s3.update(s4)\n",
        "print(s3)"
      ],
      "metadata": {
        "colab": {
          "base_uri": "https://localhost:8080/"
        },
        "id": "M8-pagSZelAJ",
        "outputId": "9d41f54a-0a2c-4af0-8274-afc2ead50446"
      },
      "execution_count": null,
      "outputs": [
        {
          "output_type": "stream",
          "name": "stdout",
          "text": [
            "{1, 2, 3, 4, 5, 6, 7, 8, 9, 10, 'mango', 'orange', 'watermelon', 'banana', 'apple', 'grapes'}\n"
          ]
        }
      ]
    },
    {
      "cell_type": "markdown",
      "source": [
        "remove items from the set"
      ],
      "metadata": {
        "id": "z1zxHGZkfCDj"
      }
    },
    {
      "cell_type": "code",
      "source": [
        "s5 = {1, 2, 3, 4, 5, 6, 7, 8, 9, 10, 'apple', 'banana', 'grapes', 'mango', 'orange', 'watermelon'}\n",
        "#pop() is bad practice beacuse it doesnt have ondex position\n",
        "s5.pop()\n",
        "print(s5)"
      ],
      "metadata": {
        "colab": {
          "base_uri": "https://localhost:8080/"
        },
        "id": "oXmEfR5JfH11",
        "outputId": "dff8547a-69e1-442a-b6a6-ca086742b3fe"
      },
      "execution_count": null,
      "outputs": [
        {
          "output_type": "stream",
          "name": "stdout",
          "text": [
            "{2, 3, 4, 5, 6, 7, 8, 9, 10, 'mango', 'orange', 'watermelon', 'banana', 'apple', 'grapes'}\n"
          ]
        }
      ]
    },
    {
      "cell_type": "code",
      "source": [
        "#remove('item_name')\n",
        "s5.remove('mango')\n",
        "print(s5)"
      ],
      "metadata": {
        "colab": {
          "base_uri": "https://localhost:8080/"
        },
        "id": "C0jkdHeDfqlX",
        "outputId": "e90f30a2-03d9-4882-cde2-5fd54b9fa7ff"
      },
      "execution_count": null,
      "outputs": [
        {
          "output_type": "stream",
          "name": "stdout",
          "text": [
            "{2, 3, 4, 5, 6, 7, 8, 9, 10, 'orange', 'watermelon', 'banana', 'apple', 'grapes'}\n"
          ]
        }
      ]
    },
    {
      "cell_type": "code",
      "source": [
        "#discard('item_name'):- used to remove the items from the sets\n",
        "s5.discard(8)\n",
        "print(s5)"
      ],
      "metadata": {
        "colab": {
          "base_uri": "https://localhost:8080/"
        },
        "id": "yPVViw-Nf3LM",
        "outputId": "4edd4a4e-827d-47a8-bab1-7a5ff106f531"
      },
      "execution_count": null,
      "outputs": [
        {
          "output_type": "stream",
          "name": "stdout",
          "text": [
            "{2, 3, 4, 5, 6, 7, 9, 10, 'orange', 'watermelon', 'banana', 'apple', 'grapes'}\n"
          ]
        }
      ]
    },
    {
      "cell_type": "code",
      "source": [
        "#what is the difference between the remove and discard?\n",
        "s5.remove('mango')\n",
        "print(s5)"
      ],
      "metadata": {
        "id": "k76xN7F7gJBV"
      },
      "execution_count": null,
      "outputs": []
    },
    {
      "cell_type": "code",
      "source": [
        "s5.discard('mango')\n",
        "print(s5)"
      ],
      "metadata": {
        "colab": {
          "base_uri": "https://localhost:8080/"
        },
        "id": "Bwr6se_6gdZ1",
        "outputId": "4212406e-4c7b-47fa-b49d-318735087eaa"
      },
      "execution_count": null,
      "outputs": [
        {
          "output_type": "stream",
          "name": "stdout",
          "text": [
            "{2, 3, 4, 5, 6, 7, 9, 10, 'orange', 'watermelon', 'banana', 'apple', 'grapes'}\n"
          ]
        }
      ]
    },
    {
      "cell_type": "code",
      "source": [
        "#in remove method if the item exist it wont rise error else if the item not present in the set it will rise error\n",
        "#where as in the discard if the item exist or not esxist it wint rise the error"
      ],
      "metadata": {
        "id": "wr3XSV7Wgi-J"
      },
      "execution_count": null,
      "outputs": []
    },
    {
      "cell_type": "code",
      "source": [
        "#clear():- it returns empty set\n",
        "s5.clear()\n",
        "print(s5)"
      ],
      "metadata": {
        "colab": {
          "base_uri": "https://localhost:8080/"
        },
        "id": "p7TyZCUng3Hh",
        "outputId": "2a6f53a6-2fd9-44f2-cf83-0e4a5f99154d"
      },
      "execution_count": null,
      "outputs": [
        {
          "output_type": "stream",
          "name": "stdout",
          "text": [
            "set()\n"
          ]
        }
      ]
    },
    {
      "cell_type": "code",
      "source": [
        "#sets are faster the than the list and tuples beacuse sets are ordered and immutable"
      ],
      "metadata": {
        "id": "jLcLjfFWg_s0"
      },
      "execution_count": null,
      "outputs": []
    },
    {
      "cell_type": "code",
      "source": [
        "s6 = {'a','b','c','d'}\n",
        "s7 = {'d','e','f','g'}\n",
        "print(s6.union(s7))"
      ],
      "metadata": {
        "colab": {
          "base_uri": "https://localhost:8080/"
        },
        "id": "BxYULrEyhO07",
        "outputId": "dcee22bd-213f-438e-d6f5-ee8b8401628c"
      },
      "execution_count": null,
      "outputs": [
        {
          "output_type": "stream",
          "name": "stdout",
          "text": [
            "{'b', 'd', 'e', 'a', 'c', 'g', 'f'}\n"
          ]
        }
      ]
    },
    {
      "cell_type": "code",
      "source": [
        "#i want the common data from the data set\n",
        "print(s6.intersection(s7))"
      ],
      "metadata": {
        "colab": {
          "base_uri": "https://localhost:8080/"
        },
        "id": "jvrps0QAhqT-",
        "outputId": "a8143d11-de90-4ecb-b68a-c0b59215b974"
      },
      "execution_count": null,
      "outputs": [
        {
          "output_type": "stream",
          "name": "stdout",
          "text": [
            "{'d'}\n"
          ]
        }
      ]
    },
    {
      "cell_type": "code",
      "source": [
        "print(s6.difference(s7))"
      ],
      "metadata": {
        "colab": {
          "base_uri": "https://localhost:8080/"
        },
        "id": "XDRyQMqTh1JL",
        "outputId": "05a488e1-891d-417b-dd4d-88f83b022859"
      },
      "execution_count": null,
      "outputs": [
        {
          "output_type": "stream",
          "name": "stdout",
          "text": [
            "{'b', 'a', 'c'}\n"
          ]
        }
      ]
    },
    {
      "cell_type": "markdown",
      "source": [
        "# dictionary"
      ],
      "metadata": {
        "id": "9ml93HSjikth"
      }
    },
    {
      "cell_type": "code",
      "source": [
        "#what is dictionary or define dictionary or how can we declare a dictionary?\n",
        "#dictionary acn be declare by using--> {}\n",
        "#how can we store the data in dictionary\n",
        "#{key:value} pairs"
      ],
      "metadata": {
        "id": "qLRQ_i3_iLpB"
      },
      "execution_count": null,
      "outputs": []
    },
    {
      "cell_type": "code",
      "source": [
        "#dictionary is defined as unordered,mutable, and dict won't allow duplicate data"
      ],
      "metadata": {
        "id": "vamWbwmTjEqT"
      },
      "execution_count": null,
      "outputs": []
    },
    {
      "cell_type": "markdown",
      "source": [
        "dict won't allow duplicate data"
      ],
      "metadata": {
        "id": "Qh-dA9qpjUHp"
      }
    },
    {
      "cell_type": "code",
      "source": [
        "d1 = {\n",
        "    'Name' : 'Naveen',\n",
        "    'Age' : 24,\n",
        "    'Occupation' : 'Data Scientist',\n",
        "    'Education' : 'MS',\n",
        "    'Education' : 'Masters'\n",
        "}\n",
        "print(d1)\n",
        "print(len(d1))\n"
      ],
      "metadata": {
        "colab": {
          "base_uri": "https://localhost:8080/"
        },
        "id": "HGO5bd5JjVkq",
        "outputId": "aa9b8d2c-2a73-4bc6-bb34-3dc81b08c818"
      },
      "execution_count": null,
      "outputs": [
        {
          "output_type": "stream",
          "name": "stdout",
          "text": [
            "{'Name': 'Naveen', 'Age': 24, 'Occupation': 'Data Scientist', 'Education': 'Masters'}\n",
            "4\n"
          ]
        }
      ]
    },
    {
      "cell_type": "markdown",
      "source": [
        "# dict is unordered"
      ],
      "metadata": {
        "id": "Xj0nQ7hckWZT"
      }
    },
    {
      "cell_type": "code",
      "source": [
        "d1 = {\n",
        "    'Name' : 'Naveen',\n",
        "    'Age' : 24,\n",
        "    'Occupation' : 'Data Scientist',\n",
        "    'Education' : 'MS',\n",
        "}\n",
        "#print(d1[1])\n",
        "#how can we access the data from dict\n",
        "print(d1['Education'])\n"
      ],
      "metadata": {
        "colab": {
          "base_uri": "https://localhost:8080/"
        },
        "id": "-5sL-C-fkbkS",
        "outputId": "93f75381-d535-432b-a40e-03895cf7c9cd"
      },
      "execution_count": null,
      "outputs": [
        {
          "output_type": "stream",
          "name": "stdout",
          "text": [
            "MS\n"
          ]
        }
      ]
    },
    {
      "cell_type": "code",
      "source": [
        "#access the specific keys\n",
        "print(d1['Name','Age'])"
      ],
      "metadata": {
        "id": "jEl0y0WjlEkm"
      },
      "execution_count": null,
      "outputs": []
    },
    {
      "cell_type": "code",
      "source": [
        "k = ['Name','Age','Occupation','Education']\n",
        "print(k)\n",
        "print(d1['Name'],d1['Age'],d1['Occupation'],d1['Education'']"
      ],
      "metadata": {
        "id": "QlZV01tPkJMG"
      },
      "execution_count": null,
      "outputs": []
    },
    {
      "cell_type": "code",
      "source": [
        "#replace the items in the dict\n",
        "d1 = {\n",
        "    'Name' : 'Naveen',\n",
        "    'Age' : 24,\n",
        "    'Occupation' : 'Data Scientist',\n",
        "    'Education' : 'MS',\n",
        "}\n",
        "d1['Name'] = 'Naveen Jatoth'\n",
        "print(d1)"
      ],
      "metadata": {
        "colab": {
          "base_uri": "https://localhost:8080/"
        },
        "id": "SKve_dN1mOtO",
        "outputId": "0216d71b-05ed-4f35-be6c-e15de46da3f9"
      },
      "execution_count": null,
      "outputs": [
        {
          "output_type": "stream",
          "name": "stdout",
          "text": [
            "{'Name': 'Naveen Jatoth', 'Age': 24, 'Occupation': 'Data Scientist', 'Education': 'MS'}\n"
          ]
        }
      ]
    },
    {
      "cell_type": "code",
      "source": [
        "#add the new key:value pair to the d1\n",
        "d1['Bike'] = 'Nani'\n",
        "print(d1)"
      ],
      "metadata": {
        "colab": {
          "base_uri": "https://localhost:8080/"
        },
        "id": "WW4PqzdAmsI4",
        "outputId": "88c13e04-6c86-4da8-858b-da440a6a5535"
      },
      "execution_count": null,
      "outputs": [
        {
          "output_type": "stream",
          "name": "stdout",
          "text": [
            "{'Name': 'Naveen Jatoth', 'Age': 24, 'Occupation': 'Data Scientist', 'Education': 'MS', 'Bike': 'Nani'}\n"
          ]
        }
      ]
    },
    {
      "cell_type": "code",
      "source": [
        "#remove the data from dict\n",
        "print(dir(d1))"
      ],
      "metadata": {
        "colab": {
          "base_uri": "https://localhost:8080/"
        },
        "id": "Shab1iQsm7_H",
        "outputId": "0c6712e8-8cf1-4ef1-f153-60cb32a201cb"
      },
      "execution_count": null,
      "outputs": [
        {
          "output_type": "stream",
          "name": "stdout",
          "text": [
            "['__class__', '__class_getitem__', '__contains__', '__delattr__', '__delitem__', '__dir__', '__doc__', '__eq__', '__format__', '__ge__', '__getattribute__', '__getitem__', '__getstate__', '__gt__', '__hash__', '__init__', '__init_subclass__', '__ior__', '__iter__', '__le__', '__len__', '__lt__', '__ne__', '__new__', '__or__', '__reduce__', '__reduce_ex__', '__repr__', '__reversed__', '__ror__', '__setattr__', '__setitem__', '__sizeof__', '__str__', '__subclasshook__', 'clear', 'copy', 'fromkeys', 'get', 'items', 'keys', 'pop', 'popitem', 'setdefault', 'update', 'values']\n"
          ]
        }
      ]
    },
    {
      "cell_type": "code",
      "source": [
        "#pop('key_name'):- we must and should have give the keynames\n",
        "d1.pop('Education')\n",
        "print(d1)"
      ],
      "metadata": {
        "colab": {
          "base_uri": "https://localhost:8080/"
        },
        "id": "nVoEV_H-nEJQ",
        "outputId": "01a22d1f-f024-4586-d990-327fb35ed42d"
      },
      "execution_count": null,
      "outputs": [
        {
          "output_type": "stream",
          "name": "stdout",
          "text": [
            "{'Name': 'Naveen Jatoth', 'Age': 24, 'Occupation': 'Data Scientist', 'Bike': 'Nani'}\n"
          ]
        }
      ]
    },
    {
      "cell_type": "code",
      "source": [
        " #popitem():- it removes the key value pairs as a tuples\n",
        "d1.popitem()"
      ],
      "metadata": {
        "colab": {
          "base_uri": "https://localhost:8080/"
        },
        "id": "zrK_eJNkncco",
        "outputId": "8be320e5-8d12-4e5e-9b73-8789775a25eb"
      },
      "execution_count": null,
      "outputs": [
        {
          "output_type": "execute_result",
          "data": {
            "text/plain": [
              "('Occupation', 'Data Scientist')"
            ]
          },
          "metadata": {},
          "execution_count": 34
        }
      ]
    },
    {
      "cell_type": "code",
      "source": [
        "#clear()\n",
        "d1.clear()\n",
        "print(d1)"
      ],
      "metadata": {
        "colab": {
          "base_uri": "https://localhost:8080/"
        },
        "id": "eUm6PzR0n_ai",
        "outputId": "e5c0a5e2-667a-46de-af6a-93334865159d"
      },
      "execution_count": null,
      "outputs": [
        {
          "output_type": "stream",
          "name": "stdout",
          "text": [
            "{}\n"
          ]
        }
      ]
    },
    {
      "cell_type": "code",
      "source": [
        "d1 = {\n",
        "    'Name' : 'Naveen',\n",
        "    'Age' : 24,\n",
        "    'Occupation' : 'Data Scientist',\n",
        "    'Education' : 'MS',\n",
        "    'Fruits' : ['apple','banana','mango','orange']\n",
        "}\n",
        "#print 'mango' from above d1\n",
        "print(d1['Fruits'][2])\n"
      ],
      "metadata": {
        "colab": {
          "base_uri": "https://localhost:8080/"
        },
        "id": "LeVeDnR1oHF7",
        "outputId": "9688898a-d665-4001-8604-a2f0bc5cd22c"
      },
      "execution_count": null,
      "outputs": [
        {
          "output_type": "stream",
          "name": "stdout",
          "text": [
            "mango\n"
          ]
        }
      ]
    },
    {
      "cell_type": "code",
      "source": [
        "#replace the orange with grapes\n",
        "d1['Fruits'] [-1] = 'grapes'\n",
        "print(d1)"
      ],
      "metadata": {
        "colab": {
          "base_uri": "https://localhost:8080/"
        },
        "id": "qyd4i_6mokKa",
        "outputId": "ebaff95e-91c3-4c52-cf29-3ff81bf2f24f"
      },
      "execution_count": null,
      "outputs": [
        {
          "output_type": "stream",
          "name": "stdout",
          "text": [
            "{'Name': 'Naveen', 'Age': 24, 'Occupation': 'Data Scientist', 'Education': 'MS', 'Fruits': ['apple', 'banana', 'mango', 'grapes']}\n"
          ]
        }
      ]
    },
    {
      "cell_type": "code",
      "source": [
        "#update()\n",
        "d2 = {'nani':'chay'}\n",
        "d1.update(d2)\n",
        "print(d1)"
      ],
      "metadata": {
        "colab": {
          "base_uri": "https://localhost:8080/"
        },
        "id": "h8eq32cKo47Y",
        "outputId": "f5be3756-bf5c-4905-aa38-9841cebb4f3d"
      },
      "execution_count": null,
      "outputs": [
        {
          "output_type": "stream",
          "name": "stdout",
          "text": [
            "{'Name': 'Naveen', 'Age': 24, 'Occupation': 'Data Scientist', 'Education': 'MS', 'Fruits': ['apple', 'banana', 'mango', 'grapes'], 'nani': 'chay'}\n"
          ]
        }
      ]
    },
    {
      "cell_type": "code",
      "source": [
        "print(d1.keys())\n",
        "print(d1.values())\n",
        "print(d1.items())"
      ],
      "metadata": {
        "colab": {
          "base_uri": "https://localhost:8080/"
        },
        "id": "OVMeXIRnrhqz",
        "outputId": "a5ae8996-e766-49cc-b80d-ffbcbe983415"
      },
      "execution_count": null,
      "outputs": [
        {
          "output_type": "stream",
          "name": "stdout",
          "text": [
            "dict_keys(['Name', 'Age', 'Occupation', 'Education', 'Fruits', 'nani'])\n",
            "dict_values(['Naveen', 24, 'Data Scientist', 'MS', ['apple', 'banana', 'mango', 'grapes'], 'chay'])\n",
            "dict_items([('Name', 'Naveen'), ('Age', 24), ('Occupation', 'Data Scientist'), ('Education', 'MS'), ('Fruits', ['apple', 'banana', 'mango', 'grapes']), ('nani', 'chay')])\n"
          ]
        }
      ]
    },
    {
      "cell_type": "code",
      "source": [
        "\"\"\"1.list --> []---> ordered,mutable,allows duplicates\n",
        "                --->adding methods:- append(),insert(),extend()\n",
        "                ---.removing methods:-pop(),remove(),clear()\n",
        "  2.tuples  -->()--->ordered,immutable,allows duplicates\n",
        "                --->we cannot replace or add or remove items\n",
        "  3.sets  -->  unordered,immutable, doesnot allows duplicates\n",
        "               adding methods--:- add,update,union\n",
        "               removing method:-pop(), remlove(),discard(),clear(),intersection(),difference()\n",
        "\n",
        " 4.dictionary:- {key:values} pairs---> unordered,mutable,wont allow duplicates\n",
        "              adding methods-->update()\n",
        "              -->dict_name['new_key_names] = 'value'\n",
        "              remove method  -:pop(),clear(),popitem()\"\"\""
      ],
      "metadata": {
        "id": "mCdO_oE8pc53"
      },
      "execution_count": null,
      "outputs": []
    },
    {
      "cell_type": "markdown",
      "source": [
        "**Assessment** 11-04-2025"
      ],
      "metadata": {
        "id": "J9s7GJW8uBN6"
      }
    },
    {
      "cell_type": "code",
      "source": [
        "#What is the output of the following list operation\n",
        "aList = [10, 20, 30, 40, 50, 60, 70, 80]\n",
        "\n",
        "print(aList[2:5])\n",
        "print(aList[:4])\n"
      ],
      "metadata": {
        "colab": {
          "base_uri": "https://localhost:8080/"
        },
        "id": "nrqU7pkplkx4",
        "outputId": "cb8bf86f-eca2-47b0-baad-3f9111dcedb3"
      },
      "execution_count": null,
      "outputs": [
        {
          "output_type": "stream",
          "name": "stdout",
          "text": [
            "[30, 40, 50]\n",
            "[10, 20, 30, 40]\n"
          ]
        }
      ]
    },
    {
      "cell_type": "code",
      "source": [
        "#What is the output of the following list assignment\n",
        "aList = [4, 8, 12, 16]\n",
        "aList[1:4] = [20, 24, 28]\n",
        "print(aList)"
      ],
      "metadata": {
        "colab": {
          "base_uri": "https://localhost:8080/"
        },
        "id": "B0OFMId3mAn7",
        "outputId": "e196c944-1c3b-4010-cb55-40bfc9321a98"
      },
      "execution_count": null,
      "outputs": [
        {
          "output_type": "stream",
          "name": "stdout",
          "text": [
            "[4, 20, 24, 28]\n"
          ]
        }
      ]
    },
    {
      "cell_type": "code",
      "source": [
        "#Select all the correct options to copy a list\n",
        "aList = ['a', 'b', 'c', 'd']\n",
        "print"
      ],
      "metadata": {
        "id": "3PmVhLS8mNNy"
      },
      "execution_count": null,
      "outputs": []
    },
    {
      "cell_type": "code",
      "source": [
        "#What is the output of the following\n",
        "aList = [5, 10, 15, 25]\n",
        "print(aList[::-2])"
      ],
      "metadata": {
        "colab": {
          "base_uri": "https://localhost:8080/"
        },
        "id": "Ux5gYOo8mlYq",
        "outputId": "7fc77cc5-a6d1-4bc5-93cb-e37d0c256391"
      },
      "execution_count": null,
      "outputs": [
        {
          "output_type": "stream",
          "name": "stdout",
          "text": [
            "[25, 10]\n"
          ]
        }
      ]
    },
    {
      "cell_type": "code",
      "source": [
        "#What is the output of the following code\n",
        "aSet = {1, 'PYnative', ('abc', 'xyz'), True}\n",
        "print(aSet)"
      ],
      "metadata": {
        "colab": {
          "base_uri": "https://localhost:8080/"
        },
        "id": "pKXWVW7_nLCF",
        "outputId": "62dc0737-2a80-459b-cad6-0fb540606a7e"
      },
      "execution_count": null,
      "outputs": [
        {
          "output_type": "stream",
          "name": "stdout",
          "text": [
            "{('abc', 'xyz'), 1, 'PYnative'}\n"
          ]
        }
      ]
    },
    {
      "cell_type": "code",
      "source": [
        "#What is the output of the following\n",
        "sampleSet = {\"Yellow\", \"Orange\", \"Black\"}\n",
        "sampleSet.discard(\"Blue\")\n",
        "print(sampleSet)"
      ],
      "metadata": {
        "colab": {
          "base_uri": "https://localhost:8080/"
        },
        "id": "urmHCcp4nuGJ",
        "outputId": "ecbdc77a-ddc1-4fbd-9025-35e5eb78d030"
      },
      "execution_count": null,
      "outputs": [
        {
          "output_type": "stream",
          "name": "stdout",
          "text": [
            "{'Yellow', 'Black', 'Orange'}\n"
          ]
        }
      ]
    },
    {
      "cell_type": "code",
      "source": [
        "#What is the output of the following union operation\n",
        "\n",
        "set1 = {10, 20, 30, 40}\n",
        "set2 = {50, 20, \"10\", 60}\n",
        "set3 = set1.union(set2)\n",
        "print(set3)"
      ],
      "metadata": {
        "colab": {
          "base_uri": "https://localhost:8080/"
        },
        "id": "JnPl1ZNxoA6d",
        "outputId": "51024b46-5a7f-4396-8e45-72e774558abd"
      },
      "execution_count": null,
      "outputs": [
        {
          "output_type": "stream",
          "name": "stdout",
          "text": [
            "{'10', 40, 10, 50, 20, 60, 30}\n"
          ]
        }
      ]
    },
    {
      "cell_type": "code",
      "source": [
        "#What is the output of the following set operation\n",
        "sampleSet = {\"Yellow\", \"Orange\", \"Black\"}\n",
        "sampleSet.update([\"Blue\", \"Green\", \"Red\"])\n",
        "print(sampleSet)"
      ],
      "metadata": {
        "colab": {
          "base_uri": "https://localhost:8080/"
        },
        "id": "vkefM8ZkoIo1",
        "outputId": "a1b5eaa5-c6e2-4691-cafb-2e9d9d55f5bc"
      },
      "execution_count": null,
      "outputs": [
        {
          "output_type": "stream",
          "name": "stdout",
          "text": [
            "{'Yellow', 'Black', 'Blue', 'Red', 'Green', 'Orange'}\n"
          ]
        }
      ]
    },
    {
      "cell_type": "code",
      "source": [
        "#What is the output of the following set operation\n",
        "set1 = {\"Yellow\", \"Orange\", \"Black\"}\n",
        "set2 = {\"Orange\", \"Blue\", \"Pink\"}\n",
        "set3 = set2.difference(set1)\n",
        "print(set3)"
      ],
      "metadata": {
        "colab": {
          "base_uri": "https://localhost:8080/"
        },
        "id": "hvcJ-cqwoV9R",
        "outputId": "d7de7164-0db7-496c-bb01-1adf88d51772"
      },
      "execution_count": null,
      "outputs": [
        {
          "output_type": "stream",
          "name": "stdout",
          "text": [
            "{'Blue', 'Pink'}\n"
          ]
        }
      ]
    },
    {
      "cell_type": "code",
      "source": [
        "#What is the output of the following\n",
        "sampleSet = {\"Yellow\", \"Orange\", \"Black\"}\n",
        "sampleSet.add(\"Blue\")\n",
        "sampleSet.add(\"Orange\")\n",
        "print(sampleSet)"
      ],
      "metadata": {
        "colab": {
          "base_uri": "https://localhost:8080/"
        },
        "id": "2YLPnrywohO2",
        "outputId": "7e1d54ed-837c-4953-b64d-1d427cc443f2"
      },
      "execution_count": null,
      "outputs": [
        {
          "output_type": "stream",
          "name": "stdout",
          "text": [
            "{'Blue', 'Yellow', 'Black', 'Orange'}\n"
          ]
        }
      ]
    },
    {
      "cell_type": "code",
      "source": [
        "#What is the output of the following\n",
        "\n",
        "set1 = {10, 20, 30, 40, 50}\n",
        "set2 = {60, 70, 10, 30, 40, 80, 20, 50}\n",
        "print(set1.issubset(set2))\n",
        "print(set2.issuperset(set1))"
      ],
      "metadata": {
        "colab": {
          "base_uri": "https://localhost:8080/"
        },
        "id": "JSTW2UbdorWi",
        "outputId": "be05fe19-de48-4653-f24a-cbbe1596953e"
      },
      "execution_count": null,
      "outputs": [
        {
          "output_type": "stream",
          "name": "stdout",
          "text": [
            "True\n",
            "True\n"
          ]
        }
      ]
    },
    {
      "cell_type": "code",
      "source": [
        "#Given the following code, what will be the output?\n",
        "a = [1, 2, 3]\n",
        "b = a[:]\n",
        "a[0] = 0\n",
        "print(b)"
      ],
      "metadata": {
        "colab": {
          "base_uri": "https://localhost:8080/"
        },
        "id": "sSpAG6sDoxb-",
        "outputId": "3dd756c2-2590-4473-b9f6-aa57bbd3ae99"
      },
      "execution_count": null,
      "outputs": [
        {
          "output_type": "stream",
          "name": "stdout",
          "text": [
            "[1, 2, 3]\n"
          ]
        }
      ]
    },
    {
      "cell_type": "code",
      "source": [
        "#What is the output of the following code?\n",
        "\n",
        "from collections import deque\n",
        "d = deque([1, 2, 3])\n",
        "d.appendleft(0)\n",
        "d.pop()\n",
        "print(d)"
      ],
      "metadata": {
        "colab": {
          "base_uri": "https://localhost:8080/"
        },
        "id": "gYePhZnEo-4l",
        "outputId": "a183c2f3-3391-45dc-ac66-7c645fc11028"
      },
      "execution_count": null,
      "outputs": [
        {
          "output_type": "stream",
          "name": "stdout",
          "text": [
            "deque([0, 1, 2])\n"
          ]
        }
      ]
    },
    {
      "cell_type": "code",
      "source": [
        "#What will be the output of the following code?\n",
        "x = 5\n",
        "if x > 10:\n",
        "    print(\"Greater\")\n",
        "elif x == 5:\n",
        "    print(\"Equal\")\n",
        "else:\n",
        "    print(\"Smaller\")"
      ],
      "metadata": {
        "colab": {
          "base_uri": "https://localhost:8080/"
        },
        "id": "fKjdsWulpKhY",
        "outputId": "c5cc0ab1-3fd5-4398-91a2-f30843dcdcef"
      },
      "execution_count": null,
      "outputs": [
        {
          "output_type": "stream",
          "name": "stdout",
          "text": [
            "Equal\n"
          ]
        }
      ]
    },
    {
      "cell_type": "code",
      "source": [
        "Set = {30, 40, 50}\n",
        "Set.update([10, 20, 30])\n",
        "print(Set)\n",
        "#Predict the output:(ignore the order of numbers as set is unordered)\n"
      ],
      "metadata": {
        "colab": {
          "base_uri": "https://localhost:8080/"
        },
        "id": "_9qDYWwyqJ_f",
        "outputId": "e4b9e50b-3b10-4dbd-b7fe-89493eca4148"
      },
      "execution_count": null,
      "outputs": [
        {
          "output_type": "stream",
          "name": "stdout",
          "text": [
            "{40, 10, 50, 20, 30}\n"
          ]
        }
      ]
    },
    {
      "cell_type": "code",
      "source": [
        "Tuple = (3e-04, False, True, 8.12, 1.111, True)\n",
        "value = 0\n",
        "for z in Tuple:\n",
        "    value += int(z)\n",
        "print(value)\n",
        "\n",
        "#Predict the output of the python code:"
      ],
      "metadata": {
        "colab": {
          "base_uri": "https://localhost:8080/"
        },
        "id": "uAtNBmU1qbbJ",
        "outputId": "4d0abb8f-5271-411a-8a43-f007fb627f07"
      },
      "execution_count": null,
      "outputs": [
        {
          "output_type": "stream",
          "name": "stdout",
          "text": [
            "11\n"
          ]
        }
      ]
    },
    {
      "cell_type": "code",
      "source": [
        "st = 'Happy Christmas and Happy new year'\n",
        "\n",
        "if st.startswith(\"Happy\"):\n",
        "    x = st.rsplit(\"Happy\")  # Split by \"Happy\"\n",
        "\n",
        "print(len(x))\n",
        "#What is the output of above code?"
      ],
      "metadata": {
        "colab": {
          "base_uri": "https://localhost:8080/"
        },
        "id": "ynh5LmNYqiJk",
        "outputId": "e5e8738b-c624-44fe-e6fa-0ea10fbecf92"
      },
      "execution_count": null,
      "outputs": [
        {
          "output_type": "stream",
          "name": "stdout",
          "text": [
            "3\n"
          ]
        }
      ]
    },
    {
      "cell_type": "code",
      "source": [
        "#What is the output of the above code?\n",
        "print(ord('a'))\n"
      ],
      "metadata": {
        "colab": {
          "base_uri": "https://localhost:8080/"
        },
        "id": "OIsm2biYqzEz",
        "outputId": "2551456b-1337-44ae-a10a-892905287e03"
      },
      "execution_count": null,
      "outputs": [
        {
          "output_type": "stream",
          "name": "stdout",
          "text": [
            "97\n"
          ]
        }
      ]
    },
    {
      "cell_type": "code",
      "source": [
        "#What will be the output of this code?\n",
        "print(round(2.4999, 0))"
      ],
      "metadata": {
        "colab": {
          "base_uri": "https://localhost:8080/"
        },
        "id": "9BQntF8wrhQS",
        "outputId": "ce3eb82b-b0e2-4bee-f0e3-f81e2ed81b5b"
      },
      "execution_count": null,
      "outputs": [
        {
          "output_type": "stream",
          "name": "stdout",
          "text": [
            "2.0\n"
          ]
        }
      ]
    },
    {
      "cell_type": "code",
      "source": [
        "#What will be the output of the following code?\n",
        "s = \"Python\"\n",
        "print(s[1:4:2])"
      ],
      "metadata": {
        "colab": {
          "base_uri": "https://localhost:8080/"
        },
        "id": "axkC95jtrsSb",
        "outputId": "1c862dc5-3c90-4011-afb1-869b79f9f83b"
      },
      "execution_count": null,
      "outputs": [
        {
          "output_type": "stream",
          "name": "stdout",
          "text": [
            "yh\n"
          ]
        }
      ]
    },
    {
      "cell_type": "code",
      "source": [
        "#Study the following statements:\n",
        ">>> str1 = \"javat\"\n",
        ">>> str2 = \":\"\n",
        ">>> str3 = \"point\"\n",
        ">>> str1[-1:]\n",
        "#What will be the output of this statement?\n"
      ],
      "metadata": {
        "colab": {
          "base_uri": "https://localhost:8080/",
          "height": 35
        },
        "id": "9E8FXzLJr2AC",
        "outputId": "35ef3ca3-acef-4179-90ac-26e13d34e2f4"
      },
      "execution_count": null,
      "outputs": [
        {
          "output_type": "execute_result",
          "data": {
            "text/plain": [
              "'t'"
            ],
            "application/vnd.google.colaboratory.intrinsic+json": {
              "type": "string"
            }
          },
          "metadata": {},
          "execution_count": 31
        }
      ]
    },
    {
      "cell_type": "code",
      "source": [
        "#Study the following program:\n",
        "#Study the following program:\n",
        "a = 1\n",
        "while True:\n",
        "      if a % 7 == 0:\n",
        "         break\n",
        "      a += 1\n",
        "print(a)\n",
        "#Which of the following is correct output of this program?\n",
        "\n"
      ],
      "metadata": {
        "colab": {
          "base_uri": "https://localhost:8080/"
        },
        "id": "IRJXmjo9sCKR",
        "outputId": "e9545309-9ccd-4fe4-9dea-2cb039cbe5ef"
      },
      "execution_count": null,
      "outputs": [
        {
          "output_type": "stream",
          "name": "stdout",
          "text": [
            "7\n"
          ]
        }
      ]
    },
    {
      "cell_type": "code",
      "source": [
        "#Study the following program:\n",
        "a = 1\n",
        "while True:\n",
        "      if a % 7 = = 0:\n",
        "         break\n",
        "print(a)\n",
        "a += 1\n",
        "\n",
        "#Which of the following is correct output of this program?\n",
        "\n"
      ],
      "metadata": {
        "colab": {
          "base_uri": "https://localhost:8080/",
          "height": 106
        },
        "id": "DQdEI-M5sW10",
        "outputId": "12831b71-ab52-49b3-b968-b625cbbacac5"
      },
      "execution_count": null,
      "outputs": [
        {
          "output_type": "error",
          "ename": "SyntaxError",
          "evalue": "invalid syntax (<ipython-input-34-b5faa2174a33>, line 4)",
          "traceback": [
            "\u001b[0;36m  File \u001b[0;32m\"<ipython-input-34-b5faa2174a33>\"\u001b[0;36m, line \u001b[0;32m4\u001b[0m\n\u001b[0;31m    if a % 7 = = 0:\u001b[0m\n\u001b[0m             ^\u001b[0m\n\u001b[0;31mSyntaxError\u001b[0m\u001b[0;31m:\u001b[0m invalid syntax\n"
          ]
        }
      ]
    },
    {
      "cell_type": "code",
      "source": [
        "z = \"xyz\"\n",
        "j = \"j\"\n",
        "while j in z:\n",
        "  print(j, end=\" \") # Indented the print statement within the while loop"
      ],
      "metadata": {
        "id": "nN-ucFpqs1dM"
      },
      "execution_count": null,
      "outputs": []
    },
    {
      "cell_type": "code",
      "source": [
        "#Study the following program:\n",
        "d = {0: 'a', 1: 'b', 2: 'c'}\n",
        "  for i in d:\n",
        "print(i)\n",
        "#What will be the output of this statement?"
      ],
      "metadata": {
        "colab": {
          "base_uri": "https://localhost:8080/",
          "height": 106
        },
        "id": "Kv3KqazGs8Qn",
        "outputId": "8cc7e277-9c9d-4203-ed8e-fc957dff6f23"
      },
      "execution_count": null,
      "outputs": [
        {
          "output_type": "error",
          "ename": "IndentationError",
          "evalue": "unexpected indent (<ipython-input-39-8899d81c26a7>, line 3)",
          "traceback": [
            "\u001b[0;36m  File \u001b[0;32m\"<ipython-input-39-8899d81c26a7>\"\u001b[0;36m, line \u001b[0;32m3\u001b[0m\n\u001b[0;31m    for i in d:\u001b[0m\n\u001b[0m    ^\u001b[0m\n\u001b[0;31mIndentationError\u001b[0m\u001b[0;31m:\u001b[0m unexpected indent\n"
          ]
        }
      ]
    },
    {
      "cell_type": "code",
      "source": [
        "#What will be the output of the following Python code snippet?\n",
        "\n",
        "my_tuple = ('a', 'b', 'c', 'd', 'e')\n",
        "print(my_tuple.index('c'))"
      ],
      "metadata": {
        "colab": {
          "base_uri": "https://localhost:8080/"
        },
        "id": "626sqLtktNQx",
        "outputId": "1417737d-6371-4fec-967a-20ba5907b32c"
      },
      "execution_count": null,
      "outputs": [
        {
          "output_type": "stream",
          "name": "stdout",
          "text": [
            "2\n"
          ]
        }
      ]
    },
    {
      "cell_type": "code",
      "source": [
        "#What will be the output of the following Python code snippet?\n",
        "my_tuple = ('a', 'b', 'c', 'a', 'b', 'a')\n",
        "print(my_tuple.count('a'))"
      ],
      "metadata": {
        "colab": {
          "base_uri": "https://localhost:8080/"
        },
        "id": "pNBs5S2JtUg9",
        "outputId": "5be71665-3184-40f8-fae0-32d0c953afde"
      },
      "execution_count": null,
      "outputs": [
        {
          "output_type": "stream",
          "name": "stdout",
          "text": [
            "3\n"
          ]
        }
      ]
    },
    {
      "cell_type": "code",
      "source": [
        "#What will be the output of the following Python code snippet?\n",
        "my_tuple = (1, 2, 3)\n",
        "result = my_tuple + (4,)\n",
        "print(result)"
      ],
      "metadata": {
        "colab": {
          "base_uri": "https://localhost:8080/"
        },
        "id": "Mgn_ltodtdmq",
        "outputId": "fff44754-be22-4469-fb40-06e84bfe2f6f"
      },
      "execution_count": null,
      "outputs": [
        {
          "output_type": "stream",
          "name": "stdout",
          "text": [
            "(1, 2, 3, 4)\n"
          ]
        }
      ]
    },
    {
      "cell_type": "markdown",
      "source": [
        "# 14-04-2025"
      ],
      "metadata": {
        "id": "eZ85ixuIJ-OC"
      }
    },
    {
      "cell_type": "code",
      "source": [
        "print('Hello world!')\n",
        "#what is a function?\n",
        "#Function isa block of code which can be executed when we call it"
      ],
      "metadata": {
        "colab": {
          "base_uri": "https://localhost:8080/"
        },
        "id": "Nb9TBmTmKB1G",
        "outputId": "0d990ae2-1cc8-4718-ad80-267a31adc3cf"
      },
      "execution_count": null,
      "outputs": [
        {
          "output_type": "stream",
          "name": "stdout",
          "text": [
            "Hello world!\n"
          ]
        }
      ]
    },
    {
      "cell_type": "code",
      "source": [
        "#How can we create a function?\n",
        "#By using the 'def' keyword\n",
        "def welcome():\n",
        "  print(\"Hello welcome to Python session\")\n",
        "#How can we call the function\n",
        "welcome()"
      ],
      "metadata": {
        "colab": {
          "base_uri": "https://localhost:8080/"
        },
        "id": "wQtfa-ADKESu",
        "outputId": "5596ea11-b97f-4ed4-f7c8-4c86dddd4026"
      },
      "execution_count": null,
      "outputs": [
        {
          "output_type": "stream",
          "name": "stdout",
          "text": [
            "Hello welcome to Python session\n"
          ]
        }
      ]
    },
    {
      "cell_type": "code",
      "source": [
        "#How can we create a function?\n",
        "#By using the 'def' keyword\n",
        "def welcome():\n",
        "  print(\"Hello welcome to Python session\")\n",
        "#How can we call the function\n",
        "welcome()"
      ],
      "metadata": {
        "colab": {
          "base_uri": "https://localhost:8080/"
        },
        "id": "McpWxHu7KJLl",
        "outputId": "164ec4df-0f42-4b70-b405-add0fd78390e"
      },
      "execution_count": null,
      "outputs": [
        {
          "output_type": "stream",
          "name": "stdout",
          "text": [
            "Hello welcome to Python session\n"
          ]
        }
      ]
    },
    {
      "cell_type": "code",
      "source": [
        "#write a function to print the hello world?\n",
        "def f1():\n",
        "  print(\"Hello world!\")\n",
        "#call the function\n",
        "f1()"
      ],
      "metadata": {
        "colab": {
          "base_uri": "https://localhost:8080/"
        },
        "id": "FOxZNCWwKQAW",
        "outputId": "41dc3adb-e23d-48d3-9a89-b11ee828395c"
      },
      "execution_count": null,
      "outputs": [
        {
          "output_type": "stream",
          "name": "stdout",
          "text": [
            "Hello world!\n"
          ]
        }
      ]
    },
    {
      "cell_type": "code",
      "source": [
        "#what is the main purpose of the functions?\n",
        "#to avoid duplicate code and encourages to write DRY Codes"
      ],
      "metadata": {
        "id": "iJKo0eQWKT8t"
      },
      "execution_count": null,
      "outputs": []
    },
    {
      "cell_type": "markdown",
      "source": [
        "Parameters and aruguments"
      ],
      "metadata": {
        "id": "hJaKDCenKXsI"
      }
    },
    {
      "cell_type": "code",
      "source": [
        "#what is parameter?\n",
        "#when we define a function we create a variable which is known as parameter\n",
        "def welcome(name):\n",
        "  print(f'Hello {name} welcome to python session')\n",
        "#call the function\n",
        "welcome('Guys')\n",
        "#what is an argument?\n",
        "#when we call a function we pass some values which are known as arguments"
      ],
      "metadata": {
        "colab": {
          "base_uri": "https://localhost:8080/"
        },
        "id": "a6mKykOYKU6J",
        "outputId": "fce292a9-9ab8-4575-ce87-285c604ac2d3"
      },
      "execution_count": null,
      "outputs": [
        {
          "output_type": "stream",
          "name": "stdout",
          "text": [
            "Hello Guys welcome to python session\n"
          ]
        }
      ]
    },
    {
      "cell_type": "code",
      "source": [
        "#How many parameters and argument do i need to pass\n",
        "#A)No of parameters == No of arguments\n",
        "def details(name,age,gender,contact):\n",
        "  print(f\"Hello please check your details, name: {name},age: {age},Gender: {gender},cell:{contact}\")\n",
        "#call the function details\n",
        "details('shahul',29,'M',982398743)"
      ],
      "metadata": {
        "colab": {
          "base_uri": "https://localhost:8080/"
        },
        "id": "0sSJPNZqKdQ_",
        "outputId": "942d08b3-7cc1-4509-e56c-5b71e2827b1a"
      },
      "execution_count": null,
      "outputs": [
        {
          "output_type": "stream",
          "name": "stdout",
          "text": [
            "Hello please check your details, name: shahul,age: 29,Gender: M,cell:982398743\n"
          ]
        }
      ]
    },
    {
      "cell_type": "code",
      "source": [
        "#I dont how many parameters i need to pass then what i have to do?\n",
        "def details(**name):\n",
        "  print(name)\n",
        "details(name='shahul',Age=29,gender='M',Occupation='DS',Education='masters')"
      ],
      "metadata": {
        "colab": {
          "base_uri": "https://localhost:8080/"
        },
        "id": "dzeUbNkyKh-M",
        "outputId": "c903e13c-a59d-4643-df3f-3f02b97c84f4"
      },
      "execution_count": null,
      "outputs": [
        {
          "output_type": "stream",
          "name": "stdout",
          "text": [
            "{'name': 'shahul', 'Age': 29, 'gender': 'M', 'Occupation': 'DS', 'Education': 'masters'}\n"
          ]
        }
      ]
    },
    {
      "cell_type": "code",
      "source": [
        "#I dont know how many argument i need to pass? then what we need to do?\n",
        "def program(*name):\n",
        "  print(name)\n",
        "program('python','js','java','.nedt')"
      ],
      "metadata": {
        "colab": {
          "base_uri": "https://localhost:8080/"
        },
        "id": "_3Pvxx5XKmv8",
        "outputId": "fcec69e9-9fb6-4baa-90ff-6c9914bbc526"
      },
      "execution_count": null,
      "outputs": [
        {
          "output_type": "stream",
          "name": "stdout",
          "text": [
            "('python', 'js', 'java', '.nedt')\n"
          ]
        }
      ]
    },
    {
      "cell_type": "code",
      "source": [
        "\"\"\"1.**:- KWARGS-->kEYWORD Arbitrary Arguments\n",
        "       -->when we dont know how many parameters we need to pass  we use KWARGS\n",
        "       --> The default data type for KWARGS are Dictionary\n",
        "   2. *:- ARGS--> Arbitrary argumenmts\n",
        "          --> when we dont know how many argument we need to pass we use args\n",
        "          -->The default data type for args is \"Tuple\"    \"\"\""
      ],
      "metadata": {
        "id": "p1ARwZjOKrvW"
      },
      "execution_count": null,
      "outputs": []
    },
    {
      "cell_type": "code",
      "source": [
        "from re import I\n",
        "l1 = [1,2,3,4,5,6,7,8,9,10]  #55\n",
        "sum = 0\n",
        "#write a program to print sum of numbers in the above list\n",
        "for i in l1:\n",
        "  sum = sum + i\n",
        "print(sum)"
      ],
      "metadata": {
        "colab": {
          "base_uri": "https://localhost:8080/"
        },
        "id": "wylh7z2rKvrq",
        "outputId": "47672efb-9f86-405e-8713-c922677bafe1"
      },
      "execution_count": null,
      "outputs": [
        {
          "output_type": "stream",
          "name": "stdout",
          "text": [
            "55\n"
          ]
        }
      ]
    },
    {
      "cell_type": "code",
      "source": [
        "l = [10,20,30,40,50,60,70,80,90]\n",
        "def sum(n):\n",
        "  sum = 0\n",
        "  for i in n:\n",
        "    sum = sum+i\n",
        "  print(sum)\n",
        "#call the function\n",
        "sum(l)"
      ],
      "metadata": {
        "colab": {
          "base_uri": "https://localhost:8080/"
        },
        "id": "fXVt_qPdKztc",
        "outputId": "940ef51f-1138-4233-8c74-05ba6e58afe5"
      },
      "execution_count": null,
      "outputs": [
        {
          "output_type": "stream",
          "name": "stdout",
          "text": [
            "450\n"
          ]
        }
      ]
    },
    {
      "cell_type": "code",
      "source": [
        "l2 = [83838737,8387373,37363262]\n",
        "sum(l2)"
      ],
      "metadata": {
        "colab": {
          "base_uri": "https://localhost:8080/"
        },
        "id": "K1dqWjYhK3Vh",
        "outputId": "7eaa69d1-9291-4d5e-c32a-2ad863b3d930"
      },
      "execution_count": null,
      "outputs": [
        {
          "output_type": "stream",
          "name": "stdout",
          "text": [
            "129589372\n"
          ]
        }
      ]
    },
    {
      "cell_type": "code",
      "source": [
        "t = (1,2,3,4,5,6)\n",
        "sum(t)"
      ],
      "metadata": {
        "colab": {
          "base_uri": "https://localhost:8080/"
        },
        "id": "DzItq99MK7fh",
        "outputId": "9440e8a4-5bbf-4402-c603-225e07de3273"
      },
      "execution_count": null,
      "outputs": [
        {
          "output_type": "stream",
          "name": "stdout",
          "text": [
            "21\n"
          ]
        }
      ]
    },
    {
      "cell_type": "code",
      "source": [
        "l = [3,5,6,7,8,98,97,65,43,42]\n",
        "def find_eve(n):\n",
        "  for i in n:\n",
        "    if i % 2 == 0:\n",
        "      print(i)\n",
        "find_eve(l)"
      ],
      "metadata": {
        "colab": {
          "base_uri": "https://localhost:8080/"
        },
        "id": "ECad76qFK_P7",
        "outputId": "ab14ea43-76cc-454f-eac1-ba30b8d3cd24"
      },
      "execution_count": null,
      "outputs": [
        {
          "output_type": "stream",
          "name": "stdout",
          "text": [
            "6\n",
            "8\n",
            "98\n",
            "42\n"
          ]
        }
      ]
    },
    {
      "cell_type": "code",
      "source": [
        "t = (1,2,3,4,5,6,7,8,9)\n",
        "find_eve(t)"
      ],
      "metadata": {
        "id": "mHNnOQviLC3x"
      },
      "execution_count": null,
      "outputs": []
    },
    {
      "cell_type": "markdown",
      "source": [
        "return--> is similar to print()\n",
        "\n",
        "--> it return back the values to the caller"
      ],
      "metadata": {
        "id": "kacLQPYeLIVP"
      }
    },
    {
      "cell_type": "code",
      "source": [
        "l = [3,5,6,7,8,98,97,65,43,42]\n",
        "new = []\n",
        "def find_eve(n):\n",
        "  for i in n:\n",
        "    if i %2 == 0:\n",
        "      new.append(i)\n",
        "  return(new)\n",
        "find_eve(l)"
      ],
      "metadata": {
        "id": "Q3qhJxj_LJka"
      },
      "execution_count": null,
      "outputs": []
    },
    {
      "cell_type": "code",
      "source": [
        "def f1(n1,n2):\n",
        "  return n1+n2\n",
        "print(f1(10,20))"
      ],
      "metadata": {
        "colab": {
          "base_uri": "https://localhost:8080/"
        },
        "id": "QQLghztCLOJe",
        "outputId": "bf4d1579-c073-45ae-c3eb-005852277442"
      },
      "execution_count": null,
      "outputs": [
        {
          "output_type": "stream",
          "name": "stdout",
          "text": [
            "30\n"
          ]
        }
      ]
    },
    {
      "cell_type": "code",
      "source": [
        "#what is afunction?\n",
        "#how can we create a function?\n",
        "#How can we call a function?\n",
        "#what is parameters?\n",
        "#what is arguments?\n",
        "#what is kwargs?\n",
        "#what is ARGS?\n",
        "#what is return keyword?"
      ],
      "metadata": {
        "id": "tRitHaIaLRlo"
      },
      "execution_count": null,
      "outputs": []
    },
    {
      "cell_type": "code",
      "source": [
        "l = [1,-2,4,5,6,-9,-7,4,3,-2]\n",
        "def check_sign(num):\n",
        "  for i in num:\n",
        "    if i>0:\n",
        "      print('+ve')\n",
        "    else:\n",
        "      print('-ve')\n",
        "check_sign(l)"
      ],
      "metadata": {
        "colab": {
          "base_uri": "https://localhost:8080/"
        },
        "id": "TGd2f-aPLUc4",
        "outputId": "23c883d5-ba56-44aa-95d0-3e48119ca048"
      },
      "execution_count": null,
      "outputs": [
        {
          "output_type": "stream",
          "name": "stdout",
          "text": [
            "+ve\n",
            "-ve\n",
            "+ve\n",
            "+ve\n",
            "+ve\n",
            "-ve\n",
            "-ve\n",
            "+ve\n",
            "+ve\n",
            "-ve\n"
          ]
        }
      ]
    },
    {
      "cell_type": "code",
      "source": [
        "#write a function to print fibonacci series?"
      ],
      "metadata": {
        "id": "WZdUcXmzLZD5"
      },
      "execution_count": null,
      "outputs": []
    },
    {
      "cell_type": "code",
      "source": [
        "def details(name,age,gender,contact):\n",
        "  print(f\"Hello please check your details, name: {name},age: {age},Gender: {gender},cell:{contact}\")\n",
        "#call the function details\n",
        "details('shahul',29,'M',982398743)"
      ],
      "metadata": {
        "colab": {
          "base_uri": "https://localhost:8080/"
        },
        "id": "rjrVilKQLcYp",
        "outputId": "3958698f-b1ae-4d65-a7e7-3e27ac62e104"
      },
      "execution_count": null,
      "outputs": [
        {
          "output_type": "stream",
          "name": "stdout",
          "text": [
            "Hello please check your details, name: shahul,age: 29,Gender: M,cell:982398743\n"
          ]
        }
      ]
    },
    {
      "cell_type": "code",
      "source": [
        "details(29,'shah',9487476,'M')"
      ],
      "metadata": {
        "colab": {
          "base_uri": "https://localhost:8080/"
        },
        "id": "GoOHidClLiwT",
        "outputId": "4fc6f566-36ae-4337-8e19-d4afd6f02b3c"
      },
      "execution_count": null,
      "outputs": [
        {
          "output_type": "stream",
          "name": "stdout",
          "text": [
            "Hello please check your details, name: 29,age: shah,Gender: 9487476,cell:M\n"
          ]
        }
      ]
    },
    {
      "cell_type": "markdown",
      "source": [
        "# 15-04-2025"
      ],
      "metadata": {
        "id": "ewcfyE8aHSYI"
      }
    },
    {
      "cell_type": "code",
      "source": [
        "jupyter %notebook"
      ],
      "metadata": {
        "id": "eaJAbPgJHYQ9"
      },
      "execution_count": null,
      "outputs": []
    },
    {
      "cell_type": "code",
      "source": [
        "! pip"
      ],
      "metadata": {
        "colab": {
          "base_uri": "https://localhost:8080/"
        },
        "id": "XI29Dv01WIEL",
        "outputId": "8d78b353-d423-4000-9c22-51281afa7c1a"
      },
      "execution_count": null,
      "outputs": [
        {
          "output_type": "stream",
          "name": "stdout",
          "text": [
            "\n",
            "Usage:   \n",
            "  pip3 <command> [options]\n",
            "\n",
            "Commands:\n",
            "  install                     Install packages.\n",
            "  download                    Download packages.\n",
            "  uninstall                   Uninstall packages.\n",
            "  freeze                      Output installed packages in requirements format.\n",
            "  inspect                     Inspect the python environment.\n",
            "  list                        List installed packages.\n",
            "  show                        Show information about installed packages.\n",
            "  check                       Verify installed packages have compatible dependencies.\n",
            "  config                      Manage local and global configuration.\n",
            "  search                      Search PyPI for packages.\n",
            "  cache                       Inspect and manage pip's wheel cache.\n",
            "  index                       Inspect information available from package indexes.\n",
            "  wheel                       Build wheels from your requirements.\n",
            "  hash                        Compute hashes of package archives.\n",
            "  completion                  A helper command used for command completion.\n",
            "  debug                       Show information useful for debugging.\n",
            "  help                        Show help for commands.\n",
            "\n",
            "General Options:\n",
            "  -h, --help                  Show help.\n",
            "  --debug                     Let unhandled exceptions propagate outside the\n",
            "                              main subroutine, instead of logging them to\n",
            "                              stderr.\n",
            "  --isolated                  Run pip in an isolated mode, ignoring\n",
            "                              environment variables and user configuration.\n",
            "  --require-virtualenv        Allow pip to only run in a virtual environment;\n",
            "                              exit with an error otherwise.\n",
            "  --python <python>           Run pip with the specified Python interpreter.\n",
            "  -v, --verbose               Give more output. Option is additive, and can be\n",
            "                              used up to 3 times.\n",
            "  -V, --version               Show version and exit.\n",
            "  -q, --quiet                 Give less output. Option is additive, and can be\n",
            "                              used up to 3 times (corresponding to WARNING,\n",
            "                              ERROR, and CRITICAL logging levels).\n",
            "  --log <path>                Path to a verbose appending log.\n",
            "  --no-input                  Disable prompting for input.\n",
            "  --keyring-provider <keyring_provider>\n",
            "                              Enable the credential lookup via the keyring\n",
            "                              library if user input is allowed. Specify which\n",
            "                              mechanism to use [disabled, import, subprocess].\n",
            "                              (default: disabled)\n",
            "  --proxy <proxy>             Specify a proxy in the form\n",
            "                              scheme://[user:passwd@]proxy.server:port.\n",
            "  --retries <retries>         Maximum number of retries each connection should\n",
            "                              attempt (default 5 times).\n",
            "  --timeout <sec>             Set the socket timeout (default 15 seconds).\n",
            "  --exists-action <action>    Default action when a path already exists:\n",
            "                              (s)witch, (i)gnore, (w)ipe, (b)ackup, (a)bort.\n",
            "  --trusted-host <hostname>   Mark this host or host:port pair as trusted,\n",
            "                              even though it does not have valid or any HTTPS.\n",
            "  --cert <path>               Path to PEM-encoded CA certificate bundle. If\n",
            "                              provided, overrides the default. See 'SSL\n",
            "                              Certificate Verification' in pip documentation\n",
            "                              for more information.\n",
            "  --client-cert <path>        Path to SSL client certificate, a single file\n",
            "                              containing the private key and the certificate\n",
            "                              in PEM format.\n",
            "  --cache-dir <dir>           Store the cache data in <dir>.\n",
            "  --no-cache-dir              Disable the cache.\n",
            "  --disable-pip-version-check\n",
            "                              Don't periodically check PyPI to determine\n",
            "                              whether a new version of pip is available for\n",
            "                              download. Implied with --no-index.\n",
            "  --no-color                  Suppress colored output.\n",
            "  --no-python-version-warning\n",
            "                              Silence deprecation warnings for upcoming\n",
            "                              unsupported Pythons.\n",
            "  --use-feature <feature>     Enable new functionality, that may be backward\n",
            "                              incompatible.\n",
            "  --use-deprecated <feature>  Enable deprecated functionality, that will be\n",
            "                              removed in the future.\n"
          ]
        }
      ]
    },
    {
      "cell_type": "code",
      "source": [
        "! pip install jupyter"
      ],
      "metadata": {
        "colab": {
          "base_uri": "https://localhost:8080/"
        },
        "id": "ttFtL5JyWTEW",
        "outputId": "0464a3e1-5a89-44ee-a042-2474fa466fe4"
      },
      "execution_count": null,
      "outputs": [
        {
          "output_type": "stream",
          "name": "stdout",
          "text": [
            "Collecting jupyter\n",
            "  Downloading jupyter-1.1.1-py2.py3-none-any.whl.metadata (2.0 kB)\n",
            "Requirement already satisfied: notebook in /usr/local/lib/python3.11/dist-packages (from jupyter) (6.5.7)\n",
            "Requirement already satisfied: jupyter-console in /usr/local/lib/python3.11/dist-packages (from jupyter) (6.1.0)\n",
            "Requirement already satisfied: nbconvert in /usr/local/lib/python3.11/dist-packages (from jupyter) (7.16.6)\n",
            "Requirement already satisfied: ipykernel in /usr/local/lib/python3.11/dist-packages (from jupyter) (6.17.1)\n",
            "Requirement already satisfied: ipywidgets in /usr/local/lib/python3.11/dist-packages (from jupyter) (7.7.1)\n",
            "Collecting jupyterlab (from jupyter)\n",
            "  Downloading jupyterlab-4.4.0-py3-none-any.whl.metadata (16 kB)\n",
            "Requirement already satisfied: debugpy>=1.0 in /usr/local/lib/python3.11/dist-packages (from ipykernel->jupyter) (1.8.0)\n",
            "Requirement already satisfied: ipython>=7.23.1 in /usr/local/lib/python3.11/dist-packages (from ipykernel->jupyter) (7.34.0)\n",
            "Requirement already satisfied: jupyter-client>=6.1.12 in /usr/local/lib/python3.11/dist-packages (from ipykernel->jupyter) (6.1.12)\n",
            "Requirement already satisfied: matplotlib-inline>=0.1 in /usr/local/lib/python3.11/dist-packages (from ipykernel->jupyter) (0.1.7)\n",
            "Requirement already satisfied: nest-asyncio in /usr/local/lib/python3.11/dist-packages (from ipykernel->jupyter) (1.6.0)\n",
            "Requirement already satisfied: packaging in /usr/local/lib/python3.11/dist-packages (from ipykernel->jupyter) (24.2)\n",
            "Requirement already satisfied: psutil in /usr/local/lib/python3.11/dist-packages (from ipykernel->jupyter) (5.9.5)\n",
            "Requirement already satisfied: pyzmq>=17 in /usr/local/lib/python3.11/dist-packages (from ipykernel->jupyter) (24.0.1)\n",
            "Requirement already satisfied: tornado>=6.1 in /usr/local/lib/python3.11/dist-packages (from ipykernel->jupyter) (6.4.2)\n",
            "Requirement already satisfied: traitlets>=5.1.0 in /usr/local/lib/python3.11/dist-packages (from ipykernel->jupyter) (5.7.1)\n",
            "Requirement already satisfied: ipython-genutils~=0.2.0 in /usr/local/lib/python3.11/dist-packages (from ipywidgets->jupyter) (0.2.0)\n",
            "Requirement already satisfied: widgetsnbextension~=3.6.0 in /usr/local/lib/python3.11/dist-packages (from ipywidgets->jupyter) (3.6.10)\n",
            "Requirement already satisfied: jupyterlab-widgets>=1.0.0 in /usr/local/lib/python3.11/dist-packages (from ipywidgets->jupyter) (3.0.13)\n",
            "Requirement already satisfied: prompt-toolkit!=3.0.0,!=3.0.1,<3.1.0,>=2.0.0 in /usr/local/lib/python3.11/dist-packages (from jupyter-console->jupyter) (3.0.50)\n",
            "Requirement already satisfied: pygments in /usr/local/lib/python3.11/dist-packages (from jupyter-console->jupyter) (2.18.0)\n",
            "Collecting async-lru>=1.0.0 (from jupyterlab->jupyter)\n",
            "  Downloading async_lru-2.0.5-py3-none-any.whl.metadata (4.5 kB)\n",
            "Requirement already satisfied: httpx>=0.25.0 in /usr/local/lib/python3.11/dist-packages (from jupyterlab->jupyter) (0.28.1)\n",
            "Requirement already satisfied: jinja2>=3.0.3 in /usr/local/lib/python3.11/dist-packages (from jupyterlab->jupyter) (3.1.6)\n",
            "Requirement already satisfied: jupyter-core in /usr/local/lib/python3.11/dist-packages (from jupyterlab->jupyter) (5.7.2)\n",
            "Collecting jupyter-lsp>=2.0.0 (from jupyterlab->jupyter)\n",
            "  Downloading jupyter_lsp-2.2.5-py3-none-any.whl.metadata (1.8 kB)\n",
            "Collecting jupyter-server<3,>=2.4.0 (from jupyterlab->jupyter)\n",
            "  Downloading jupyter_server-2.15.0-py3-none-any.whl.metadata (8.4 kB)\n",
            "Collecting jupyterlab-server<3,>=2.27.1 (from jupyterlab->jupyter)\n",
            "  Downloading jupyterlab_server-2.27.3-py3-none-any.whl.metadata (5.9 kB)\n",
            "Requirement already satisfied: notebook-shim>=0.2 in /usr/local/lib/python3.11/dist-packages (from jupyterlab->jupyter) (0.2.4)\n",
            "Requirement already satisfied: setuptools>=41.1.0 in /usr/local/lib/python3.11/dist-packages (from jupyterlab->jupyter) (75.2.0)\n",
            "Requirement already satisfied: beautifulsoup4 in /usr/local/lib/python3.11/dist-packages (from nbconvert->jupyter) (4.13.3)\n",
            "Requirement already satisfied: bleach!=5.0.0 in /usr/local/lib/python3.11/dist-packages (from bleach[css]!=5.0.0->nbconvert->jupyter) (6.2.0)\n",
            "Requirement already satisfied: defusedxml in /usr/local/lib/python3.11/dist-packages (from nbconvert->jupyter) (0.7.1)\n",
            "Requirement already satisfied: jupyterlab-pygments in /usr/local/lib/python3.11/dist-packages (from nbconvert->jupyter) (0.3.0)\n",
            "Requirement already satisfied: markupsafe>=2.0 in /usr/local/lib/python3.11/dist-packages (from nbconvert->jupyter) (3.0.2)\n",
            "Requirement already satisfied: mistune<4,>=2.0.3 in /usr/local/lib/python3.11/dist-packages (from nbconvert->jupyter) (3.1.3)\n",
            "Requirement already satisfied: nbclient>=0.5.0 in /usr/local/lib/python3.11/dist-packages (from nbconvert->jupyter) (0.10.2)\n",
            "Requirement already satisfied: nbformat>=5.7 in /usr/local/lib/python3.11/dist-packages (from nbconvert->jupyter) (5.10.4)\n",
            "Requirement already satisfied: pandocfilters>=1.4.1 in /usr/local/lib/python3.11/dist-packages (from nbconvert->jupyter) (1.5.1)\n",
            "Requirement already satisfied: argon2-cffi in /usr/local/lib/python3.11/dist-packages (from notebook->jupyter) (23.1.0)\n",
            "Requirement already satisfied: Send2Trash>=1.8.0 in /usr/local/lib/python3.11/dist-packages (from notebook->jupyter) (1.8.3)\n",
            "Requirement already satisfied: terminado>=0.8.3 in /usr/local/lib/python3.11/dist-packages (from notebook->jupyter) (0.18.1)\n",
            "Requirement already satisfied: prometheus-client in /usr/local/lib/python3.11/dist-packages (from notebook->jupyter) (0.21.1)\n",
            "Requirement already satisfied: nbclassic>=0.4.7 in /usr/local/lib/python3.11/dist-packages (from notebook->jupyter) (1.2.0)\n",
            "Requirement already satisfied: webencodings in /usr/local/lib/python3.11/dist-packages (from bleach!=5.0.0->bleach[css]!=5.0.0->nbconvert->jupyter) (0.5.1)\n",
            "Requirement already satisfied: tinycss2<1.5,>=1.1.0 in /usr/local/lib/python3.11/dist-packages (from bleach[css]!=5.0.0->nbconvert->jupyter) (1.4.0)\n",
            "Requirement already satisfied: anyio in /usr/local/lib/python3.11/dist-packages (from httpx>=0.25.0->jupyterlab->jupyter) (4.9.0)\n",
            "Requirement already satisfied: certifi in /usr/local/lib/python3.11/dist-packages (from httpx>=0.25.0->jupyterlab->jupyter) (2025.1.31)\n",
            "Requirement already satisfied: httpcore==1.* in /usr/local/lib/python3.11/dist-packages (from httpx>=0.25.0->jupyterlab->jupyter) (1.0.7)\n",
            "Requirement already satisfied: idna in /usr/local/lib/python3.11/dist-packages (from httpx>=0.25.0->jupyterlab->jupyter) (3.10)\n",
            "Requirement already satisfied: h11<0.15,>=0.13 in /usr/local/lib/python3.11/dist-packages (from httpcore==1.*->httpx>=0.25.0->jupyterlab->jupyter) (0.14.0)\n",
            "Collecting jedi>=0.16 (from ipython>=7.23.1->ipykernel->jupyter)\n",
            "  Downloading jedi-0.19.2-py2.py3-none-any.whl.metadata (22 kB)\n",
            "Requirement already satisfied: decorator in /usr/local/lib/python3.11/dist-packages (from ipython>=7.23.1->ipykernel->jupyter) (4.4.2)\n",
            "Requirement already satisfied: pickleshare in /usr/local/lib/python3.11/dist-packages (from ipython>=7.23.1->ipykernel->jupyter) (0.7.5)\n",
            "Requirement already satisfied: backcall in /usr/local/lib/python3.11/dist-packages (from ipython>=7.23.1->ipykernel->jupyter) (0.2.0)\n",
            "Requirement already satisfied: pexpect>4.3 in /usr/local/lib/python3.11/dist-packages (from ipython>=7.23.1->ipykernel->jupyter) (4.9.0)\n",
            "Requirement already satisfied: python-dateutil>=2.1 in /usr/local/lib/python3.11/dist-packages (from jupyter-client>=6.1.12->ipykernel->jupyter) (2.8.2)\n",
            "Requirement already satisfied: platformdirs>=2.5 in /usr/local/lib/python3.11/dist-packages (from jupyter-core->jupyterlab->jupyter) (4.3.7)\n",
            "Collecting jupyter-client>=6.1.12 (from ipykernel->jupyter)\n",
            "  Downloading jupyter_client-7.4.9-py3-none-any.whl.metadata (8.5 kB)\n",
            "Collecting jupyter-events>=0.11.0 (from jupyter-server<3,>=2.4.0->jupyterlab->jupyter)\n",
            "  Downloading jupyter_events-0.12.0-py3-none-any.whl.metadata (5.8 kB)\n",
            "Collecting jupyter-server-terminals>=0.4.4 (from jupyter-server<3,>=2.4.0->jupyterlab->jupyter)\n",
            "  Downloading jupyter_server_terminals-0.5.3-py3-none-any.whl.metadata (5.6 kB)\n",
            "Collecting overrides>=5.0 (from jupyter-server<3,>=2.4.0->jupyterlab->jupyter)\n",
            "  Downloading overrides-7.7.0-py3-none-any.whl.metadata (5.8 kB)\n",
            "Requirement already satisfied: websocket-client>=1.7 in /usr/local/lib/python3.11/dist-packages (from jupyter-server<3,>=2.4.0->jupyterlab->jupyter) (1.8.0)\n",
            "Requirement already satisfied: argon2-cffi-bindings in /usr/local/lib/python3.11/dist-packages (from argon2-cffi->notebook->jupyter) (21.2.0)\n",
            "Requirement already satisfied: entrypoints in /usr/local/lib/python3.11/dist-packages (from jupyter-client>=6.1.12->ipykernel->jupyter) (0.4)\n",
            "Requirement already satisfied: babel>=2.10 in /usr/local/lib/python3.11/dist-packages (from jupyterlab-server<3,>=2.27.1->jupyterlab->jupyter) (2.17.0)\n",
            "Collecting json5>=0.9.0 (from jupyterlab-server<3,>=2.27.1->jupyterlab->jupyter)\n",
            "  Downloading json5-0.12.0-py3-none-any.whl.metadata (36 kB)\n",
            "Requirement already satisfied: jsonschema>=4.18.0 in /usr/local/lib/python3.11/dist-packages (from jupyterlab-server<3,>=2.27.1->jupyterlab->jupyter) (4.23.0)\n",
            "Requirement already satisfied: requests>=2.31 in /usr/local/lib/python3.11/dist-packages (from jupyterlab-server<3,>=2.27.1->jupyterlab->jupyter) (2.32.3)\n",
            "Requirement already satisfied: fastjsonschema>=2.15 in /usr/local/lib/python3.11/dist-packages (from nbformat>=5.7->nbconvert->jupyter) (2.21.1)\n",
            "Requirement already satisfied: wcwidth in /usr/local/lib/python3.11/dist-packages (from prompt-toolkit!=3.0.0,!=3.0.1,<3.1.0,>=2.0.0->jupyter-console->jupyter) (0.2.13)\n",
            "Requirement already satisfied: ptyprocess in /usr/local/lib/python3.11/dist-packages (from terminado>=0.8.3->notebook->jupyter) (0.7.0)\n",
            "Requirement already satisfied: soupsieve>1.2 in /usr/local/lib/python3.11/dist-packages (from beautifulsoup4->nbconvert->jupyter) (2.6)\n",
            "Requirement already satisfied: typing-extensions>=4.0.0 in /usr/local/lib/python3.11/dist-packages (from beautifulsoup4->nbconvert->jupyter) (4.13.1)\n",
            "Requirement already satisfied: sniffio>=1.1 in /usr/local/lib/python3.11/dist-packages (from anyio->httpx>=0.25.0->jupyterlab->jupyter) (1.3.1)\n",
            "Requirement already satisfied: parso<0.9.0,>=0.8.4 in /usr/local/lib/python3.11/dist-packages (from jedi>=0.16->ipython>=7.23.1->ipykernel->jupyter) (0.8.4)\n",
            "Requirement already satisfied: attrs>=22.2.0 in /usr/local/lib/python3.11/dist-packages (from jsonschema>=4.18.0->jupyterlab-server<3,>=2.27.1->jupyterlab->jupyter) (25.3.0)\n",
            "Requirement already satisfied: jsonschema-specifications>=2023.03.6 in /usr/local/lib/python3.11/dist-packages (from jsonschema>=4.18.0->jupyterlab-server<3,>=2.27.1->jupyterlab->jupyter) (2024.10.1)\n",
            "Requirement already satisfied: referencing>=0.28.4 in /usr/local/lib/python3.11/dist-packages (from jsonschema>=4.18.0->jupyterlab-server<3,>=2.27.1->jupyterlab->jupyter) (0.36.2)\n",
            "Requirement already satisfied: rpds-py>=0.7.1 in /usr/local/lib/python3.11/dist-packages (from jsonschema>=4.18.0->jupyterlab-server<3,>=2.27.1->jupyterlab->jupyter) (0.24.0)\n",
            "Collecting python-json-logger>=2.0.4 (from jupyter-events>=0.11.0->jupyter-server<3,>=2.4.0->jupyterlab->jupyter)\n",
            "  Downloading python_json_logger-3.3.0-py3-none-any.whl.metadata (4.0 kB)\n",
            "Requirement already satisfied: pyyaml>=5.3 in /usr/local/lib/python3.11/dist-packages (from jupyter-events>=0.11.0->jupyter-server<3,>=2.4.0->jupyterlab->jupyter) (6.0.2)\n",
            "Collecting rfc3339-validator (from jupyter-events>=0.11.0->jupyter-server<3,>=2.4.0->jupyterlab->jupyter)\n",
            "  Downloading rfc3339_validator-0.1.4-py2.py3-none-any.whl.metadata (1.5 kB)\n",
            "Collecting rfc3986-validator>=0.1.1 (from jupyter-events>=0.11.0->jupyter-server<3,>=2.4.0->jupyterlab->jupyter)\n",
            "  Downloading rfc3986_validator-0.1.1-py2.py3-none-any.whl.metadata (1.7 kB)\n",
            "Requirement already satisfied: six>=1.5 in /usr/local/lib/python3.11/dist-packages (from python-dateutil>=2.1->jupyter-client>=6.1.12->ipykernel->jupyter) (1.17.0)\n",
            "Requirement already satisfied: charset-normalizer<4,>=2 in /usr/local/lib/python3.11/dist-packages (from requests>=2.31->jupyterlab-server<3,>=2.27.1->jupyterlab->jupyter) (3.4.1)\n",
            "Requirement already satisfied: urllib3<3,>=1.21.1 in /usr/local/lib/python3.11/dist-packages (from requests>=2.31->jupyterlab-server<3,>=2.27.1->jupyterlab->jupyter) (2.3.0)\n",
            "Requirement already satisfied: cffi>=1.0.1 in /usr/local/lib/python3.11/dist-packages (from argon2-cffi-bindings->argon2-cffi->notebook->jupyter) (1.17.1)\n",
            "Requirement already satisfied: pycparser in /usr/local/lib/python3.11/dist-packages (from cffi>=1.0.1->argon2-cffi-bindings->argon2-cffi->notebook->jupyter) (2.22)\n",
            "Collecting fqdn (from jsonschema[format-nongpl]>=4.18.0->jupyter-events>=0.11.0->jupyter-server<3,>=2.4.0->jupyterlab->jupyter)\n",
            "  Downloading fqdn-1.5.1-py3-none-any.whl.metadata (1.4 kB)\n",
            "Collecting isoduration (from jsonschema[format-nongpl]>=4.18.0->jupyter-events>=0.11.0->jupyter-server<3,>=2.4.0->jupyterlab->jupyter)\n",
            "  Downloading isoduration-20.11.0-py3-none-any.whl.metadata (5.7 kB)\n",
            "Requirement already satisfied: jsonpointer>1.13 in /usr/local/lib/python3.11/dist-packages (from jsonschema[format-nongpl]>=4.18.0->jupyter-events>=0.11.0->jupyter-server<3,>=2.4.0->jupyterlab->jupyter) (3.0.0)\n",
            "Collecting uri-template (from jsonschema[format-nongpl]>=4.18.0->jupyter-events>=0.11.0->jupyter-server<3,>=2.4.0->jupyterlab->jupyter)\n",
            "  Downloading uri_template-1.3.0-py3-none-any.whl.metadata (8.8 kB)\n",
            "Requirement already satisfied: webcolors>=24.6.0 in /usr/local/lib/python3.11/dist-packages (from jsonschema[format-nongpl]>=4.18.0->jupyter-events>=0.11.0->jupyter-server<3,>=2.4.0->jupyterlab->jupyter) (24.11.1)\n",
            "Collecting arrow>=0.15.0 (from isoduration->jsonschema[format-nongpl]>=4.18.0->jupyter-events>=0.11.0->jupyter-server<3,>=2.4.0->jupyterlab->jupyter)\n",
            "  Downloading arrow-1.3.0-py3-none-any.whl.metadata (7.5 kB)\n",
            "Collecting types-python-dateutil>=2.8.10 (from arrow>=0.15.0->isoduration->jsonschema[format-nongpl]>=4.18.0->jupyter-events>=0.11.0->jupyter-server<3,>=2.4.0->jupyterlab->jupyter)\n",
            "  Downloading types_python_dateutil-2.9.0.20241206-py3-none-any.whl.metadata (2.1 kB)\n",
            "Downloading jupyter-1.1.1-py2.py3-none-any.whl (2.7 kB)\n",
            "Downloading jupyterlab-4.4.0-py3-none-any.whl (12.3 MB)\n",
            "\u001b[2K   \u001b[90m━━━━━━━━━━━━━━━━━━━━━━━━━━━━━━━━━━━━━━━━\u001b[0m \u001b[32m12.3/12.3 MB\u001b[0m \u001b[31m85.5 MB/s\u001b[0m eta \u001b[36m0:00:00\u001b[0m\n",
            "\u001b[?25hDownloading async_lru-2.0.5-py3-none-any.whl (6.1 kB)\n",
            "Downloading jupyter_lsp-2.2.5-py3-none-any.whl (69 kB)\n",
            "\u001b[2K   \u001b[90m━━━━━━━━━━━━━━━━━━━━━━━━━━━━━━━━━━━━━━━━\u001b[0m \u001b[32m69.1/69.1 kB\u001b[0m \u001b[31m5.3 MB/s\u001b[0m eta \u001b[36m0:00:00\u001b[0m\n",
            "\u001b[?25hDownloading jupyter_server-2.15.0-py3-none-any.whl (385 kB)\n",
            "\u001b[2K   \u001b[90m━━━━━━━━━━━━━━━━━━━━━━━━━━━━━━━━━━━━━━━━\u001b[0m \u001b[32m385.8/385.8 kB\u001b[0m \u001b[31m26.1 MB/s\u001b[0m eta \u001b[36m0:00:00\u001b[0m\n",
            "\u001b[?25hDownloading jupyter_client-7.4.9-py3-none-any.whl (133 kB)\n",
            "\u001b[2K   \u001b[90m━━━━━━━━━━━━━━━━━━━━━━━━━━━━━━━━━━━━━━━━\u001b[0m \u001b[32m133.5/133.5 kB\u001b[0m \u001b[31m11.1 MB/s\u001b[0m eta \u001b[36m0:00:00\u001b[0m\n",
            "\u001b[?25hDownloading jupyterlab_server-2.27.3-py3-none-any.whl (59 kB)\n",
            "\u001b[2K   \u001b[90m━━━━━━━━━━━━━━━━━━━━━━━━━━━━━━━━━━━━━━━━\u001b[0m \u001b[32m59.7/59.7 kB\u001b[0m \u001b[31m5.1 MB/s\u001b[0m eta \u001b[36m0:00:00\u001b[0m\n",
            "\u001b[?25hDownloading jedi-0.19.2-py2.py3-none-any.whl (1.6 MB)\n",
            "\u001b[2K   \u001b[90m━━━━━━━━━━━━━━━━━━━━━━━━━━━━━━━━━━━━━━━━\u001b[0m \u001b[32m1.6/1.6 MB\u001b[0m \u001b[31m57.5 MB/s\u001b[0m eta \u001b[36m0:00:00\u001b[0m\n",
            "\u001b[?25hDownloading json5-0.12.0-py3-none-any.whl (36 kB)\n",
            "Downloading jupyter_events-0.12.0-py3-none-any.whl (19 kB)\n",
            "Downloading jupyter_server_terminals-0.5.3-py3-none-any.whl (13 kB)\n",
            "Downloading overrides-7.7.0-py3-none-any.whl (17 kB)\n",
            "Downloading python_json_logger-3.3.0-py3-none-any.whl (15 kB)\n",
            "Downloading rfc3986_validator-0.1.1-py2.py3-none-any.whl (4.2 kB)\n",
            "Downloading rfc3339_validator-0.1.4-py2.py3-none-any.whl (3.5 kB)\n",
            "Downloading fqdn-1.5.1-py3-none-any.whl (9.1 kB)\n",
            "Downloading isoduration-20.11.0-py3-none-any.whl (11 kB)\n",
            "Downloading uri_template-1.3.0-py3-none-any.whl (11 kB)\n",
            "Downloading arrow-1.3.0-py3-none-any.whl (66 kB)\n",
            "\u001b[2K   \u001b[90m━━━━━━━━━━━━━━━━━━━━━━━━━━━━━━━━━━━━━━━━\u001b[0m \u001b[32m66.4/66.4 kB\u001b[0m \u001b[31m4.6 MB/s\u001b[0m eta \u001b[36m0:00:00\u001b[0m\n",
            "\u001b[?25hDownloading types_python_dateutil-2.9.0.20241206-py3-none-any.whl (14 kB)\n",
            "Installing collected packages: uri-template, types-python-dateutil, rfc3986-validator, rfc3339-validator, python-json-logger, overrides, json5, jedi, fqdn, async-lru, jupyter-server-terminals, jupyter-client, arrow, isoduration, jupyter-events, jupyter-server, jupyterlab-server, jupyter-lsp, jupyterlab, jupyter\n",
            "  Attempting uninstall: jupyter-client\n",
            "    Found existing installation: jupyter-client 6.1.12\n",
            "    Uninstalling jupyter-client-6.1.12:\n",
            "      Successfully uninstalled jupyter-client-6.1.12\n",
            "  Attempting uninstall: jupyter-server\n",
            "    Found existing installation: jupyter-server 1.16.0\n",
            "    Uninstalling jupyter-server-1.16.0:\n",
            "      Successfully uninstalled jupyter-server-1.16.0\n",
            "Successfully installed arrow-1.3.0 async-lru-2.0.5 fqdn-1.5.1 isoduration-20.11.0 jedi-0.19.2 json5-0.12.0 jupyter-1.1.1 jupyter-client-7.4.9 jupyter-events-0.12.0 jupyter-lsp-2.2.5 jupyter-server-2.15.0 jupyter-server-terminals-0.5.3 jupyterlab-4.4.0 jupyterlab-server-2.27.3 overrides-7.7.0 python-json-logger-3.3.0 rfc3339-validator-0.1.4 rfc3986-validator-0.1.1 types-python-dateutil-2.9.0.20241206 uri-template-1.3.0\n"
          ]
        }
      ]
    },
    {
      "cell_type": "code",
      "source": [
        "! pip install numpy"
      ],
      "metadata": {
        "colab": {
          "base_uri": "https://localhost:8080/"
        },
        "id": "QUYdoGxhVzMI",
        "outputId": "88462603-e100-4170-fc62-20937c22b0b1"
      },
      "execution_count": null,
      "outputs": [
        {
          "output_type": "stream",
          "name": "stdout",
          "text": [
            "Requirement already satisfied: numpy in /usr/local/lib/python3.11/dist-packages (2.0.2)\n"
          ]
        }
      ]
    },
    {
      "cell_type": "code",
      "source": [
        "! pip install numpy"
      ],
      "metadata": {
        "colab": {
          "base_uri": "https://localhost:8080/"
        },
        "id": "BSys_iiGWqPh",
        "outputId": "8cf5c7a3-b3ab-4713-e812-fb8ed60c1b39"
      },
      "execution_count": null,
      "outputs": [
        {
          "output_type": "stream",
          "name": "stdout",
          "text": [
            "Requirement already satisfied: numpy in /usr/local/lib/python3.11/dist-packages (2.0.2)\n"
          ]
        }
      ]
    },
    {
      "cell_type": "code",
      "source": [
        "#import numpy\n",
        "import numpy as np"
      ],
      "metadata": {
        "id": "HaEriAT2V_n2"
      },
      "execution_count": null,
      "outputs": []
    },
    {
      "cell_type": "code",
      "source": [
        "#check the version of numpy\n",
        "np.__version__"
      ],
      "metadata": {
        "colab": {
          "base_uri": "https://localhost:8080/",
          "height": 35
        },
        "id": "YjLCNcNpXOtw",
        "outputId": "83700c41-0ac4-4da8-e5f3-6af92424b631"
      },
      "execution_count": null,
      "outputs": [
        {
          "output_type": "execute_result",
          "data": {
            "text/plain": [
              "'2.0.2'"
            ],
            "application/vnd.google.colaboratory.intrinsic+json": {
              "type": "string"
            }
          },
          "metadata": {},
          "execution_count": 28
        }
      ]
    },
    {
      "cell_type": "code",
      "source": [
        "#what is the difference between a list and numpy array\n",
        "\"\"\"array: array can take homogeneous data\n",
        "          array's are faster than the listbecause array's are immutable\n",
        "          array's are having fixed memory\"\"\""
      ],
      "metadata": {
        "id": "gMpzOS0PXZew"
      },
      "execution_count": null,
      "outputs": []
    },
    {
      "cell_type": "code",
      "source": [
        "#array's are ordered,immutable and also it allows the duplicate data\n",
        "central object in numpy is Numpy Array's\n"
      ],
      "metadata": {
        "id": "f09sUy__X6yH"
      },
      "execution_count": null,
      "outputs": []
    },
    {
      "cell_type": "code",
      "source": [
        "l = [1,2,3,4]\n",
        "import numpy as np\n",
        "a = np.array(l)\n",
        "print(a)"
      ],
      "metadata": {
        "colab": {
          "base_uri": "https://localhost:8080/"
        },
        "id": "hCg55KNzYxe8",
        "outputId": "5daafdf7-36a5-4622-ff06-df42844996b1"
      },
      "execution_count": null,
      "outputs": [
        {
          "output_type": "stream",
          "name": "stdout",
          "text": [
            "[1 2 3 4]\n"
          ]
        }
      ]
    },
    {
      "cell_type": "code",
      "source": [
        "print(a[2])"
      ],
      "metadata": {
        "colab": {
          "base_uri": "https://localhost:8080/"
        },
        "id": "4YlgEFuPYzlf",
        "outputId": "a01221c7-4c05-4bfe-df91-b00ec3f28cc3"
      },
      "execution_count": null,
      "outputs": [
        {
          "output_type": "stream",
          "name": "stdout",
          "text": [
            "3\n"
          ]
        }
      ]
    },
    {
      "cell_type": "code",
      "source": [
        "print(a[1:3])"
      ],
      "metadata": {
        "colab": {
          "base_uri": "https://localhost:8080/"
        },
        "id": "P-lqBhYwY4bk",
        "outputId": "2e28af4e-3c8d-4c92-945e-62da43e9b744"
      },
      "execution_count": null,
      "outputs": [
        {
          "output_type": "stream",
          "name": "stdout",
          "text": [
            "[2 3]\n"
          ]
        }
      ]
    },
    {
      "cell_type": "code",
      "source": [
        "b = np.array([1,2,3,4])\n",
        "print(type(a))"
      ],
      "metadata": {
        "colab": {
          "base_uri": "https://localhost:8080/"
        },
        "id": "CFfjfwiuZEju",
        "outputId": "ca56eb16-a694-4c85-8873-25a99390828c"
      },
      "execution_count": null,
      "outputs": [
        {
          "output_type": "stream",
          "name": "stdout",
          "text": [
            "<class 'numpy.ndarray'>\n"
          ]
        }
      ]
    },
    {
      "cell_type": "code",
      "source": [
        "b = np.array([1,2,3,4])\n",
        "#i want to know the shape of the array\n",
        "b.shape\n",
        "#i want to know the element data type\n",
        "b.dtype\n",
        "#i want to know the dimension of my array\n",
        "b.ndim\n",
        "#i want to know the total number of elements in my array\n",
        "b.size\n",
        "#i want to know the size in byte of each element\n",
        "b.itemsize\n"
      ],
      "metadata": {
        "colab": {
          "base_uri": "https://localhost:8080/"
        },
        "id": "noXBz5FnZXbA",
        "outputId": "98d6b33e-bad3-49a9-ee81-e04470064413"
      },
      "execution_count": null,
      "outputs": [
        {
          "output_type": "execute_result",
          "data": {
            "text/plain": [
              "8"
            ]
          },
          "metadata": {},
          "execution_count": 39
        }
      ]
    },
    {
      "cell_type": "markdown",
      "source": [
        "# 17-04-2025"
      ],
      "metadata": {
        "id": "epN2k0GNdx8n"
      }
    },
    {
      "cell_type": "code",
      "source": [
        "#HOW APPLY CONDITIONS IN THE ARRAY?\n",
        "#np.where(condition,true,false)\n",
        "import numpy as np"
      ],
      "metadata": {
        "id": "VxZMbkIrd1kh"
      },
      "execution_count": null,
      "outputs": []
    },
    {
      "cell_type": "code",
      "source": [
        "a = np.array([1,2,3],[6,7,8],[1,4,4])\n",
        "print(a)"
      ],
      "metadata": {
        "id": "-vGRC5b4fJXu"
      },
      "execution_count": null,
      "outputs": []
    },
    {
      "cell_type": "code",
      "source": [
        "import numpy as np # Add this line to import the NumPy library\n",
        "\n",
        "a = np.array(([1,2,3],[6,7,8],[1,4,4]))\n",
        "# Changed list into a nested list to prevent the error \"ValueError: only scalar arrays can be converted to a scalar index\"\n",
        "print(a)\n",
        "#print the values greater than 2\n",
        "b = np.where(a>2,True,False)\n",
        "b = np.where(a>2,a,\"No\")\n",
        "print(b)"
      ],
      "metadata": {
        "colab": {
          "base_uri": "https://localhost:8080/"
        },
        "id": "ykRgL-3WftbP",
        "outputId": "0ff693d0-e467-48bc-9ec4-27c823180914"
      },
      "execution_count": null,
      "outputs": [
        {
          "output_type": "stream",
          "name": "stdout",
          "text": [
            "[[1 2 3]\n",
            " [6 7 8]\n",
            " [1 4 4]]\n",
            "[['No' 'No' '3']\n",
            " ['6' '7' '8']\n",
            " ['No' '4' '4']]\n"
          ]
        }
      ]
    },
    {
      "cell_type": "code",
      "source": [
        "#np.argwhere()\n",
        "#compte the argument where the condition is true?\n",
        "c = np.argwhere(a>2)\n",
        "print(c)\n",
        "print(a)"
      ],
      "metadata": {
        "colab": {
          "base_uri": "https://localhost:8080/"
        },
        "id": "2GHu75b7gX61",
        "outputId": "a9550d27-7adb-4a35-b1ef-f6246f67c0e1"
      },
      "execution_count": null,
      "outputs": [
        {
          "output_type": "stream",
          "name": "stdout",
          "text": [
            "[[0 2]\n",
            " [1 0]\n",
            " [1 1]\n",
            " [1 2]\n",
            " [2 1]\n",
            " [2 2]]\n",
            "[[1 2 3]\n",
            " [6 7 8]\n",
            " [1 4 4]]\n"
          ]
        }
      ]
    },
    {
      "cell_type": "code",
      "source": [
        "a = np.array([10,19,20,30,41,50,61])\n",
        "#compute the indexes where the numbers are divisible with 2\n",
        "eve = np.argwhere(a%2==0).flatten()\n",
        "print(eve)\n",
        "a_even = a[eve]\n",
        "print(a_even)\n"
      ],
      "metadata": {
        "colab": {
          "base_uri": "https://localhost:8080/"
        },
        "id": "i6OmjlJGfy9K",
        "outputId": "1a39fe95-21a5-492f-c058-cfea67cea1f7"
      },
      "execution_count": null,
      "outputs": [
        {
          "output_type": "stream",
          "name": "stdout",
          "text": [
            "[0 2 3 5]\n",
            "[10 20 30 50]\n"
          ]
        }
      ]
    },
    {
      "cell_type": "code",
      "source": [
        "#reshaping of the array's\n",
        "#create a range of array up to 10\n",
        "a = np.arange(10)\n",
        "print(a)"
      ],
      "metadata": {
        "colab": {
          "base_uri": "https://localhost:8080/"
        },
        "id": "YMUiKSChio6c",
        "outputId": "4fd7b8b5-8355-4ef6-ad06-2d64811686b8"
      },
      "execution_count": null,
      "outputs": [
        {
          "output_type": "stream",
          "name": "stdout",
          "text": [
            "[0 1 2 3 4 5 6 7 8 9]\n"
          ]
        }
      ]
    },
    {
      "cell_type": "code",
      "source": [
        "#create a range of array 1 to 10\n",
        "b = np.arange(1,11)\n",
        "print(b)\n",
        "#reshape the above array into 5 rows and 2 column\n",
        "c = b.reshape(5,2)   #np.reshape(row,col)\n",
        "print(c)"
      ],
      "metadata": {
        "colab": {
          "base_uri": "https://localhost:8080/"
        },
        "id": "YimYm5Iki_R1",
        "outputId": "348acacc-d349-45e9-da7b-80535bf70d48"
      },
      "execution_count": null,
      "outputs": [
        {
          "output_type": "stream",
          "name": "stdout",
          "text": [
            "[ 1  2  3  4  5  6  7  8  9 10]\n",
            "[[ 1  2]\n",
            " [ 3  4]\n",
            " [ 5  6]\n",
            " [ 7  8]\n",
            " [ 9 10]]\n"
          ]
        }
      ]
    },
    {
      "cell_type": "code",
      "source": [
        "#generate a range of array from 1 to 6 and reshape it into 2 rows and 3 column\n",
        "d = np.arange(1,7)\n",
        "print(d)\n",
        "e = d.reshape(2,3)\n",
        "print(e)"
      ],
      "metadata": {
        "colab": {
          "base_uri": "https://localhost:8080/"
        },
        "id": "D9dR_ASvjvCJ",
        "outputId": "954330a3-5685-4781-ab20-dc6ad78ad028"
      },
      "execution_count": null,
      "outputs": [
        {
          "output_type": "stream",
          "name": "stdout",
          "text": [
            "[1 2 3 4 5 6]\n",
            "[[1 2 3]\n",
            " [4 5 6]]\n"
          ]
        }
      ]
    },
    {
      "cell_type": "code",
      "source": [
        "#NEWaxis:- it is used to create a new axis in the data\n",
        "a = np.arange(1,7)\n",
        "print(a.shape)"
      ],
      "metadata": {
        "colab": {
          "base_uri": "https://localhost:8080/"
        },
        "id": "21ZvaKw4kW1h",
        "outputId": "2829e95f-e0ff-4a48-cdb0-5dede007bb75"
      },
      "execution_count": null,
      "outputs": [
        {
          "output_type": "stream",
          "name": "stdout",
          "text": [
            "(6,)\n"
          ]
        }
      ]
    },
    {
      "cell_type": "code",
      "source": [
        "b = a[np.newaxis,:]\n",
        "print(b)\n",
        "print(b.shape)"
      ],
      "metadata": {
        "colab": {
          "base_uri": "https://localhost:8080/"
        },
        "id": "GSeKMT7mk1Iq",
        "outputId": "177c0ed3-9f4a-4d84-945d-a1a2e43b0843"
      },
      "execution_count": null,
      "outputs": [
        {
          "output_type": "stream",
          "name": "stdout",
          "text": [
            "[[1 2 3 4 5 6]]\n",
            "(1, 6)\n"
          ]
        }
      ]
    },
    {
      "cell_type": "code",
      "source": [
        "c = a[:,np.newaxis]\n",
        "print(c)\n",
        "print(c.shape)"
      ],
      "metadata": {
        "colab": {
          "base_uri": "https://localhost:8080/"
        },
        "id": "G5VYo7OBlDVR",
        "outputId": "5f5e8644-5e5d-46e8-acec-f42a42e97913"
      },
      "execution_count": null,
      "outputs": [
        {
          "output_type": "stream",
          "name": "stdout",
          "text": [
            "[[1]\n",
            " [2]\n",
            " [3]\n",
            " [4]\n",
            " [5]\n",
            " [6]]\n",
            "(6, 1)\n"
          ]
        }
      ]
    },
    {
      "cell_type": "code",
      "source": [
        "d = np.array([[1,2],[3,4],[5,6]])\n",
        "print(d.shape)\n",
        "e = d[np.newaxis,:]\n",
        "print(e)\n",
        "print(e.shape)"
      ],
      "metadata": {
        "colab": {
          "base_uri": "https://localhost:8080/"
        },
        "id": "isfuUKbdlSIR",
        "outputId": "1765bc9b-c237-4b19-be94-c9cf68656e74"
      },
      "execution_count": null,
      "outputs": [
        {
          "output_type": "stream",
          "name": "stdout",
          "text": [
            "(3, 2)\n",
            "[[[1 2]\n",
            "  [3 4]\n",
            "  [5 6]]]\n",
            "(1, 3, 2)\n"
          ]
        }
      ]
    },
    {
      "cell_type": "code",
      "source": [
        "c = a[:,np.newaxis]\n",
        "print(c.shape)"
      ],
      "metadata": {
        "colab": {
          "base_uri": "https://localhost:8080/"
        },
        "id": "KuKRK03IlthG",
        "outputId": "864b05b3-2efe-439f-dacd-6b892fde9de3"
      },
      "execution_count": null,
      "outputs": [
        {
          "output_type": "stream",
          "name": "stdout",
          "text": [
            "(6, 1)\n"
          ]
        }
      ]
    },
    {
      "cell_type": "code",
      "source": [
        "#concatenation:-\n",
        "a = np.array([[1,2],[3,4]])\n",
        "b = np.array([[5,6]])\n",
        "#combine or concat above 2 arrays\n",
        "c = np.concatenate((a,b.T), axis = 1)\n",
        "print(c)"
      ],
      "metadata": {
        "colab": {
          "base_uri": "https://localhost:8080/"
        },
        "id": "hJKKu2sZnc3l",
        "outputId": "7b4763d4-a025-4b29-ecd4-e92973000217"
      },
      "execution_count": null,
      "outputs": [
        {
          "output_type": "stream",
          "name": "stdout",
          "text": [
            "[[1 2 5]\n",
            " [3 4 6]]\n"
          ]
        }
      ]
    },
    {
      "cell_type": "code",
      "source": [
        "#HSTACK:- stack of array in sequence horizontally(column-level)"
      ],
      "metadata": {
        "id": "DtDZP4W-ohVO"
      },
      "execution_count": null,
      "outputs": []
    },
    {
      "cell_type": "code",
      "source": [
        "a = np.array([[1,2],[3,4]])\n",
        "b = np.array([[5,6],[7,8]])\n",
        "c = np.hstack((a,b))\n",
        "print(c)"
      ],
      "metadata": {
        "colab": {
          "base_uri": "https://localhost:8080/"
        },
        "id": "thtqwGfAoRCx",
        "outputId": "ecf91749-4ca9-46c3-ea11-10035aff00fe"
      },
      "execution_count": null,
      "outputs": [
        {
          "output_type": "stream",
          "name": "stdout",
          "text": [
            "[[1 2 5 6]\n",
            " [3 4 7 8]]\n"
          ]
        }
      ]
    },
    {
      "cell_type": "code",
      "source": [
        "#VSTACK:- stack of array in sequence vertically(row-level)\n",
        "a = np.array([[1,2],[3,4]])\n",
        "b = np.array([[5,6],[7,8]])\n",
        "c = np.vstack((a,b))\n",
        "print(c)"
      ],
      "metadata": {
        "colab": {
          "base_uri": "https://localhost:8080/"
        },
        "id": "5MUP6lE-oyM-",
        "outputId": "f19f1f29-00c7-4b04-9ff2-2e028efb2ac5"
      },
      "execution_count": null,
      "outputs": [
        {
          "output_type": "stream",
          "name": "stdout",
          "text": [
            "[[1 2]\n",
            " [3 4]\n",
            " [5 6]\n",
            " [7 8]]\n"
          ]
        }
      ]
    },
    {
      "cell_type": "code",
      "source": [
        "#COPYING:-\n",
        "a = np.array([1,2,3])\n",
        "b = a\n",
        "b[0] = 42\n",
        "print(a)"
      ],
      "metadata": {
        "colab": {
          "base_uri": "https://localhost:8080/"
        },
        "id": "fbqfQkmNpDNM",
        "outputId": "1309c69c-4a1e-4dc8-8cf9-edda325c7d09"
      },
      "execution_count": null,
      "outputs": [
        {
          "output_type": "stream",
          "name": "stdout",
          "text": [
            "[42  2  3]\n"
          ]
        }
      ]
    },
    {
      "cell_type": "code",
      "source": [
        "a = np.array([1,2,3])\n",
        "b = a.copy()\n",
        "b[0] = 42\n",
        "print(a)\n",
        "print(b)\n",
        "#np.copy() is used when we make changes in the array it wont impact on the old array"
      ],
      "metadata": {
        "colab": {
          "base_uri": "https://localhost:8080/"
        },
        "id": "6vpJDvbcpfz5",
        "outputId": "d75908ab-a9d6-4c13-f2f2-6ddd84f11069"
      },
      "execution_count": null,
      "outputs": [
        {
          "output_type": "stream",
          "name": "stdout",
          "text": [
            "[1 2 3]\n",
            "[42  2  3]\n"
          ]
        }
      ]
    },
    {
      "cell_type": "code",
      "source": [
        "#Generating Array's\n",
        "#generate an array of zeros with 2 rows and 3 column\n",
        "a = np.zeros((2,3))\n",
        "print(a)"
      ],
      "metadata": {
        "colab": {
          "base_uri": "https://localhost:8080/"
        },
        "id": "tLPTMmDBp0Ok",
        "outputId": "789ebaff-1c33-4803-9e06-9fae9d070d7d"
      },
      "execution_count": null,
      "outputs": [
        {
          "output_type": "stream",
          "name": "stdout",
          "text": [
            "[[0. 0. 0.]\n",
            " [0. 0. 0.]]\n"
          ]
        }
      ]
    },
    {
      "cell_type": "code",
      "source": [
        "#generate an array of zeros with 3 rows and 3 column\n",
        "b = np.ones((3,3))\n",
        "print(b)"
      ],
      "metadata": {
        "colab": {
          "base_uri": "https://localhost:8080/"
        },
        "id": "P1VOvbADqk-w",
        "outputId": "ec494d4d-6ec6-4a36-8dee-41914adda4a7"
      },
      "execution_count": null,
      "outputs": [
        {
          "output_type": "stream",
          "name": "stdout",
          "text": [
            "[[1. 1. 1.]\n",
            " [1. 1. 1.]\n",
            " [1. 1. 1.]]\n"
          ]
        }
      ]
    },
    {
      "cell_type": "code",
      "source": [
        "#generate an array of specific rows and column with specific values\n",
        "c = np.full((3,3),5)\n",
        "print(c)"
      ],
      "metadata": {
        "colab": {
          "base_uri": "https://localhost:8080/"
        },
        "id": "3KFigiA0qyh3",
        "outputId": "a9fdbab0-8e82-4ac9-df18-64a3baf5247a"
      },
      "execution_count": null,
      "outputs": [
        {
          "output_type": "stream",
          "name": "stdout",
          "text": [
            "[[5 5 5]\n",
            " [5 5 5]\n",
            " [5 5 5]]\n"
          ]
        }
      ]
    },
    {
      "cell_type": "code",
      "source": [
        "#generate an identity matrix\n",
        "d = np.eye(3)\n",
        "print(d)"
      ],
      "metadata": {
        "colab": {
          "base_uri": "https://localhost:8080/"
        },
        "id": "rQ7P73iurJA2",
        "outputId": "d9edd36d-9c79-4be6-bfd8-bd2f8ae0760c"
      },
      "execution_count": null,
      "outputs": [
        {
          "output_type": "stream",
          "name": "stdout",
          "text": [
            "[[1. 0. 0.]\n",
            " [0. 1. 0.]\n",
            " [0. 0. 1.]]\n"
          ]
        }
      ]
    },
    {
      "cell_type": "code",
      "source": [
        "#generate an identity matrix\n",
        "e = np.identity(3)\n",
        "print(e)"
      ],
      "metadata": {
        "colab": {
          "base_uri": "https://localhost:8080/"
        },
        "id": "1aQAy7uprXc-",
        "outputId": "24af8733-c62a-4457-ba7e-331b1747342f"
      },
      "execution_count": null,
      "outputs": [
        {
          "output_type": "stream",
          "name": "stdout",
          "text": [
            "[[1. 0. 0.]\n",
            " [0. 1. 0.]\n",
            " [0. 0. 1.]]\n"
          ]
        }
      ]
    },
    {
      "cell_type": "code",
      "source": [
        "#generate a range of numbers upto 9\n",
        "f = np.arange(10)\n",
        "print(f)"
      ],
      "metadata": {
        "colab": {
          "base_uri": "https://localhost:8080/"
        },
        "id": "OEX_2GQFrflF",
        "outputId": "f199708a-b3ec-46d8-c839-a98b1eeb3bf7"
      },
      "execution_count": null,
      "outputs": [
        {
          "output_type": "stream",
          "name": "stdout",
          "text": [
            "[0 1 2 3 4 5 6 7 8 9]\n"
          ]
        }
      ]
    },
    {
      "cell_type": "code",
      "source": [
        "#linspace:- split the data into n equal parts\n",
        "g = np.linspace(0,10,6)\n",
        "#linspace(start,end,partitions)\n",
        "print(g)"
      ],
      "metadata": {
        "colab": {
          "base_uri": "https://localhost:8080/"
        },
        "id": "uGMRSXjArtoF",
        "outputId": "51310f76-e06b-4cf8-8795-591f800784cd"
      },
      "execution_count": null,
      "outputs": [
        {
          "output_type": "stream",
          "name": "stdout",
          "text": [
            "[ 0.  2.  4.  6.  8. 10.]\n"
          ]
        }
      ]
    },
    {
      "cell_type": "code",
      "source": [],
      "metadata": {
        "id": "tlc1gAJysMfb"
      },
      "execution_count": null,
      "outputs": []
    },
    {
      "cell_type": "code",
      "source": [
        "#RANDOM NUMBERS\n",
        "#generate the random numbers that are uniformly distributed from 0-1\n",
        "a = np.random.random((3,2))\n",
        "print(a)"
      ],
      "metadata": {
        "colab": {
          "base_uri": "https://localhost:8080/"
        },
        "id": "NhLwH5zLsC7b",
        "outputId": "96001aff-3e28-48fe-9d59-9b846c92c8e9"
      },
      "execution_count": null,
      "outputs": [
        {
          "output_type": "stream",
          "name": "stdout",
          "text": [
            "[[0.1500996  0.9947045 ]\n",
            " [0.25142166 0.7087134 ]\n",
            " [0.97744888 0.03170313]]\n"
          ]
        }
      ]
    },
    {
      "cell_type": "code",
      "source": [
        "#generate an array which is normally distributed or gussian distribution\n",
        "#normally distribution  means ---> mean is zero and varianvce is 1\n",
        "h = np.random.random(3,2)\n",
        "print(h)\n",
        "print(h.mean(),h.var(),h.std())"
      ],
      "metadata": {
        "id": "DxzzPNHesc49"
      },
      "execution_count": null,
      "outputs": []
    },
    {
      "cell_type": "code",
      "source": [
        "#generate an array which is normally distributed or gussian distribution\n",
        "#normally distribution  means ---> mean is zero and varianvce is 1\n",
        "#To prevent the error, update the syntax to create a 3x4 array:\n",
        "h = np.random.random((3,2))\n",
        "#added extra parentheses to create an array of the desired shape\n",
        "print(h)\n",
        "print(h.mean(),h.var(),h.std())"
      ],
      "metadata": {
        "colab": {
          "base_uri": "https://localhost:8080/"
        },
        "id": "l3SAgu_AtRj2",
        "outputId": "9016fa7b-c591-442a-ca7a-33414ab0f162"
      },
      "execution_count": null,
      "outputs": [
        {
          "output_type": "stream",
          "name": "stdout",
          "text": [
            "[[0.24351441 0.28620605]\n",
            " [0.04250805 0.95445289]\n",
            " [0.47064707 0.81392794]]\n",
            "0.4685427352422929 0.10346566810510181 0.3216607966555791\n"
          ]
        }
      ]
    },
    {
      "cell_type": "code",
      "source": [
        "#generate random integers from 10 to 20\n",
        "i = np.random.randint(10,20,size=(10))\n",
        "print(i)"
      ],
      "metadata": {
        "colab": {
          "base_uri": "https://localhost:8080/"
        },
        "id": "9uVXHMjttRew",
        "outputId": "0c84e88a-26c3-4412-8642-54eee972f6f7"
      },
      "execution_count": null,
      "outputs": [
        {
          "output_type": "stream",
          "name": "stdout",
          "text": [
            "[13 12 14 13 14 10 13 16 13 15]\n"
          ]
        }
      ]
    },
    {
      "cell_type": "code",
      "source": [
        "#generate an random interges upto 6 and divide it into size of 10\n",
        "j = np.random.choice(7,size = (10))\n",
        "print(j)"
      ],
      "metadata": {
        "colab": {
          "base_uri": "https://localhost:8080/"
        },
        "id": "8YG_g30Mt1c5",
        "outputId": "a3afa88e-d7bb-48d2-c439-7015da2eba07"
      },
      "execution_count": null,
      "outputs": [
        {
          "output_type": "stream",
          "name": "stdout",
          "text": [
            "[1 4 4 5 3 6 6 0 2 6]\n"
          ]
        }
      ]
    },
    {
      "cell_type": "code",
      "source": [
        "from collections.abc import Sized\n",
        "#how to check the numpy array or explore the numpy array?\n",
        "\"\"\"1.np.shape\n",
        "   2.np.Size\n",
        "   3.np.dtype\n",
        "   4.np.dim\n",
        "   5.np.itemsize\"\"\"\n",
        "#what is 1D,2D,3D array's?\n",
        "#what is the difference between list and array?\n",
        "#slicing operation with 1D and 2D?\n",
        "#np.dot():- the arrays has to be in same length and dimensions\n",
        "#np.diag()\n",
        "#np.T\n",
        "#np.linalg.inv()\n",
        "#np.where(condition,true,false)\n",
        "#np.argwhere(condition)\n",
        "#np.concatenate():- we should match rows of two arrays\n",
        "#np.reshape(rows,column)\n",
        "#np.newaxis\n",
        "#np.copy()\n",
        "#np.hstack()\n",
        "#np.vstack()\n",
        "#np.faltten:- print the output in single line\n",
        "#np.random.random((row,col)) --->uniform distribution\n",
        "#np.random.randn(row,col)    -->normal distribution\n",
        "#np.random.ranint(start,end,size=)\n",
        "#np.random.choice(end,size)\n",
        "#np.rray()\n",
        "#np.arange()\n",
        "#np.linspace(start,end,partitions)  --> divide the array into new axis\n",
        "#np.one,np.zeros,np.full,"
      ],
      "metadata": {
        "id": "GM27cjkZuJ2w"
      },
      "execution_count": null,
      "outputs": []
    },
    {
      "cell_type": "markdown",
      "source": [
        "**30-04-2025**"
      ],
      "metadata": {
        "id": "ADrUOFIBZPTd"
      }
    },
    {
      "cell_type": "code",
      "source": [
        "#STATS MODULE 2\n",
        "What is hypothesis?\n",
        "it is a priliminary assumption of data without analysis of the data\n",
        "\n",
        "HO --> CORRECT\n",
        "H1 ---> NOT CORRECT\n",
        "\n",
        "H1 -->CORRECT\n",
        "H1 -->NOT CORRECT\n",
        "\n",
        "1. Null Hypothesis\n",
        "2. Alternate Hypothesis\n",
        "\n",
        "EX: if the x = 500 ml\n",
        "  H1: x != 500 ml\n",
        "  H0: x = 500 ml\n",
        "  LEFT TAIL TEST\n",
        "\n",
        "  EX: if the x < 500 ml\n",
        "  H1: x != 500 ml\n",
        "  H0: x = 500 ml\n",
        "  RIGHT TAIL TEST\n",
        "\n",
        "  we use two test to find the hypothesis\n",
        "  1. Z-test\n",
        "  2. T-test\n",
        "  Z score-test:- the sample size is greater than 30\n",
        "  T score-test:- the sample size is less than 30\n",
        "\n",
        "  Z score-test formula\n",
        "   Z = X-u\\sigma\\under root n\n",
        "\n",
        "   x ->sample mean\n",
        "   u ->population mean\n",
        "   sigma ->population std\n",
        "   n ->sample size\n",
        "\n",
        "   a sample size of 400 was drawn and sample mean has found to be 99 test weather sample would have come from normal population which 100 and SD is 5% level of significance\n",
        "   n = 400\n",
        "   x = 99\n",
        "   u = 100\n",
        "   sigma = 8\n",
        "\n",
        "   Z = -2.5\n",
        "\n",
        "   L = 5%\n",
        "   Zt SCORE = .OO539\n",
        "   |Z| MODULUS = 2.5\n",
        "\n",
        "   IF |Z| if greater then z alpha then reject the null hypothesis and accept the alternate hypothesis\n",
        "   IF |Z| if less then z alpha then accept the null hypothesis and reject the alternate hypothesis\n",
        "\n",
        "   H0 and H1 are always opposite\n",
        "   Accept H1 alternate hypothesis\n",
        "\n",
        "   H0 ->correct\n",
        "      ->incorrect\n",
        "\n",
        "   H1 ->correct\n",
        "      ->incorrect\n",
        "\n",
        "  when H0 is incorrect like company is selling less than 500 mml of milk but till then,untill or unless we are accepting it -->such a type of errors is known as TYPE-1 error\n",
        "  when H0 is accepted when H1 is true --> such a type of errors is known as TYPE-I error\n",
        "       H0 is accepted when H1 is true --> such a type of errors is known as TYPE-II error\n",
        "  when H1 is incorrect like company is selling more than 500 mml of milk but till then,untill or unless we are accepting it -->such a type of errors is known as TYPE-2 error\n",
        "\n",
        "  a medicine is tested on a particular person\n",
        "  let H0:-medicine is curing deases\n",
        "  correct: we say no medicine is not curing the disease\n",
        "  what type of error it is?\n",
        "  TYPE I error\n",
        "\n",
        "  delhi govt claims ppm in air less than 70%\n",
        "  find the type I and type II error\n",
        "  H0 is correct: but our analysis says more then 70 -->type I error\n",
        "  H0 is incorrect: and our analysis says less then 70 -->type II error\n",
        "\n",
        "  how the null hypothesis can be accepted?\n",
        "  null hypothesis tested under two bais\n",
        "  1.parametric test: we compute mean,median and mode.\n",
        "  z-test and t-test\n",
        "  parametric test can be applied if my data is normally distributed\n",
        "\n",
        "  2.non-parametric test: when the data is not normally distributed we use non-parametric test\n",
        "  chi-square test\n",
        "\n",
        "Q).in a classroom daily having absentes on monday 28, on tuesday 22,on wednesday 18, and thursday 20,friday 32.\n",
        "\n",
        "\n",
        "\n",
        "\n"
      ],
      "metadata": {
        "id": "aFqWX-2JZXPb"
      },
      "execution_count": null,
      "outputs": []
    },
    {
      "cell_type": "markdown",
      "source": [
        "**01-05-2025**"
      ],
      "metadata": {
        "id": "h1pU8FaPkU3G"
      }
    },
    {
      "cell_type": "markdown",
      "source": [
        "**13-05-2025**\n",
        "\n",
        "\n"
      ],
      "metadata": {
        "id": "I4obf67nXz1E"
      }
    },
    {
      "cell_type": "markdown",
      "source": [
        "**POWER BI**"
      ],
      "metadata": {
        "id": "UX-6XpASl6HQ"
      }
    },
    {
      "cell_type": "code",
      "source": [],
      "metadata": {
        "id": "ryO36Q3gkS9o"
      },
      "execution_count": null,
      "outputs": []
    },
    {
      "cell_type": "markdown",
      "source": [
        "**19-05-2025**"
      ],
      "metadata": {
        "id": "x-OE-5k2tdtY"
      }
    },
    {
      "cell_type": "code",
      "source": [
        "#WHAT is list comprehension?\n",
        "#it offeres smaller line of code where a new list is created from the existing list"
      ],
      "metadata": {
        "id": "P7FeK59JthMl"
      },
      "execution_count": null,
      "outputs": []
    },
    {
      "cell_type": "code",
      "source": [
        "l = ['apple','banana','pineapple','kiwi','grapes','lemon','orange']\n",
        "#print the fruits having letter 'a' in a new list?\n",
        "new = []\n",
        "for i in l:\n",
        "  if \"a\" in i:\n",
        "    new.append(i)\n",
        "print(new)"
      ],
      "metadata": {
        "colab": {
          "base_uri": "https://localhost:8080/"
        },
        "id": "8K8kE2m3_ZF1",
        "outputId": "f13a9b19-04b9-463f-eaa8-85363af9dee5"
      },
      "execution_count": null,
      "outputs": [
        {
          "output_type": "stream",
          "name": "stdout",
          "text": [
            "['apple', 'banana', 'pineapple', 'grapes', 'orange']\n"
          ]
        }
      ]
    },
    {
      "cell_type": "code",
      "source": [
        "#new = [items for item in collections_name apply condition]\n",
        "new = [i for i in l if \"a\" in i]\n",
        "print(new)"
      ],
      "metadata": {
        "colab": {
          "base_uri": "https://localhost:8080/"
        },
        "id": "gK5DcXDZ_geI",
        "outputId": "09b1101d-6f31-4cb8-8766-5674b9722cb5"
      },
      "execution_count": null,
      "outputs": [
        {
          "output_type": "stream",
          "name": "stdout",
          "text": [
            "['apple', 'banana', 'pineapple', 'grapes', 'orange']\n"
          ]
        }
      ]
    },
    {
      "cell_type": "code",
      "source": [
        "#print the even number in a new list up to 100\n",
        "new = [i for i in range(0,101,2)]\n",
        "print(new)"
      ],
      "metadata": {
        "colab": {
          "base_uri": "https://localhost:8080/"
        },
        "id": "06hiz18s_lOd",
        "outputId": "17423d6f-cd99-4fbc-c163-55a7d82691f0"
      },
      "execution_count": null,
      "outputs": [
        {
          "output_type": "stream",
          "name": "stdout",
          "text": [
            "[0, 2, 4, 6, 8, 10, 12, 14, 16, 18, 20, 22, 24, 26, 28, 30, 32, 34, 36, 38, 40, 42, 44, 46, 48, 50, 52, 54, 56, 58, 60, 62, 64, 66, 68, 70, 72, 74, 76, 78, 80, 82, 84, 86, 88, 90, 92, 94, 96, 98, 100]\n"
          ]
        }
      ]
    },
    {
      "cell_type": "code",
      "source": [
        "#print all the letters in in upper format\n",
        "new = [i.upper() for i in l]\n",
        "print(new)"
      ],
      "metadata": {
        "colab": {
          "base_uri": "https://localhost:8080/"
        },
        "id": "53zmUJR1_qAL",
        "outputId": "8f554e0c-6777-443c-fd7e-c1d3ef165deb"
      },
      "execution_count": null,
      "outputs": [
        {
          "output_type": "stream",
          "name": "stdout",
          "text": [
            "['APPLE', 'BANANA', 'PINEAPPLE', 'KIWI', 'GRAPES', 'LEMON', 'ORANGE']\n"
          ]
        }
      ]
    },
    {
      "cell_type": "markdown",
      "source": [
        "**Lambda functions**"
      ],
      "metadata": {
        "id": "Spq2XmNe_w1V"
      }
    },
    {
      "cell_type": "code",
      "source": [
        "#what is lambda?\n",
        "#lambda means anonymous-->no name\n",
        "#lambda() means a function it does not have any name"
      ],
      "metadata": {
        "id": "6oQNzt5D_uFB"
      },
      "execution_count": null,
      "outputs": []
    },
    {
      "cell_type": "code",
      "source": [
        "#syntax:  lambda arguments: single_expression\n",
        "#lambda is an anonymous function where it can takes many arguments and single expression"
      ],
      "metadata": {
        "id": "LyuRBcdf_2fD"
      },
      "execution_count": null,
      "outputs": []
    },
    {
      "cell_type": "code",
      "source": [
        "a = lambda x: x+10\n",
        "print(a(5))"
      ],
      "metadata": {
        "colab": {
          "base_uri": "https://localhost:8080/"
        },
        "id": "Sx5Wq-CM_6nB",
        "outputId": "99396fd8-4e2e-4166-acb6-768d7674788b"
      },
      "execution_count": null,
      "outputs": [
        {
          "output_type": "stream",
          "name": "stdout",
          "text": [
            "15\n"
          ]
        }
      ]
    },
    {
      "cell_type": "code",
      "source": [
        "b = lambda x,y,z: x+y+z\n",
        "print(b(10,20,30))"
      ],
      "metadata": {
        "colab": {
          "base_uri": "https://localhost:8080/"
        },
        "id": "qPqfFygq__xu",
        "outputId": "2b5e5bd2-5990-4f64-f466-0c43f29506c6"
      },
      "execution_count": null,
      "outputs": [
        {
          "output_type": "stream",
          "name": "stdout",
          "text": [
            "60\n"
          ]
        }
      ]
    },
    {
      "cell_type": "code",
      "source": [
        "#functiuons are 1st class objects means a function can act like argument to another function"
      ],
      "metadata": {
        "id": "sdOcygCJAD3O"
      },
      "execution_count": null,
      "outputs": []
    },
    {
      "cell_type": "code",
      "source": [
        "#lambda is more powerfull when you use inside the another function"
      ],
      "metadata": {
        "id": "OfzLxh1mAINk"
      },
      "execution_count": null,
      "outputs": []
    },
    {
      "cell_type": "code",
      "source": [
        "#creat a function to print power of 2,3,4 and sqrt\n",
        "def square(n):\n",
        "  return n**2\n",
        "def cube(n):\n",
        "  return n **3\n",
        "def four(n):\n",
        "  return n**4\n",
        "def sqrt(n):\n",
        "  return n**0.5\n",
        "print(square(2))\n",
        "print(cube(2))\n",
        "print(four(2))\n",
        "print(sqrt(4))"
      ],
      "metadata": {
        "colab": {
          "base_uri": "https://localhost:8080/"
        },
        "id": "h6Po2T3oAMOy",
        "outputId": "54475eba-04ee-44f1-9680-35eac3d86d78"
      },
      "execution_count": null,
      "outputs": [
        {
          "output_type": "stream",
          "name": "stdout",
          "text": [
            "4\n",
            "8\n",
            "16\n",
            "2.0\n"
          ]
        }
      ]
    },
    {
      "cell_type": "code",
      "source": [
        "#create same by using lambda\n",
        "def power(n):\n",
        "  return lambda x: x**n\n",
        "square = power(2)\n",
        "cube = power(3)\n",
        "sqrt = power(0.5)\n",
        "\n",
        "print(square(20))\n",
        "print(cube(6))\n",
        "print(sqrt(25))"
      ],
      "metadata": {
        "colab": {
          "base_uri": "https://localhost:8080/"
        },
        "id": "VdriVmR6AQv_",
        "outputId": "139555e6-47ed-437a-d3c6-4b23f547af28"
      },
      "execution_count": null,
      "outputs": [
        {
          "output_type": "stream",
          "name": "stdout",
          "text": [
            "400\n",
            "216\n",
            "5.0\n"
          ]
        }
      ]
    },
    {
      "cell_type": "markdown",
      "source": [
        "**map()**"
      ],
      "metadata": {
        "id": "AkaKkB3OAYGM"
      }
    },
    {
      "cell_type": "code",
      "source": [
        "#map() takes an function as an argument and run it over the each point in iterable"
      ],
      "metadata": {
        "id": "biYzwO4PAU5A"
      },
      "execution_count": null,
      "outputs": []
    },
    {
      "cell_type": "code",
      "source": [
        "fruits = ['apple','banana','pineapple','watermelon','kiwi','grapes']\n",
        "#from the above print the length of each fruits in to new list\n",
        "new = []\n",
        "for i in fruits:\n",
        "  new.append(len(i))\n",
        "print(new)"
      ],
      "metadata": {
        "colab": {
          "base_uri": "https://localhost:8080/"
        },
        "id": "ZWqRlwIuAeyW",
        "outputId": "9917a65e-c5e1-42f8-e5be-a7e143ed4c8a"
      },
      "execution_count": null,
      "outputs": [
        {
          "output_type": "stream",
          "name": "stdout",
          "text": [
            "[5, 6, 9, 10, 4, 6]\n"
          ]
        }
      ]
    },
    {
      "cell_type": "code",
      "source": [
        "lc = [len(i) for i in fruits]\n",
        "print(lc)"
      ],
      "metadata": {
        "colab": {
          "base_uri": "https://localhost:8080/"
        },
        "id": "3ZbQL5l0AkEH",
        "outputId": "501106dd-896b-4540-8fbb-e5cf6459452b"
      },
      "execution_count": null,
      "outputs": [
        {
          "output_type": "stream",
          "name": "stdout",
          "text": [
            "[5, 6, 9, 10, 4, 6]\n"
          ]
        }
      ]
    },
    {
      "cell_type": "code",
      "source": [
        "m1 = set(map(len,fruits))\n",
        "print(m1)\n",
        "#Note:- before we are using map() we need to decide in what data type we need print the o/p-->list,tuple,set"
      ],
      "metadata": {
        "colab": {
          "base_uri": "https://localhost:8080/"
        },
        "id": "EA79FM4_AoGK",
        "outputId": "89ce97d4-c1f3-4448-9448-77160214c106"
      },
      "execution_count": null,
      "outputs": [
        {
          "output_type": "stream",
          "name": "stdout",
          "text": [
            "{4, 5, 6, 9, 10}\n"
          ]
        }
      ]
    },
    {
      "cell_type": "code",
      "source": [
        "user = input().split()\n",
        "m2 = list(map(int,user))\n",
        "print(m2)"
      ],
      "metadata": {
        "id": "RWfeid55AsOf"
      },
      "execution_count": null,
      "outputs": []
    },
    {
      "cell_type": "code",
      "source": [
        "l = [1,2,3,4,5,6,7,8,9]\n",
        "#print the l**2\n",
        "m3 = list(map(lambda a: a**2,l))\n",
        "print(m3)"
      ],
      "metadata": {
        "id": "M8-Ws5WgA06q"
      },
      "execution_count": null,
      "outputs": []
    },
    {
      "cell_type": "markdown",
      "source": [
        "**filter()**"
      ],
      "metadata": {
        "id": "_KapeNcHA9zp"
      }
    },
    {
      "cell_type": "code",
      "source": [
        "#synatx:- filter(function,iterables)\n",
        "#filter function takes function as an argument and run it over each element in iterables and print only the element which are satisfied with filter()\n",
        "age  = [18,13,14,16,20,22,13,24,67,43,32,36]\n",
        "def check_age(n):\n",
        "  if n>=18:\n",
        "    return True\n",
        "f = list(filter(check_age,age))\n",
        "print(f)"
      ],
      "metadata": {
        "id": "28lCtqUYA6T2"
      },
      "execution_count": null,
      "outputs": []
    },
    {
      "cell_type": "code",
      "source": [
        "m = list(map(check_age,age))\n",
        "print(m)"
      ],
      "metadata": {
        "id": "CsDjVHDRBE4C"
      },
      "execution_count": null,
      "outputs": []
    },
    {
      "cell_type": "code",
      "source": [
        "f = list(filter(check_age,age))\n",
        "print(f)"
      ],
      "metadata": {
        "id": "8MDI_bNSBI8a"
      },
      "execution_count": null,
      "outputs": []
    },
    {
      "cell_type": "code",
      "source": [
        "f2 = list(filter(lambda a:a>=18,age))\n",
        "print(f2)"
      ],
      "metadata": {
        "id": "T7w2gr8cBNMg"
      },
      "execution_count": null,
      "outputs": []
    },
    {
      "cell_type": "code",
      "source": [],
      "metadata": {
        "id": "s8OuTGd5BRAR"
      },
      "execution_count": null,
      "outputs": []
    },
    {
      "cell_type": "code",
      "source": [],
      "metadata": {
        "id": "a0PVEecRBY65"
      },
      "execution_count": null,
      "outputs": []
    },
    {
      "cell_type": "markdown",
      "source": [
        "**20-05-2025**"
      ],
      "metadata": {
        "id": "b4_MjOcwtZPU"
      }
    },
    {
      "cell_type": "code",
      "source": [
        "#what is class?\n",
        "#blue print of object\n",
        "#what is an object?\n",
        "#instence of a class is known as object"
      ],
      "metadata": {
        "id": "dEAwSSf0tcwn"
      },
      "execution_count": null,
      "outputs": []
    },
    {
      "cell_type": "code",
      "source": [
        "#what are the four pillars of the oop's concept?\n",
        "#1.polymorphism\n",
        "#2.encapsulation\n",
        "#3.inheretence\n",
        "#4.abstraction"
      ],
      "metadata": {
        "id": "u5q32Xrq-ZlG"
      },
      "execution_count": null,
      "outputs": []
    },
    {
      "cell_type": "code",
      "source": [
        "# customer1 = ()\n",
        "# 1.def def_welcome()\n",
        "# 2.def check_balnce()\n",
        "# 3.def deposit()\n",
        "# 4.def withdraw()"
      ],
      "metadata": {
        "id": "TEepZK78-eYJ"
      },
      "execution_count": null,
      "outputs": []
    },
    {
      "cell_type": "code",
      "source": [
        "#How can we create a class?\n",
        "class customer():\n",
        "  #create class attributes\n",
        "  Bank_Name = \"HFC Bank\"\n",
        "  IFSC = \"HFC0008762\"\n",
        "  Branch = \"Ameerpet\"\n",
        "  city  = \"HYD\"\n",
        "  State = \"TS\"\n",
        "\n",
        "  #intialize the object attributes\n",
        "  def __init__(self,Name,accno,intial_balance,phone):\n",
        "    self.Name = Name\n",
        "    self.accno = accno\n",
        "    self.intial_balance = intial_balance\n",
        "    self.phone = phone\n",
        "  def welcome(self):\n",
        "    print(f\"Hello {self.Name} ! welcome to HFC Bank\")\n",
        "  def check_balance(self):\n",
        "    print(f\"Your current balace is {self.intial_balance}/- rupees only\")\n",
        "  def deposit(self,amount):\n",
        "    self.intial_balance += amount\n",
        "    print(f\"\"\"Transaction is completed.\n",
        "    {amount} has been credited to your account.\n",
        "    Updated balance is {self.intial_balance}\"\"\")\n",
        "  def withdraw(self,amount):\n",
        "    if amount<= self.intial_balance:\n",
        "       self.intial_balance -= amount\n",
        "       print(f\"\"\"Transaction is completed.\n",
        "    {amount} has been credited to your account.\n",
        "    Updated balance is {self.intial_balance}\"\"\")\n",
        "    else:\n",
        "      print('insufficient funds')\n",
        "#create object\n",
        "c1 = customer('shahul',532356243,10000,893932736)\n",
        "#access the class attributes\n",
        "c1.IFSC\n",
        "c1.Branch\n",
        "#access the object attributes\n",
        "c1.accno\n",
        "c1.intial_balance\n",
        "#access the method\n",
        "# c1.welcome()\n",
        "# c1.check_balance()\n",
        "# c1.deposit(25000)\n",
        "c1.withdraw(7000)"
      ],
      "metadata": {
        "colab": {
          "base_uri": "https://localhost:8080/"
        },
        "id": "yDuJDEWC-jh3",
        "outputId": "47c38ab9-1479-4bed-dab7-7d977e7304b8"
      },
      "execution_count": null,
      "outputs": [
        {
          "output_type": "stream",
          "name": "stdout",
          "text": [
            "Transaction is completed.\n",
            "    7000 has been credited to your account.\n",
            "    Updated balance is 3000\n"
          ]
        }
      ]
    },
    {
      "cell_type": "code",
      "source": [
        "#How many types of attributes do we have in python?\n",
        "#There are 2 types\n",
        "#1.class attribute:- sharable properties or data (common data)\n",
        "#2.object attribute:- unique properties which shared with specific object\n",
        "\n",
        "#How can we create an object attributes?\n",
        "#before creating the object attributes we need initialize  the object attributes inside the class\n",
        "#what is a method?\n",
        "#method is a function created inside the class"
      ],
      "metadata": {
        "id": "7y9rj9d8-rPB"
      },
      "execution_count": null,
      "outputs": []
    },
    {
      "cell_type": "code",
      "source": [
        "#create a login and registration page  where\n",
        "#1.check the user is giving valid email or not\n",
        "#2.password has to be more then 6 characters where it should have \"special character, number, uppercase\"\n",
        "#3.use the file handling method to store all the user information\n",
        "#4.if the user forget password--> retrive the password if the user email exist\n",
        "#5.evaluation can be done checking registration,login, password pattern match, retrive password\n",
        "#6.--> save the file in github and share link  --> readme, streamlit"
      ],
      "metadata": {
        "id": "-lr7X_ut-wi2"
      },
      "execution_count": null,
      "outputs": []
    },
    {
      "cell_type": "markdown",
      "source": [
        "**file handling**"
      ],
      "metadata": {
        "id": "pHmvqSyB-4aG"
      }
    },
    {
      "cell_type": "code",
      "source": [
        "#what is file handling?\n",
        "#handling a file except python--> pdf,json,xcel,csv...ect\n",
        "#to handle this file in python we have an inbuilt function--> open()\n",
        "#There are 4 modes in the file handling--> r,w,a,x"
      ],
      "metadata": {
        "id": "4ZbVzAK0-1ML"
      },
      "execution_count": null,
      "outputs": []
    },
    {
      "cell_type": "code",
      "source": [
        "#creat a file trail.txt by using python file handling\n",
        "#exceution mode--> x-mode is ude to create afile\n",
        "f = open('trail.txt','x')\n",
        "print(f)"
      ],
      "metadata": {
        "colab": {
          "base_uri": "https://localhost:8080/"
        },
        "id": "EPO9g2gq-9zJ",
        "outputId": "075e26a5-c3fb-4fde-d125-580c25e47fcd"
      },
      "execution_count": null,
      "outputs": [
        {
          "output_type": "stream",
          "name": "stdout",
          "text": [
            "<_io.TextIOWrapper name='trail.txt' mode='x' encoding='utf-8'>\n"
          ]
        }
      ]
    },
    {
      "cell_type": "code",
      "source": [
        "#overwrite mode-->w-mode\n",
        "f = open('trail.txt','w')\n",
        "f.write('hello i am using file handling write mode')\n",
        "f.close()"
      ],
      "metadata": {
        "id": "KteQtOWa_BD0"
      },
      "execution_count": null,
      "outputs": []
    },
    {
      "cell_type": "code",
      "source": [
        "#append a-mode\n",
        "f = open('trail.txt','a')\n",
        "f.write('.i am using append mode to add extra content')\n",
        "f.close()"
      ],
      "metadata": {
        "id": "GSL05imV_E-V"
      },
      "execution_count": null,
      "outputs": []
    },
    {
      "cell_type": "code",
      "source": [
        "#read mode- (r-mode)\n",
        "#by default the open() is in read mode\n",
        "f = open('trail.txt','r')\n",
        "print(f.read())\n",
        "f.close()"
      ],
      "metadata": {
        "colab": {
          "base_uri": "https://localhost:8080/"
        },
        "id": "oeqUHF0I_JYY",
        "outputId": "38b3d29b-14e6-4747-e84e-9a651189b14c"
      },
      "execution_count": null,
      "outputs": [
        {
          "output_type": "stream",
          "name": "stdout",
          "text": [
            "hello i am using file handling write mode.i am using append mode to add extra content\n"
          ]
        }
      ]
    },
    {
      "cell_type": "code",
      "source": [
        "#iterators\n",
        "#pickling\n",
        "#regular expresion\n",
        "#handling the xcel file"
      ],
      "metadata": {
        "id": "YjL8kJEe_M3a"
      },
      "execution_count": null,
      "outputs": []
    },
    {
      "cell_type": "markdown",
      "source": [
        "**21-05-2025**"
      ],
      "metadata": {
        "id": "KzvMrPIui2Jq"
      }
    },
    {
      "cell_type": "markdown",
      "source": [
        "**regular expressions**"
      ],
      "metadata": {
        "id": "q8uM1WHilwtF"
      }
    },
    {
      "cell_type": "code",
      "source": [
        "#what is regular expression?\n",
        "#aslo known as regex\n",
        "#regex is sequence of characters that defines a search pattern\n",
        "#used for string  searching, matching,replacing and validating.\n"
      ],
      "metadata": {
        "id": "0bUFj_bYltBe"
      },
      "execution_count": null,
      "outputs": []
    },
    {
      "cell_type": "code",
      "source": [
        "#import regular expression\n",
        "import re\n",
        "txt = \"The rain in hyderabad\"\n",
        "#search \"rain\" is present in above string or not\n",
        "print(re.search(\"rain\",txt))"
      ],
      "metadata": {
        "colab": {
          "base_uri": "https://localhost:8080/"
        },
        "id": "_mago86pm6yI",
        "outputId": "79253051-f09f-4e96-dd8a-e393cc3b1451"
      },
      "execution_count": null,
      "outputs": [
        {
          "output_type": "stream",
          "name": "stdout",
          "text": [
            "<re.Match object; span=(4, 8), match='rain'>\n"
          ]
        }
      ]
    },
    {
      "cell_type": "code",
      "source": [
        "#regex function:-\n",
        "#1.findall():- returns the list containg all matches\n",
        "#2.search():- returns the index position of 1st occurence\n",
        "#3.split():- returns a list where the string has been split\n",
        "#4.sub():- replace one or many matches"
      ],
      "metadata": {
        "id": "hVNyZNoxnF5M"
      },
      "execution_count": null,
      "outputs": []
    },
    {
      "cell_type": "code",
      "source": [
        "#basic syntax of regex\n",
        "\"\"\"1.dot(.)--> any character\n",
        "   2.^-->start of string\n",
        "   3.$--> end of the string\n",
        "   4.*--> 0 or more repeating elements\n",
        "   5.+--> 1 or more repeats\n",
        "   6.?--> 0 or 1\n",
        "   7.{n}--> exactly n times -->s{3}-->sss\n",
        "   8.{n,}--> at least n times -->p{6,}\n",
        "   9.{n,m}--> between the n and m times-->p{6,16}\n",
        "   10.[]--> set of characters--->[a-z]\"\"\""
      ],
      "metadata": {
        "id": "V-XNTZmUoTEH"
      },
      "execution_count": null,
      "outputs": []
    },
    {
      "cell_type": "code",
      "source": [
        "#find all the numbers in a string\n",
        "text = \"the prices for mangos are 45,89,90,120 rupees\"\n",
        "#common patterns in regex--> \\d--> digit[0-9]\n",
        "num =re.findall(r'\\d',text)\n",
        "print(num)"
      ],
      "metadata": {
        "colab": {
          "base_uri": "https://localhost:8080/"
        },
        "id": "xL9Z1pgxpw5g",
        "outputId": "2cb5e614-eacc-4b45-c4f3-aa95f7b9eed8"
      },
      "execution_count": null,
      "outputs": [
        {
          "output_type": "stream",
          "name": "stdout",
          "text": [
            "['4', '5', '8', '9', '9', '0', '1', '2', '0']\n"
          ]
        }
      ]
    },
    {
      "cell_type": "code",
      "source": [
        "num =re.findall(r'\\d+',text)\n",
        "print(num)"
      ],
      "metadata": {
        "colab": {
          "base_uri": "https://localhost:8080/"
        },
        "id": "PGYBc0Gxqhhc",
        "outputId": "ab922420-536d-48a9-9489-4318f2bde0e9"
      },
      "execution_count": null,
      "outputs": [
        {
          "output_type": "stream",
          "name": "stdout",
          "text": [
            "['45', '89', '90', '120']\n"
          ]
        }
      ]
    },
    {
      "cell_type": "code",
      "source": [
        "#validate an email?\n",
        "email = \"nawinchandra03@gmail.com\"\n",
        "pattern = r'^[a-zA-Z0-9._%+-]+@[a-zA-Z0-9.-]+\\.[a-zA-Z]{2,}$'--> #AI CODE\n",
        "pattern = r'^[a-zA-Z0-9]+@[a-z]+\\.[a-z]{2,}$' #common pattern -->\\w+-->(a-z,A-Z,0-9)\n",
        "if re.match(pattern,email):\n",
        "  print(\"valid email\")\n",
        "else:\n",
        "  print(\"invalid email\")\n"
      ],
      "metadata": {
        "colab": {
          "base_uri": "https://localhost:8080/"
        },
        "id": "w8TdiN3vqm3h",
        "outputId": "073379e7-3135-44ce-a549-bfe41be5a745"
      },
      "execution_count": null,
      "outputs": [
        {
          "output_type": "stream",
          "name": "stdout",
          "text": [
            "valid email\n"
          ]
        }
      ]
    },
    {
      "cell_type": "code",
      "source": [
        "#extract the words having special characters-->\n",
        "text = \"i like #python and #AI\"\n",
        "hashtag = re.findall(r'#\\w+',text)\n",
        "print(hashtag)"
      ],
      "metadata": {
        "colab": {
          "base_uri": "https://localhost:8080/"
        },
        "id": "CPbR79gjtjgs",
        "outputId": "f323e70d-0c9b-450d-feb6-3b423c1bcc18"
      },
      "execution_count": null,
      "outputs": [
        {
          "output_type": "stream",
          "name": "stdout",
          "text": [
            "['#python', '#AI']\n"
          ]
        }
      ]
    },
    {
      "cell_type": "code",
      "source": [
        "#replace the date format\n",
        "# (dd/mm/yyyyy) --> (yyyy-mm-dd)\n",
        "import re\n",
        "text = \"today is 21-05-2025\"\n",
        "new = re.sub(r'(\\d{2})-(\\d{2})-(\\d{4})', r'\\3-\\2-\\1',text)\n",
        "print(new)"
      ],
      "metadata": {
        "colab": {
          "base_uri": "https://localhost:8080/"
        },
        "id": "8gg5mrkBul-l",
        "outputId": "e2ccc2cd-c0aa-4ffa-8a3e-a9932e07662a"
      },
      "execution_count": null,
      "outputs": [
        {
          "output_type": "stream",
          "name": "stdout",
          "text": [
            "today is 2025-05-21\n"
          ]
        }
      ]
    },
    {
      "cell_type": "markdown",
      "source": [
        "**Iterators**"
      ],
      "metadata": {
        "id": "bIlRZw8VweO5"
      }
    },
    {
      "cell_type": "code",
      "source": [
        "#what is iterators?\n",
        "#iterators breaks large amount data into tiny chunks\n",
        "l = ['apple','banana','watermelon','blueberry']\n",
        "for i in l:\n",
        "  print(i)"
      ],
      "metadata": {
        "colab": {
          "base_uri": "https://localhost:8080/"
        },
        "id": "lN2aS0rjwkWz",
        "outputId": "814943b2-adff-4225-b390-59d2efc17a30"
      },
      "execution_count": null,
      "outputs": [
        {
          "output_type": "stream",
          "name": "stdout",
          "text": [
            "apple\n",
            "banana\n",
            "watermelon\n",
            "blueberry\n"
          ]
        }
      ]
    },
    {
      "cell_type": "code",
      "source": [
        "#how this iterators can be built?\n",
        "#iterators built based on two protocols\n",
        "#1. _iter_\n",
        "#2. _next_"
      ],
      "metadata": {
        "id": "TbJGCWD_xEKj"
      },
      "execution_count": null,
      "outputs": []
    },
    {
      "cell_type": "code",
      "source": [
        "l = ['apple','banana','watermelon','blueberry']\n",
        "i = iter(l)\n",
        "print(next(i))"
      ],
      "metadata": {
        "colab": {
          "base_uri": "https://localhost:8080/"
        },
        "id": "tlW9Tv46xd48",
        "outputId": "5f11c7ab-0fb1-4de3-ec8c-078f170be2ef"
      },
      "execution_count": null,
      "outputs": [
        {
          "output_type": "stream",
          "name": "stdout",
          "text": [
            "apple\n"
          ]
        }
      ]
    },
    {
      "cell_type": "markdown",
      "source": [
        "**pickling**"
      ],
      "metadata": {
        "id": "kViB02xJxtEy"
      }
    },
    {
      "cell_type": "code",
      "source": [
        "#what is pickling?\n",
        "\"\"\"the process of converting 2D data into 1D and again converting 1D(.point data) data into 2D(---line data) data is known as pickling\n",
        "#the process of serialization and deserialization is known as pickling\n",
        "#we are converting the data in the form of bytes\"\"\""
      ],
      "metadata": {
        "id": "ExKkdoJcxyIH"
      },
      "execution_count": null,
      "outputs": []
    },
    {
      "cell_type": "code",
      "source": [
        "import pickle\n",
        "data = {\n",
        "    'name':'john',\n",
        "    'age':'28',\n",
        "    'city':'hyd'\n",
        "}\n",
        "with open(\"ex_pickle\",\"wb\") as file:   #wb means write binary\n",
        "    pickle.dump(data,file) # This line needs to be indented\n",
        "    print(\"the data has pickled and saved in ex_pickle\") # This line also needs to be indented"
      ],
      "metadata": {
        "colab": {
          "base_uri": "https://localhost:8080/"
        },
        "id": "3yI19XU0y2KK",
        "outputId": "b189a897-9a0a-45da-d7a3-4529770f11ab"
      },
      "execution_count": null,
      "outputs": [
        {
          "output_type": "stream",
          "name": "stdout",
          "text": [
            "the data has pickled and saved in ex_pickle\n"
          ]
        }
      ]
    },
    {
      "cell_type": "code",
      "source": [
        "#deserialization\n",
        "with open('ex_pickle','rb') as file:\n",
        "  load_data = pickle.load(file)\n",
        "  print(\"the data has been deserialized\")\n",
        "  print(load_data)"
      ],
      "metadata": {
        "colab": {
          "base_uri": "https://localhost:8080/"
        },
        "id": "JdVmqR0P0X_8",
        "outputId": "9b78ae48-4418-4065-961e-e1e28bce1928"
      },
      "execution_count": null,
      "outputs": [
        {
          "output_type": "stream",
          "name": "stdout",
          "text": [
            "the data has been deserialized\n",
            "{'name': 'john', 'age': '28', 'city': 'hyd'}\n"
          ]
        }
      ]
    },
    {
      "cell_type": "code",
      "source": [
        "#my_sql_connector\n"
      ],
      "metadata": {
        "id": "TujSbb191Kqa"
      },
      "execution_count": null,
      "outputs": []
    },
    {
      "cell_type": "markdown",
      "source": [
        "**22-05-2025**"
      ],
      "metadata": {
        "id": "SKBYhdaQtkdh"
      }
    }
  ]
}